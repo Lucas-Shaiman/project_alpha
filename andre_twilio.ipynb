{
 "cells": [
  {
   "cell_type": "code",
   "execution_count": 147,
   "metadata": {},
   "outputs": [],
   "source": [
    "from yahoo_fin import stock_info as si\n",
    "from datetime import date\n",
    "from datetime import timedelta\n",
    "import os\n",
    "from twilio.rest import Client\n",
    "from dotenv import load_dotenv\n",
    "\n",
    "\n",
    "load_dotenv(\"../twilio.env\")\n",
    "account_sid = os.getenv(\"account_sid_twilio\")\n",
    "auth_token = os.getenv(\"auth_token_twilio\")\n",
    "sender = os.getenv(\"sender_twilio\")\n",
    "bindings = os.getenv(\"bindings_twilio\")\n",
    "client = Client(account_sid, auth_token)\n",
    "\n"
   ]
  },
  {
   "cell_type": "code",
   "execution_count": 148,
   "metadata": {},
   "outputs": [],
   "source": [
    "today = date.today()"
   ]
  },
  {
   "cell_type": "code",
   "execution_count": 149,
   "metadata": {},
   "outputs": [],
   "source": [
    "yesterday = today - timedelta(days = 6)"
   ]
  },
  {
   "cell_type": "code",
   "execution_count": 150,
   "metadata": {},
   "outputs": [
    {
     "data": {
      "text/plain": [
       "datetime.date(2021, 5, 8)"
      ]
     },
     "execution_count": 150,
     "metadata": {},
     "output_type": "execute_result"
    }
   ],
   "source": [
    "yesterday"
   ]
  },
  {
   "cell_type": "code",
   "execution_count": 151,
   "metadata": {},
   "outputs": [],
   "source": [
    "today = date.today()\n",
    "btc = get_data(\"btc-usd\", start_date=yesterday, end_date=today, index_as_date = True, interval=\"1d\")\n",
    "eth = get_data(\"eth-usd\", start_date=yesterday, end_date=today, index_as_date = True, interval=\"1d\")\n",
    "spy = get_data(\"spy\", start_date=yesterday, end_date=today, index_as_date = True, interval=\"1d\")\n",
    "gold = get_data(\"GLD\", start_date=yesterday, end_date=today, index_as_date = True, interval=\"1d\")\n",
    "tlt = get_data(\"tlt\", start_date=yesterday, end_date=today, index_as_date = True, interval=\"1d\")\n",
    "usd = get_data(\"dx-y.nyb\", start_date=yesterday, end_date=today, index_as_date = True, interval=\"1d\")"
   ]
  },
  {
   "cell_type": "code",
   "execution_count": 152,
   "metadata": {},
   "outputs": [
    {
     "data": {
      "text/html": [
       "<div>\n",
       "<style scoped>\n",
       "    .dataframe tbody tr th:only-of-type {\n",
       "        vertical-align: middle;\n",
       "    }\n",
       "\n",
       "    .dataframe tbody tr th {\n",
       "        vertical-align: top;\n",
       "    }\n",
       "\n",
       "    .dataframe thead th {\n",
       "        text-align: right;\n",
       "    }\n",
       "</style>\n",
       "<table border=\"1\" class=\"dataframe\">\n",
       "  <thead>\n",
       "    <tr style=\"text-align: right;\">\n",
       "      <th></th>\n",
       "      <th>BTC</th>\n",
       "      <th>ETH</th>\n",
       "      <th>SPY</th>\n",
       "      <th>TLT</th>\n",
       "      <th>GLD</th>\n",
       "      <th>USD</th>\n",
       "    </tr>\n",
       "  </thead>\n",
       "  <tbody>\n",
       "    <tr>\n",
       "      <th>2021-05-10</th>\n",
       "      <td>56704.574219</td>\n",
       "      <td>4168.701172</td>\n",
       "      <td>417.940002</td>\n",
       "      <td>172.110001</td>\n",
       "      <td>137.820007</td>\n",
       "      <td>90.209999</td>\n",
       "    </tr>\n",
       "    <tr>\n",
       "      <th>2021-05-11</th>\n",
       "      <td>49150.535156</td>\n",
       "      <td>3785.848633</td>\n",
       "      <td>414.209991</td>\n",
       "      <td>172.139999</td>\n",
       "      <td>137.039993</td>\n",
       "      <td>90.139999</td>\n",
       "    </tr>\n",
       "    <tr>\n",
       "      <th>2021-05-12</th>\n",
       "      <td>49716.191406</td>\n",
       "      <td>3715.148438</td>\n",
       "      <td>405.410004</td>\n",
       "      <td>170.429993</td>\n",
       "      <td>135.600006</td>\n",
       "      <td>90.709999</td>\n",
       "    </tr>\n",
       "  </tbody>\n",
       "</table>\n",
       "</div>"
      ],
      "text/plain": [
       "                     BTC          ETH         SPY         TLT         GLD  \\\n",
       "2021-05-10  56704.574219  4168.701172  417.940002  172.110001  137.820007   \n",
       "2021-05-11  49150.535156  3785.848633  414.209991  172.139999  137.039993   \n",
       "2021-05-12  49716.191406  3715.148438  405.410004  170.429993  135.600006   \n",
       "\n",
       "                  USD  \n",
       "2021-05-10  90.209999  \n",
       "2021-05-11  90.139999  \n",
       "2021-05-12  90.709999  "
      ]
     },
     "execution_count": 152,
     "metadata": {},
     "output_type": "execute_result"
    }
   ],
   "source": [
    "column = ['BTC', 'ETH', 'SPY', 'TLT', 'GLD', 'USD']\n",
    "\n",
    "combined_df = pd.concat([btc['close'], eth['close'], spy['close'], gold['close'], tlt['close'], usd['close']], axis=\"columns\", join=\"inner\")\n",
    "combined_df.columns = column\n",
    "combined_df\n"
   ]
  },
  {
   "cell_type": "code",
   "execution_count": 153,
   "metadata": {},
   "outputs": [
    {
     "data": {
      "text/html": [
       "<div>\n",
       "<style scoped>\n",
       "    .dataframe tbody tr th:only-of-type {\n",
       "        vertical-align: middle;\n",
       "    }\n",
       "\n",
       "    .dataframe tbody tr th {\n",
       "        vertical-align: top;\n",
       "    }\n",
       "\n",
       "    .dataframe thead th {\n",
       "        text-align: right;\n",
       "    }\n",
       "</style>\n",
       "<table border=\"1\" class=\"dataframe\">\n",
       "  <thead>\n",
       "    <tr style=\"text-align: right;\">\n",
       "      <th></th>\n",
       "      <th>BTC</th>\n",
       "      <th>ETH</th>\n",
       "      <th>SPY</th>\n",
       "      <th>TLT</th>\n",
       "      <th>GLD</th>\n",
       "      <th>USD</th>\n",
       "    </tr>\n",
       "  </thead>\n",
       "  <tbody>\n",
       "    <tr>\n",
       "      <th>2021-05-10</th>\n",
       "      <td>56704.574219</td>\n",
       "      <td>4168.701172</td>\n",
       "      <td>417.940002</td>\n",
       "      <td>172.110001</td>\n",
       "      <td>137.820007</td>\n",
       "      <td>90.209999</td>\n",
       "    </tr>\n",
       "    <tr>\n",
       "      <th>2021-05-11</th>\n",
       "      <td>49150.535156</td>\n",
       "      <td>3785.848633</td>\n",
       "      <td>414.209991</td>\n",
       "      <td>172.139999</td>\n",
       "      <td>137.039993</td>\n",
       "      <td>90.139999</td>\n",
       "    </tr>\n",
       "    <tr>\n",
       "      <th>2021-05-12</th>\n",
       "      <td>49716.191406</td>\n",
       "      <td>3715.148438</td>\n",
       "      <td>405.410004</td>\n",
       "      <td>170.429993</td>\n",
       "      <td>135.600006</td>\n",
       "      <td>90.709999</td>\n",
       "    </tr>\n",
       "  </tbody>\n",
       "</table>\n",
       "</div>"
      ],
      "text/plain": [
       "                     BTC          ETH         SPY         TLT         GLD  \\\n",
       "2021-05-10  56704.574219  4168.701172  417.940002  172.110001  137.820007   \n",
       "2021-05-11  49150.535156  3785.848633  414.209991  172.139999  137.039993   \n",
       "2021-05-12  49716.191406  3715.148438  405.410004  170.429993  135.600006   \n",
       "\n",
       "                  USD  \n",
       "2021-05-10  90.209999  \n",
       "2021-05-11  90.139999  \n",
       "2021-05-12  90.709999  "
      ]
     },
     "execution_count": 153,
     "metadata": {},
     "output_type": "execute_result"
    }
   ],
   "source": [
    "combined_df.dropna()"
   ]
  },
  {
   "cell_type": "code",
   "execution_count": 168,
   "metadata": {},
   "outputs": [],
   "source": [
    "last = combined_df.iloc[-1]\n",
    "today = combined_df.iloc[-2]"
   ]
  },
  {
   "cell_type": "code",
   "execution_count": 169,
   "metadata": {},
   "outputs": [
    {
     "data": {
      "text/plain": [
       "BTC    49150.535156\n",
       "ETH     3785.848633\n",
       "SPY      414.209991\n",
       "TLT      172.139999\n",
       "GLD      137.039993\n",
       "USD       90.139999\n",
       "Name: 2021-05-11 00:00:00, dtype: float64"
      ]
     },
     "execution_count": 169,
     "metadata": {},
     "output_type": "execute_result"
    }
   ],
   "source": [
    "today"
   ]
  },
  {
   "cell_type": "code",
   "execution_count": 170,
   "metadata": {},
   "outputs": [
    {
     "data": {
      "text/plain": [
       "BTC    49716.191406\n",
       "ETH     3715.148438\n",
       "SPY      405.410004\n",
       "TLT      170.429993\n",
       "GLD      135.600006\n",
       "USD       90.709999\n",
       "Name: 2021-05-12 00:00:00, dtype: float64"
      ]
     },
     "execution_count": 170,
     "metadata": {},
     "output_type": "execute_result"
    }
   ],
   "source": [
    "last"
   ]
  },
  {
   "cell_type": "code",
   "execution_count": 171,
   "metadata": {},
   "outputs": [
    {
     "data": {
      "text/plain": [
       "BTC   -1.137771\n",
       "ETH    1.903025\n",
       "SPY    2.170639\n",
       "TLT    1.003348\n",
       "GLD    1.061937\n",
       "USD   -0.628376\n",
       "dtype: float64"
      ]
     },
     "execution_count": 171,
     "metadata": {},
     "output_type": "execute_result"
    }
   ],
   "source": [
    "daily_change = ((today - last) / last) * 100\n",
    "daily_change "
   ]
  },
  {
   "cell_type": "code",
   "execution_count": 172,
   "metadata": {},
   "outputs": [
    {
     "data": {
      "text/plain": [
       "-1.1377706819450562"
      ]
     },
     "execution_count": 172,
     "metadata": {},
     "output_type": "execute_result"
    }
   ],
   "source": [
    "daily_change.iloc[0]"
   ]
  },
  {
   "cell_type": "code",
   "execution_count": 176,
   "metadata": {},
   "outputs": [
    {
     "data": {
      "text/plain": [
       "' BTC - SELL\\n ETH - BUY\\n SPY - BUY\\n TLT - BUY\\n GLD - BUY\\n USD - HOLD\\n'"
      ]
     },
     "execution_count": 176,
     "metadata": {},
     "output_type": "execute_result"
    }
   ],
   "source": [
    "twilio_message1 = ''\n",
    "\n",
    "for index, asset in daily_change.iteritems(): \n",
    "    if asset > 1:  \n",
    "        twilio_message1 = twilio_message1 + \" \" + f\"{index} - BUY\" + \"\\n\"\n",
    "    elif asset < -1:\n",
    "        twilio_message1 = twilio_message1 + \" \" + f\"{index} - SELL\" + \"\\n\"\n",
    "    else:\n",
    "        twilio_message1 = twilio_message1 + \" \" + f\"{index} - HOLD\" + \"\\n\"\n",
    "\n",
    "\n",
    "twilio_message1"
   ]
  },
  {
   "cell_type": "code",
   "execution_count": 177,
   "metadata": {},
   "outputs": [
    {
     "name": "stdout",
     "output_type": "stream",
     "text": [
      " BTC - SELL\n",
      " ETH - BUY\n",
      " SPY - BUY\n",
      " TLT - BUY\n",
      " GLD - BUY\n",
      " USD - HOLD\n",
      "\n"
     ]
    }
   ],
   "source": [
    "print(twilio_message1)"
   ]
  },
  {
   "cell_type": "code",
   "execution_count": 178,
   "metadata": {},
   "outputs": [
    {
     "name": "stdout",
     "output_type": "stream",
     "text": [
      "SM89b69d9adf65409ba12299468c6625ce\n"
     ]
    }
   ],
   "source": [
    "body = twilio_message1\n",
    "\n",
    "\n",
    "message = client.messages.create(\n",
    "                     body=body,            \n",
    "                     from_= sender,\n",
    "                     to =bindings\n",
    ")\n",
    "print(message.sid)\n"
   ]
  },
  {
   "cell_type": "code",
   "execution_count": null,
   "metadata": {},
   "outputs": [],
   "source": []
  },
  {
   "cell_type": "code",
   "execution_count": null,
   "metadata": {},
   "outputs": [],
   "source": []
  },
  {
   "cell_type": "code",
   "execution_count": null,
   "metadata": {},
   "outputs": [],
   "source": []
  }
 ],
 "metadata": {
  "kernelspec": {
   "display_name": "Python 3",
   "language": "python",
   "name": "python3"
  },
  "language_info": {
   "codemirror_mode": {
    "name": "ipython",
    "version": 3
   },
   "file_extension": ".py",
   "mimetype": "text/x-python",
   "name": "python",
   "nbconvert_exporter": "python",
   "pygments_lexer": "ipython3",
   "version": "3.7.9"
  }
 },
 "nbformat": 4,
 "nbformat_minor": 4
}
