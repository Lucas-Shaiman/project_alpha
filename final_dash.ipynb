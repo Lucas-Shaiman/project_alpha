{
 "cells": [
  {
   "cell_type": "code",
   "execution_count": 17,
   "metadata": {},
   "outputs": [
    {
     "data": {
      "application/javascript": [
       "\n",
       "(function(root) {\n",
       "  function now() {\n",
       "    return new Date();\n",
       "  }\n",
       "\n",
       "  var force = true;\n",
       "\n",
       "  if (typeof root._bokeh_onload_callbacks === \"undefined\" || force === true) {\n",
       "    root._bokeh_onload_callbacks = [];\n",
       "    root._bokeh_is_loading = undefined;\n",
       "  }\n",
       "\n",
       "  if (typeof (root._bokeh_timeout) === \"undefined\" || force === true) {\n",
       "    root._bokeh_timeout = Date.now() + 5000;\n",
       "    root._bokeh_failed_load = false;\n",
       "  }\n",
       "\n",
       "  function run_callbacks() {\n",
       "    try {\n",
       "      root._bokeh_onload_callbacks.forEach(function(callback) {\n",
       "        if (callback != null)\n",
       "          callback();\n",
       "      });\n",
       "    } finally {\n",
       "      delete root._bokeh_onload_callbacks\n",
       "    }\n",
       "    console.debug(\"Bokeh: all callbacks have finished\");\n",
       "  }\n",
       "\n",
       "  function load_libs(css_urls, js_urls, callback) {\n",
       "    if (css_urls == null) css_urls = [];\n",
       "    if (js_urls == null) js_urls = [];\n",
       "\n",
       "    root._bokeh_onload_callbacks.push(callback);\n",
       "    if (root._bokeh_is_loading > 0) {\n",
       "      console.debug(\"Bokeh: BokehJS is being loaded, scheduling callback at\", now());\n",
       "      return null;\n",
       "    }\n",
       "    if (js_urls == null || js_urls.length === 0) {\n",
       "      run_callbacks();\n",
       "      return null;\n",
       "    }\n",
       "    console.debug(\"Bokeh: BokehJS not loaded, scheduling load and callback at\", now());\n",
       "    root._bokeh_is_loading = css_urls.length + js_urls.length;\n",
       "\n",
       "    function on_load() {\n",
       "      root._bokeh_is_loading--;\n",
       "      if (root._bokeh_is_loading === 0) {\n",
       "        console.debug(\"Bokeh: all BokehJS libraries/stylesheets loaded\");\n",
       "        run_callbacks()\n",
       "      }\n",
       "    }\n",
       "\n",
       "    function on_error() {\n",
       "      console.error(\"failed to load \" + url);\n",
       "    }\n",
       "\n",
       "    for (var i = 0; i < css_urls.length; i++) {\n",
       "      var url = css_urls[i];\n",
       "      const element = document.createElement(\"link\");\n",
       "      element.onload = on_load;\n",
       "      element.onerror = on_error;\n",
       "      element.rel = \"stylesheet\";\n",
       "      element.type = \"text/css\";\n",
       "      element.href = url;\n",
       "      console.debug(\"Bokeh: injecting link tag for BokehJS stylesheet: \", url);\n",
       "      document.body.appendChild(element);\n",
       "    }\n",
       "\n",
       "    var skip = [];\n",
       "    if (window.requirejs) {\n",
       "      window.requirejs.config({'paths': {'plotly': 'https://cdn.plot.ly/plotly-latest.min'}});\n",
       "      require([], function() {\n",
       "      })\n",
       "    }\n",
       "    if (((window['Plotly'] !== undefined) && (!(window['Plotly'] instanceof HTMLElement))) || window.requirejs) {\n",
       "      var urls = ['https://cdn.plot.ly/plotly-latest.min.js'];\n",
       "      for (var i = 0; i < urls.length; i++) {\n",
       "        skip.push(urls[i])\n",
       "      }\n",
       "    }\n",
       "    for (var i = 0; i < js_urls.length; i++) {\n",
       "      var url = js_urls[i];\n",
       "      if (skip.indexOf(url) >= 0) { on_load(); continue; }\n",
       "      var element = document.createElement('script');\n",
       "      element.onload = on_load;\n",
       "      element.onerror = on_error;\n",
       "      element.async = false;\n",
       "      element.src = url;\n",
       "      console.debug(\"Bokeh: injecting script tag for BokehJS library: \", url);\n",
       "      document.head.appendChild(element);\n",
       "    }\n",
       "\tif (!js_urls.length) {\n",
       "      on_load()\n",
       "    }\n",
       "  };\n",
       "\n",
       "  function inject_raw_css(css) {\n",
       "    const element = document.createElement(\"style\");\n",
       "    element.appendChild(document.createTextNode(css));\n",
       "    document.body.appendChild(element);\n",
       "  }\n",
       "\n",
       "  var js_urls = [\"https://code.jquery.com/jquery-3.4.1.min.js\", \"https://cdn.plot.ly/plotly-latest.min.js\", \"https://cdn.bokeh.org/bokeh/release/bokeh-2.2.3.min.js\", \"https://cdn.bokeh.org/bokeh/release/bokeh-widgets-2.2.3.min.js\", \"https://cdn.bokeh.org/bokeh/release/bokeh-tables-2.2.3.min.js\", \"https://unpkg.com/@holoviz/panel@^0.10.3/dist/panel.min.js\"];\n",
       "  var css_urls = [\"https://unpkg.com/@holoviz/panel@0.10.3/dist/css/alerts.css\", \"https://unpkg.com/@holoviz/panel@0.10.3/dist/css/card.css\", \"https://unpkg.com/@holoviz/panel@0.10.3/dist/css/dataframe.css\", \"https://unpkg.com/@holoviz/panel@0.10.3/dist/css/json.css\", \"https://unpkg.com/@holoviz/panel@0.10.3/dist/css/markdown.css\", \"https://unpkg.com/@holoviz/panel@0.10.3/dist/css/widgets.css\"];\n",
       "\n",
       "  var inline_js = [\n",
       "    function(Bokeh) {\n",
       "      Bokeh.set_log_level(\"info\");\n",
       "    },\n",
       "    function(Bokeh) {} // ensure no trailing comma for IE\n",
       "  ];\n",
       "\n",
       "  function run_inline_js() {\n",
       "    if ((root.Bokeh !== undefined) || (force === true)) {\n",
       "      for (var i = 0; i < inline_js.length; i++) {\n",
       "        inline_js[i].call(root, root.Bokeh);\n",
       "      }} else if (Date.now() < root._bokeh_timeout) {\n",
       "      setTimeout(run_inline_js, 100);\n",
       "    } else if (!root._bokeh_failed_load) {\n",
       "      console.log(\"Bokeh: BokehJS failed to load within specified timeout.\");\n",
       "      root._bokeh_failed_load = true;\n",
       "    }\n",
       "  }\n",
       "\n",
       "  if (root._bokeh_is_loading === 0) {\n",
       "    console.debug(\"Bokeh: BokehJS loaded, going straight to plotting\");\n",
       "    run_inline_js();\n",
       "  } else {\n",
       "    load_libs(css_urls, js_urls, function() {\n",
       "      console.debug(\"Bokeh: BokehJS plotting callback run at\", now());\n",
       "      run_inline_js();\n",
       "    });\n",
       "  }\n",
       "}(window));"
      ],
      "application/vnd.holoviews_load.v0+json": "\n(function(root) {\n  function now() {\n    return new Date();\n  }\n\n  var force = true;\n\n  if (typeof root._bokeh_onload_callbacks === \"undefined\" || force === true) {\n    root._bokeh_onload_callbacks = [];\n    root._bokeh_is_loading = undefined;\n  }\n\n  if (typeof (root._bokeh_timeout) === \"undefined\" || force === true) {\n    root._bokeh_timeout = Date.now() + 5000;\n    root._bokeh_failed_load = false;\n  }\n\n  function run_callbacks() {\n    try {\n      root._bokeh_onload_callbacks.forEach(function(callback) {\n        if (callback != null)\n          callback();\n      });\n    } finally {\n      delete root._bokeh_onload_callbacks\n    }\n    console.debug(\"Bokeh: all callbacks have finished\");\n  }\n\n  function load_libs(css_urls, js_urls, callback) {\n    if (css_urls == null) css_urls = [];\n    if (js_urls == null) js_urls = [];\n\n    root._bokeh_onload_callbacks.push(callback);\n    if (root._bokeh_is_loading > 0) {\n      console.debug(\"Bokeh: BokehJS is being loaded, scheduling callback at\", now());\n      return null;\n    }\n    if (js_urls == null || js_urls.length === 0) {\n      run_callbacks();\n      return null;\n    }\n    console.debug(\"Bokeh: BokehJS not loaded, scheduling load and callback at\", now());\n    root._bokeh_is_loading = css_urls.length + js_urls.length;\n\n    function on_load() {\n      root._bokeh_is_loading--;\n      if (root._bokeh_is_loading === 0) {\n        console.debug(\"Bokeh: all BokehJS libraries/stylesheets loaded\");\n        run_callbacks()\n      }\n    }\n\n    function on_error() {\n      console.error(\"failed to load \" + url);\n    }\n\n    for (var i = 0; i < css_urls.length; i++) {\n      var url = css_urls[i];\n      const element = document.createElement(\"link\");\n      element.onload = on_load;\n      element.onerror = on_error;\n      element.rel = \"stylesheet\";\n      element.type = \"text/css\";\n      element.href = url;\n      console.debug(\"Bokeh: injecting link tag for BokehJS stylesheet: \", url);\n      document.body.appendChild(element);\n    }\n\n    var skip = [];\n    if (window.requirejs) {\n      window.requirejs.config({'paths': {'plotly': 'https://cdn.plot.ly/plotly-latest.min'}});\n      require([], function() {\n      })\n    }\n    if (((window['Plotly'] !== undefined) && (!(window['Plotly'] instanceof HTMLElement))) || window.requirejs) {\n      var urls = ['https://cdn.plot.ly/plotly-latest.min.js'];\n      for (var i = 0; i < urls.length; i++) {\n        skip.push(urls[i])\n      }\n    }\n    for (var i = 0; i < js_urls.length; i++) {\n      var url = js_urls[i];\n      if (skip.indexOf(url) >= 0) { on_load(); continue; }\n      var element = document.createElement('script');\n      element.onload = on_load;\n      element.onerror = on_error;\n      element.async = false;\n      element.src = url;\n      console.debug(\"Bokeh: injecting script tag for BokehJS library: \", url);\n      document.head.appendChild(element);\n    }\n\tif (!js_urls.length) {\n      on_load()\n    }\n  };\n\n  function inject_raw_css(css) {\n    const element = document.createElement(\"style\");\n    element.appendChild(document.createTextNode(css));\n    document.body.appendChild(element);\n  }\n\n  var js_urls = [\"https://code.jquery.com/jquery-3.4.1.min.js\", \"https://cdn.plot.ly/plotly-latest.min.js\", \"https://cdn.bokeh.org/bokeh/release/bokeh-2.2.3.min.js\", \"https://cdn.bokeh.org/bokeh/release/bokeh-widgets-2.2.3.min.js\", \"https://cdn.bokeh.org/bokeh/release/bokeh-tables-2.2.3.min.js\", \"https://unpkg.com/@holoviz/panel@^0.10.3/dist/panel.min.js\"];\n  var css_urls = [\"https://unpkg.com/@holoviz/panel@0.10.3/dist/css/alerts.css\", \"https://unpkg.com/@holoviz/panel@0.10.3/dist/css/card.css\", \"https://unpkg.com/@holoviz/panel@0.10.3/dist/css/dataframe.css\", \"https://unpkg.com/@holoviz/panel@0.10.3/dist/css/json.css\", \"https://unpkg.com/@holoviz/panel@0.10.3/dist/css/markdown.css\", \"https://unpkg.com/@holoviz/panel@0.10.3/dist/css/widgets.css\"];\n\n  var inline_js = [\n    function(Bokeh) {\n      Bokeh.set_log_level(\"info\");\n    },\n    function(Bokeh) {} // ensure no trailing comma for IE\n  ];\n\n  function run_inline_js() {\n    if ((root.Bokeh !== undefined) || (force === true)) {\n      for (var i = 0; i < inline_js.length; i++) {\n        inline_js[i].call(root, root.Bokeh);\n      }} else if (Date.now() < root._bokeh_timeout) {\n      setTimeout(run_inline_js, 100);\n    } else if (!root._bokeh_failed_load) {\n      console.log(\"Bokeh: BokehJS failed to load within specified timeout.\");\n      root._bokeh_failed_load = true;\n    }\n  }\n\n  if (root._bokeh_is_loading === 0) {\n    console.debug(\"Bokeh: BokehJS loaded, going straight to plotting\");\n    run_inline_js();\n  } else {\n    load_libs(css_urls, js_urls, function() {\n      console.debug(\"Bokeh: BokehJS plotting callback run at\", now());\n      run_inline_js();\n    });\n  }\n}(window));"
     },
     "metadata": {},
     "output_type": "display_data"
    },
    {
     "data": {
      "application/javascript": [
       "\n",
       "if ((window.PyViz === undefined) || (window.PyViz instanceof HTMLElement)) {\n",
       "  window.PyViz = {comms: {}, comm_status:{}, kernels:{}, receivers: {}, plot_index: []}\n",
       "}\n",
       "\n",
       "\n",
       "    function JupyterCommManager() {\n",
       "    }\n",
       "\n",
       "    JupyterCommManager.prototype.register_target = function(plot_id, comm_id, msg_handler) {\n",
       "      if (window.comm_manager || ((window.Jupyter !== undefined) && (Jupyter.notebook.kernel != null))) {\n",
       "        var comm_manager = window.comm_manager || Jupyter.notebook.kernel.comm_manager;\n",
       "        comm_manager.register_target(comm_id, function(comm) {\n",
       "          comm.on_msg(msg_handler);\n",
       "        });\n",
       "      } else if ((plot_id in window.PyViz.kernels) && (window.PyViz.kernels[plot_id])) {\n",
       "        window.PyViz.kernels[plot_id].registerCommTarget(comm_id, function(comm) {\n",
       "          comm.onMsg = msg_handler;\n",
       "        });\n",
       "      } else if (typeof google != 'undefined' && google.colab.kernel != null) {\n",
       "        google.colab.kernel.comms.registerTarget(comm_id, (comm) => {\n",
       "          var messages = comm.messages[Symbol.asyncIterator]();\n",
       "          function processIteratorResult(result) {\n",
       "            var message = result.value;\n",
       "            console.log(message)\n",
       "            var content = {data: message.data, comm_id};\n",
       "            var buffers = []\n",
       "            for (var buffer of message.buffers || []) {\n",
       "              buffers.push(new DataView(buffer))\n",
       "            }\n",
       "            var metadata = message.metadata || {};\n",
       "            var msg = {content, buffers, metadata}\n",
       "            msg_handler(msg);\n",
       "            return messages.next().then(processIteratorResult);\n",
       "          }\n",
       "          return messages.next().then(processIteratorResult);\n",
       "        })\n",
       "      }\n",
       "    }\n",
       "\n",
       "    JupyterCommManager.prototype.get_client_comm = function(plot_id, comm_id, msg_handler) {\n",
       "      if (comm_id in window.PyViz.comms) {\n",
       "        return window.PyViz.comms[comm_id];\n",
       "      } else if (window.comm_manager || ((window.Jupyter !== undefined) && (Jupyter.notebook.kernel != null))) {\n",
       "        var comm_manager = window.comm_manager || Jupyter.notebook.kernel.comm_manager;\n",
       "        var comm = comm_manager.new_comm(comm_id, {}, {}, {}, comm_id);\n",
       "        if (msg_handler) {\n",
       "          comm.on_msg(msg_handler);\n",
       "        }\n",
       "      } else if ((plot_id in window.PyViz.kernels) && (window.PyViz.kernels[plot_id])) {\n",
       "        var comm = window.PyViz.kernels[plot_id].connectToComm(comm_id);\n",
       "        comm.open();\n",
       "        if (msg_handler) {\n",
       "          comm.onMsg = msg_handler;\n",
       "        }\n",
       "      } else if (typeof google != 'undefined' && google.colab.kernel != null) {\n",
       "        var comm_promise = google.colab.kernel.comms.open(comm_id)\n",
       "        comm_promise.then((comm) => {\n",
       "          window.PyViz.comms[comm_id] = comm;\n",
       "          if (msg_handler) {\n",
       "            var messages = comm.messages[Symbol.asyncIterator]();\n",
       "            function processIteratorResult(result) {\n",
       "              var message = result.value;\n",
       "              var content = {data: message.data};\n",
       "              var metadata = message.metadata || {comm_id};\n",
       "              var msg = {content, metadata}\n",
       "              msg_handler(msg);\n",
       "              return messages.next().then(processIteratorResult);\n",
       "            }\n",
       "            return messages.next().then(processIteratorResult);\n",
       "          }\n",
       "        }) \n",
       "        var sendClosure = (data, metadata, buffers, disposeOnDone) => {\n",
       "          return comm_promise.then((comm) => {\n",
       "            comm.send(data, metadata, buffers, disposeOnDone);\n",
       "          });\n",
       "        };\n",
       "        var comm = {\n",
       "          send: sendClosure\n",
       "        };\n",
       "      }\n",
       "      window.PyViz.comms[comm_id] = comm;\n",
       "      return comm;\n",
       "    }\n",
       "    window.PyViz.comm_manager = new JupyterCommManager();\n",
       "    \n",
       "\n",
       "\n",
       "var JS_MIME_TYPE = 'application/javascript';\n",
       "var HTML_MIME_TYPE = 'text/html';\n",
       "var EXEC_MIME_TYPE = 'application/vnd.holoviews_exec.v0+json';\n",
       "var CLASS_NAME = 'output';\n",
       "\n",
       "/**\n",
       " * Render data to the DOM node\n",
       " */\n",
       "function render(props, node) {\n",
       "  var div = document.createElement(\"div\");\n",
       "  var script = document.createElement(\"script\");\n",
       "  node.appendChild(div);\n",
       "  node.appendChild(script);\n",
       "}\n",
       "\n",
       "/**\n",
       " * Handle when a new output is added\n",
       " */\n",
       "function handle_add_output(event, handle) {\n",
       "  var output_area = handle.output_area;\n",
       "  var output = handle.output;\n",
       "  if ((output.data == undefined) || (!output.data.hasOwnProperty(EXEC_MIME_TYPE))) {\n",
       "    return\n",
       "  }\n",
       "  var id = output.metadata[EXEC_MIME_TYPE][\"id\"];\n",
       "  var toinsert = output_area.element.find(\".\" + CLASS_NAME.split(' ')[0]);\n",
       "  if (id !== undefined) {\n",
       "    var nchildren = toinsert.length;\n",
       "    var html_node = toinsert[nchildren-1].children[0];\n",
       "    html_node.innerHTML = output.data[HTML_MIME_TYPE];\n",
       "    var scripts = [];\n",
       "    var nodelist = html_node.querySelectorAll(\"script\");\n",
       "    for (var i in nodelist) {\n",
       "      if (nodelist.hasOwnProperty(i)) {\n",
       "        scripts.push(nodelist[i])\n",
       "      }\n",
       "    }\n",
       "\n",
       "    scripts.forEach( function (oldScript) {\n",
       "      var newScript = document.createElement(\"script\");\n",
       "      var attrs = [];\n",
       "      var nodemap = oldScript.attributes;\n",
       "      for (var j in nodemap) {\n",
       "        if (nodemap.hasOwnProperty(j)) {\n",
       "          attrs.push(nodemap[j])\n",
       "        }\n",
       "      }\n",
       "      attrs.forEach(function(attr) { newScript.setAttribute(attr.name, attr.value) });\n",
       "      newScript.appendChild(document.createTextNode(oldScript.innerHTML));\n",
       "      oldScript.parentNode.replaceChild(newScript, oldScript);\n",
       "    });\n",
       "    if (JS_MIME_TYPE in output.data) {\n",
       "      toinsert[nchildren-1].children[1].textContent = output.data[JS_MIME_TYPE];\n",
       "    }\n",
       "    output_area._hv_plot_id = id;\n",
       "    if ((window.Bokeh !== undefined) && (id in Bokeh.index)) {\n",
       "      window.PyViz.plot_index[id] = Bokeh.index[id];\n",
       "    } else {\n",
       "      window.PyViz.plot_index[id] = null;\n",
       "    }\n",
       "  } else if (output.metadata[EXEC_MIME_TYPE][\"server_id\"] !== undefined) {\n",
       "    var bk_div = document.createElement(\"div\");\n",
       "    bk_div.innerHTML = output.data[HTML_MIME_TYPE];\n",
       "    var script_attrs = bk_div.children[0].attributes;\n",
       "    for (var i = 0; i < script_attrs.length; i++) {\n",
       "      toinsert[toinsert.length - 1].childNodes[1].setAttribute(script_attrs[i].name, script_attrs[i].value);\n",
       "    }\n",
       "    // store reference to server id on output_area\n",
       "    output_area._bokeh_server_id = output.metadata[EXEC_MIME_TYPE][\"server_id\"];\n",
       "  }\n",
       "}\n",
       "\n",
       "/**\n",
       " * Handle when an output is cleared or removed\n",
       " */\n",
       "function handle_clear_output(event, handle) {\n",
       "  var id = handle.cell.output_area._hv_plot_id;\n",
       "  var server_id = handle.cell.output_area._bokeh_server_id;\n",
       "  if (((id === undefined) || !(id in PyViz.plot_index)) && (server_id !== undefined)) { return; }\n",
       "  var comm = window.PyViz.comm_manager.get_client_comm(\"hv-extension-comm\", \"hv-extension-comm\", function () {});\n",
       "  if (server_id !== null) {\n",
       "    comm.send({event_type: 'server_delete', 'id': server_id});\n",
       "    return;\n",
       "  } else if (comm !== null) {\n",
       "    comm.send({event_type: 'delete', 'id': id});\n",
       "  }\n",
       "  delete PyViz.plot_index[id];\n",
       "  if ((window.Bokeh !== undefined) & (id in window.Bokeh.index)) {\n",
       "    var doc = window.Bokeh.index[id].model.document\n",
       "    doc.clear();\n",
       "    const i = window.Bokeh.documents.indexOf(doc);\n",
       "    if (i > -1) {\n",
       "      window.Bokeh.documents.splice(i, 1);\n",
       "    }\n",
       "  }\n",
       "}\n",
       "\n",
       "/**\n",
       " * Handle kernel restart event\n",
       " */\n",
       "function handle_kernel_cleanup(event, handle) {\n",
       "  delete PyViz.comms[\"hv-extension-comm\"];\n",
       "  window.PyViz.plot_index = {}\n",
       "}\n",
       "\n",
       "/**\n",
       " * Handle update_display_data messages\n",
       " */\n",
       "function handle_update_output(event, handle) {\n",
       "  handle_clear_output(event, {cell: {output_area: handle.output_area}})\n",
       "  handle_add_output(event, handle)\n",
       "}\n",
       "\n",
       "function register_renderer(events, OutputArea) {\n",
       "  function append_mime(data, metadata, element) {\n",
       "    // create a DOM node to render to\n",
       "    var toinsert = this.create_output_subarea(\n",
       "    metadata,\n",
       "    CLASS_NAME,\n",
       "    EXEC_MIME_TYPE\n",
       "    );\n",
       "    this.keyboard_manager.register_events(toinsert);\n",
       "    // Render to node\n",
       "    var props = {data: data, metadata: metadata[EXEC_MIME_TYPE]};\n",
       "    render(props, toinsert[0]);\n",
       "    element.append(toinsert);\n",
       "    return toinsert\n",
       "  }\n",
       "\n",
       "  events.on('output_added.OutputArea', handle_add_output);\n",
       "  events.on('output_updated.OutputArea', handle_update_output);\n",
       "  events.on('clear_output.CodeCell', handle_clear_output);\n",
       "  events.on('delete.Cell', handle_clear_output);\n",
       "  events.on('kernel_ready.Kernel', handle_kernel_cleanup);\n",
       "\n",
       "  OutputArea.prototype.register_mime_type(EXEC_MIME_TYPE, append_mime, {\n",
       "    safe: true,\n",
       "    index: 0\n",
       "  });\n",
       "}\n",
       "\n",
       "if (window.Jupyter !== undefined) {\n",
       "  try {\n",
       "    var events = require('base/js/events');\n",
       "    var OutputArea = require('notebook/js/outputarea').OutputArea;\n",
       "    if (OutputArea.prototype.mime_types().indexOf(EXEC_MIME_TYPE) == -1) {\n",
       "      register_renderer(events, OutputArea);\n",
       "    }\n",
       "  } catch(err) {\n",
       "  }\n",
       "}\n"
      ],
      "application/vnd.holoviews_load.v0+json": "\nif ((window.PyViz === undefined) || (window.PyViz instanceof HTMLElement)) {\n  window.PyViz = {comms: {}, comm_status:{}, kernels:{}, receivers: {}, plot_index: []}\n}\n\n\n    function JupyterCommManager() {\n    }\n\n    JupyterCommManager.prototype.register_target = function(plot_id, comm_id, msg_handler) {\n      if (window.comm_manager || ((window.Jupyter !== undefined) && (Jupyter.notebook.kernel != null))) {\n        var comm_manager = window.comm_manager || Jupyter.notebook.kernel.comm_manager;\n        comm_manager.register_target(comm_id, function(comm) {\n          comm.on_msg(msg_handler);\n        });\n      } else if ((plot_id in window.PyViz.kernels) && (window.PyViz.kernels[plot_id])) {\n        window.PyViz.kernels[plot_id].registerCommTarget(comm_id, function(comm) {\n          comm.onMsg = msg_handler;\n        });\n      } else if (typeof google != 'undefined' && google.colab.kernel != null) {\n        google.colab.kernel.comms.registerTarget(comm_id, (comm) => {\n          var messages = comm.messages[Symbol.asyncIterator]();\n          function processIteratorResult(result) {\n            var message = result.value;\n            console.log(message)\n            var content = {data: message.data, comm_id};\n            var buffers = []\n            for (var buffer of message.buffers || []) {\n              buffers.push(new DataView(buffer))\n            }\n            var metadata = message.metadata || {};\n            var msg = {content, buffers, metadata}\n            msg_handler(msg);\n            return messages.next().then(processIteratorResult);\n          }\n          return messages.next().then(processIteratorResult);\n        })\n      }\n    }\n\n    JupyterCommManager.prototype.get_client_comm = function(plot_id, comm_id, msg_handler) {\n      if (comm_id in window.PyViz.comms) {\n        return window.PyViz.comms[comm_id];\n      } else if (window.comm_manager || ((window.Jupyter !== undefined) && (Jupyter.notebook.kernel != null))) {\n        var comm_manager = window.comm_manager || Jupyter.notebook.kernel.comm_manager;\n        var comm = comm_manager.new_comm(comm_id, {}, {}, {}, comm_id);\n        if (msg_handler) {\n          comm.on_msg(msg_handler);\n        }\n      } else if ((plot_id in window.PyViz.kernels) && (window.PyViz.kernels[plot_id])) {\n        var comm = window.PyViz.kernels[plot_id].connectToComm(comm_id);\n        comm.open();\n        if (msg_handler) {\n          comm.onMsg = msg_handler;\n        }\n      } else if (typeof google != 'undefined' && google.colab.kernel != null) {\n        var comm_promise = google.colab.kernel.comms.open(comm_id)\n        comm_promise.then((comm) => {\n          window.PyViz.comms[comm_id] = comm;\n          if (msg_handler) {\n            var messages = comm.messages[Symbol.asyncIterator]();\n            function processIteratorResult(result) {\n              var message = result.value;\n              var content = {data: message.data};\n              var metadata = message.metadata || {comm_id};\n              var msg = {content, metadata}\n              msg_handler(msg);\n              return messages.next().then(processIteratorResult);\n            }\n            return messages.next().then(processIteratorResult);\n          }\n        }) \n        var sendClosure = (data, metadata, buffers, disposeOnDone) => {\n          return comm_promise.then((comm) => {\n            comm.send(data, metadata, buffers, disposeOnDone);\n          });\n        };\n        var comm = {\n          send: sendClosure\n        };\n      }\n      window.PyViz.comms[comm_id] = comm;\n      return comm;\n    }\n    window.PyViz.comm_manager = new JupyterCommManager();\n    \n\n\nvar JS_MIME_TYPE = 'application/javascript';\nvar HTML_MIME_TYPE = 'text/html';\nvar EXEC_MIME_TYPE = 'application/vnd.holoviews_exec.v0+json';\nvar CLASS_NAME = 'output';\n\n/**\n * Render data to the DOM node\n */\nfunction render(props, node) {\n  var div = document.createElement(\"div\");\n  var script = document.createElement(\"script\");\n  node.appendChild(div);\n  node.appendChild(script);\n}\n\n/**\n * Handle when a new output is added\n */\nfunction handle_add_output(event, handle) {\n  var output_area = handle.output_area;\n  var output = handle.output;\n  if ((output.data == undefined) || (!output.data.hasOwnProperty(EXEC_MIME_TYPE))) {\n    return\n  }\n  var id = output.metadata[EXEC_MIME_TYPE][\"id\"];\n  var toinsert = output_area.element.find(\".\" + CLASS_NAME.split(' ')[0]);\n  if (id !== undefined) {\n    var nchildren = toinsert.length;\n    var html_node = toinsert[nchildren-1].children[0];\n    html_node.innerHTML = output.data[HTML_MIME_TYPE];\n    var scripts = [];\n    var nodelist = html_node.querySelectorAll(\"script\");\n    for (var i in nodelist) {\n      if (nodelist.hasOwnProperty(i)) {\n        scripts.push(nodelist[i])\n      }\n    }\n\n    scripts.forEach( function (oldScript) {\n      var newScript = document.createElement(\"script\");\n      var attrs = [];\n      var nodemap = oldScript.attributes;\n      for (var j in nodemap) {\n        if (nodemap.hasOwnProperty(j)) {\n          attrs.push(nodemap[j])\n        }\n      }\n      attrs.forEach(function(attr) { newScript.setAttribute(attr.name, attr.value) });\n      newScript.appendChild(document.createTextNode(oldScript.innerHTML));\n      oldScript.parentNode.replaceChild(newScript, oldScript);\n    });\n    if (JS_MIME_TYPE in output.data) {\n      toinsert[nchildren-1].children[1].textContent = output.data[JS_MIME_TYPE];\n    }\n    output_area._hv_plot_id = id;\n    if ((window.Bokeh !== undefined) && (id in Bokeh.index)) {\n      window.PyViz.plot_index[id] = Bokeh.index[id];\n    } else {\n      window.PyViz.plot_index[id] = null;\n    }\n  } else if (output.metadata[EXEC_MIME_TYPE][\"server_id\"] !== undefined) {\n    var bk_div = document.createElement(\"div\");\n    bk_div.innerHTML = output.data[HTML_MIME_TYPE];\n    var script_attrs = bk_div.children[0].attributes;\n    for (var i = 0; i < script_attrs.length; i++) {\n      toinsert[toinsert.length - 1].childNodes[1].setAttribute(script_attrs[i].name, script_attrs[i].value);\n    }\n    // store reference to server id on output_area\n    output_area._bokeh_server_id = output.metadata[EXEC_MIME_TYPE][\"server_id\"];\n  }\n}\n\n/**\n * Handle when an output is cleared or removed\n */\nfunction handle_clear_output(event, handle) {\n  var id = handle.cell.output_area._hv_plot_id;\n  var server_id = handle.cell.output_area._bokeh_server_id;\n  if (((id === undefined) || !(id in PyViz.plot_index)) && (server_id !== undefined)) { return; }\n  var comm = window.PyViz.comm_manager.get_client_comm(\"hv-extension-comm\", \"hv-extension-comm\", function () {});\n  if (server_id !== null) {\n    comm.send({event_type: 'server_delete', 'id': server_id});\n    return;\n  } else if (comm !== null) {\n    comm.send({event_type: 'delete', 'id': id});\n  }\n  delete PyViz.plot_index[id];\n  if ((window.Bokeh !== undefined) & (id in window.Bokeh.index)) {\n    var doc = window.Bokeh.index[id].model.document\n    doc.clear();\n    const i = window.Bokeh.documents.indexOf(doc);\n    if (i > -1) {\n      window.Bokeh.documents.splice(i, 1);\n    }\n  }\n}\n\n/**\n * Handle kernel restart event\n */\nfunction handle_kernel_cleanup(event, handle) {\n  delete PyViz.comms[\"hv-extension-comm\"];\n  window.PyViz.plot_index = {}\n}\n\n/**\n * Handle update_display_data messages\n */\nfunction handle_update_output(event, handle) {\n  handle_clear_output(event, {cell: {output_area: handle.output_area}})\n  handle_add_output(event, handle)\n}\n\nfunction register_renderer(events, OutputArea) {\n  function append_mime(data, metadata, element) {\n    // create a DOM node to render to\n    var toinsert = this.create_output_subarea(\n    metadata,\n    CLASS_NAME,\n    EXEC_MIME_TYPE\n    );\n    this.keyboard_manager.register_events(toinsert);\n    // Render to node\n    var props = {data: data, metadata: metadata[EXEC_MIME_TYPE]};\n    render(props, toinsert[0]);\n    element.append(toinsert);\n    return toinsert\n  }\n\n  events.on('output_added.OutputArea', handle_add_output);\n  events.on('output_updated.OutputArea', handle_update_output);\n  events.on('clear_output.CodeCell', handle_clear_output);\n  events.on('delete.Cell', handle_clear_output);\n  events.on('kernel_ready.Kernel', handle_kernel_cleanup);\n\n  OutputArea.prototype.register_mime_type(EXEC_MIME_TYPE, append_mime, {\n    safe: true,\n    index: 0\n  });\n}\n\nif (window.Jupyter !== undefined) {\n  try {\n    var events = require('base/js/events');\n    var OutputArea = require('notebook/js/outputarea').OutputArea;\n    if (OutputArea.prototype.mime_types().indexOf(EXEC_MIME_TYPE) == -1) {\n      register_renderer(events, OutputArea);\n    }\n  } catch(err) {\n  }\n}\n"
     },
     "metadata": {},
     "output_type": "display_data"
    }
   ],
   "source": [
    "from yahoo_fin.stock_info import get_data\n",
    "from datetime import date\n",
    "import plotly.express as px\n",
    "import pandas as pd\n",
    "import numpy as np\n",
    "from pathlib import Path\n",
    "import csv\n",
    "import seaborn as sns\n",
    "import plotly.graph_objects as go\n",
    "import plotly.figure_factory as ff\n",
    "import matplotlib.pyplot as plt\n",
    "from plotly.subplots import make_subplots\n",
    "import panel as pn\n",
    "from panel.interact import interact\n",
    "from MCForecastTools import MCSimulation\n",
    "from scipy.optimize import Bounds, LinearConstraint, minimize\n",
    "\n",
    "pn.extension(\"plotly\")\n",
    "%matplotlib inline"
   ]
  },
  {
   "cell_type": "code",
   "execution_count": 18,
   "metadata": {},
   "outputs": [],
   "source": [
    "portfolio_returns = pd.read_csv(r'data/portfolio_returns.csv').set_index('Date')\n",
    "combined_portfolios = pd.read_csv(r'data/combined_portfolios.csv').set_index('Date')\n",
    "combined_returns = pd.read_csv(r'data/combined_returns.csv').set_index('Date')\n",
    "monte_carlo_df = combined_portfolios.dropna()\n",
    "monte_carlo_dataframe = pd.read_csv(r'data/monte_carlo_dataframe.csv')\n",
    "monte_carlo_dataframe = monte_carlo_dataframe.rename({'Unnamed: 0': 'Date'}, axis=1)\n",
    "monte_carlo_dataframe = monte_carlo_dataframe.set_index('Date')\n",
    "index_names = [\n",
    "[\"BTC\", \"ETH\", \"SPY\", \"TLT\", \"GLD\", \"USD\", \"XLE\", \"XLF\"],\n",
    "[\"close\", \"close\",\"close\",\"close\",\"close\",\"close\",\"close\",\"close\"]\n",
    "# [\"BTC\", \"ETH\", \"SPY\", \"TLT\", \"GLD\", \"USD\"],\n",
    "# [\"close\", \"close\",\"close\",\"close\",\"close\",\"close\"]\n",
    "]\n",
    "index_tuples = list(zip(*index_names))\n",
    "new_index = pd.MultiIndex.from_tuples(index_tuples,names=[\"first\", \"second\"])\n",
    "monte_carlo_dataframe.columns = new_index"
   ]
  },
  {
   "cell_type": "code",
   "execution_count": 31,
   "metadata": {},
   "outputs": [],
   "source": [
    "#Define frequently used functions.\n",
    "# r is each stock's return, w is the portion of each stock in our portfolio, and covar is the covariance matrix\n",
    "# Rate of return\n",
    "def ret(r,w):\n",
    "    return r.dot(w)\n",
    "\n",
    "\n",
    "# Risk level - or volatility\n",
    "def vol(w,covar):\n",
    "    return np.sqrt(np.dot(w,np.dot(w,covar)))\n",
    "\n",
    "\n",
    "def sharpe (ret,vol):\n",
    "    return ret/vol\n",
    "\n",
    "\n",
    "def get_port_returns_graph():\n",
    "    port_returns_fig = px.line(portfolio_returns)\n",
    "    port_returns_fig.update_layout(\n",
    "    title='Volatility',\n",
    "    paper_bgcolor='rgb(243, 243, 243)',\n",
    "    plot_bgcolor='rgb(243, 243, 243)',\n",
    "    showlegend=True\n",
    "    )\n",
    "    return port_returns_fig\n",
    "\n",
    "def get_vol_graph():\n",
    "    cumulative_returns = (1 + portfolio_returns).cumprod()\n",
    "    volatility_fig = px.line(cumulative_returns)\n",
    "    volatility_fig.update_layout(\n",
    "        title='Volatility',\n",
    "        paper_bgcolor='rgb(243, 243, 243)',\n",
    "        plot_bgcolor='rgb(243, 243, 243)',\n",
    "        showlegend=True\n",
    "    )\n",
    "    return volatility_fig\n",
    "\n",
    "def get_vol_box():\n",
    "    vol_box_fig = go.Figure()\n",
    "    vol_box_fig.add_trace(go.Box(y=portfolio_returns['BTC'], name='Bitcoin',\n",
    "                    marker_color = 'indianred', boxpoints=False))\n",
    "    vol_box_fig.add_trace(go.Box(y=portfolio_returns['ETH'], name = 'Ethereum',\n",
    "                    marker_color = 'lightseagreen', boxpoints=False))\n",
    "    vol_box_fig.add_trace(go.Box(y=portfolio_returns['SPY'], name='S&P 500',\n",
    "                    marker_color = 'blue', boxpoints=False))\n",
    "    vol_box_fig.add_trace(go.Box(y=portfolio_returns['TLT'], name = 'Bonds (TLT)',\n",
    "                    marker_color = 'grey', boxpoints=False))\n",
    "    vol_box_fig.add_trace(go.Box(y=portfolio_returns['USD'], name = 'US Dollar',\n",
    "                    marker_color = 'green', boxpoints=False))\n",
    "    vol_box_fig.add_trace(go.Box(y=portfolio_returns['GLD'], name='Gold',\n",
    "                    marker_color = 'gold', boxpoints=False))\n",
    "    vol_box_fig.add_trace(go.Box(y=portfolio_returns['XLE'], name = 'Energy (XLE)',\n",
    "                    marker_color = 'red', boxpoints=False))\n",
    "    vol_box_fig.add_trace(go.Box(y=portfolio_returns['XLF'], name = 'Financials (XLF)',\n",
    "                    marker_color = 'black', boxpoints=False))\n",
    "\n",
    "    vol_box_fig.update_layout(\n",
    "        title='Daily Return Distributions',\n",
    "        paper_bgcolor='rgb(243, 243, 243)',\n",
    "        plot_bgcolor='rgb(243, 243, 243)',\n",
    "        showlegend=False\n",
    "    )\n",
    "\n",
    "    return vol_box_fig\n",
    "\n",
    "def get_rolling():\n",
    "    # Calculate the rolling standard deviation for all portfolios using a 21-day window\n",
    "    roll = portfolio_returns.rolling(window=120).std()\n",
    "    # Plot the rolling standard deviation\n",
    "    roll_120_fig = px.line(roll)\n",
    "    roll_120_fig.update_layout(\n",
    "        title='Rolling Returns',\n",
    "        paper_bgcolor='rgb(243, 243, 243)',\n",
    "        plot_bgcolor='rgb(243, 243, 243)',\n",
    "        showlegend=True\n",
    "    )\n",
    "    return roll_120_fig\n",
    "\n",
    "def get_ewm():\n",
    "    ewm_calc = portfolio_returns.ewm(halflife=120).std()\n",
    "    roll_120_line_fig = px.line(ewm_calc)\n",
    "    roll_120_line_fig.update_layout(\n",
    "        title='Rolling Returns',\n",
    "        paper_bgcolor='rgb(243, 243, 243)',\n",
    "        plot_bgcolor='rgb(243, 243, 243)',\n",
    "        showlegend=True\n",
    "    )\n",
    "    return roll_120_line_fig\n",
    "\n",
    "def get_sharpe_ratios():\n",
    "    sharpe_ratios = (portfolio_returns.mean() * 252) / (portfolio_returns.std() * np.sqrt(252))\n",
    "    sharpe_bar_fig = px.bar(sharpe_ratios,labels=dict(x=\"Assets\", y=\"Sharpe Ratio\", color=\"Sharpe Ratio\"),color = sharpe_ratios, color_continuous_scale='Bluered_r')\n",
    "    sharpe_bar_fig.update_layout(\n",
    "    title='Sharpe Ratios',\n",
    "    paper_bgcolor='rgb(243, 243, 243)',\n",
    "    plot_bgcolor='rgb(243, 243, 243)',\n",
    "    showlegend=True\n",
    "    )\n",
    "    return sharpe_bar_fig\n",
    "\n",
    "def get_correlation():\n",
    "    price_correlation_new = portfolio_returns.corr()\n",
    "    heatmap_fig = px.imshow(price_correlation_new, color_continuous_scale='Bluered_r', labels = dict(color='Corerelation'))\n",
    "    heatmap_fig.update_layout(\n",
    "        title='Individual Asset Correlations',\n",
    "        paper_bgcolor='rgb(243, 243, 243)',\n",
    "        plot_bgcolor='rgb(243, 243, 243)',\n",
    "        showlegend=True\n",
    "    )\n",
    "    return heatmap_fig\n",
    "\n",
    "def get_cumulative_portfolios():\n",
    "    cum_returns = px.line(combined_portfolios)\n",
    "    cum_returns.update_layout(\n",
    "        title='5 Year Cumulative Portfolio Returns',\n",
    "        paper_bgcolor='rgb(243, 243, 243)',\n",
    "        plot_bgcolor='rgb(243, 243, 243)',\n",
    "        showlegend=True\n",
    "    )\n",
    "    return cum_returns\n",
    "\n",
    "def get_portfolio_sharpe_ratios():\n",
    "    portfolio_sharpe_ratios = (combined_returns.mean() * 252) / (combined_returns.std() * np.sqrt(252))\n",
    "    portfolio_sharpe_fig = px.bar(portfolio_sharpe_ratios,labels=dict(x=\"Assets\", y=\"Sharpe Ratio\", color=\"Sharpe Ratio\"),color = portfolio_sharpe_ratios, color_continuous_scale='Bluered_r')\n",
    "    portfolio_sharpe_fig.update_layout(\n",
    "        title='Portoflio Sharpe Ratios',\n",
    "        paper_bgcolor='rgb(243, 243, 243)',\n",
    "        plot_bgcolor='rgb(243, 243, 243)',\n",
    "        showlegend=True\n",
    "    )\n",
    "    return portfolio_sharpe_fig\n",
    "\n",
    "def get_traditional_mc():\n",
    "    mc_traditional = MCSimulation(\n",
    "    monte_carlo_dataframe,\n",
    "    weights = [0,0,0.50,0.40,0.05,0.05,0,0],\n",
    "    num_simulation = 200,\n",
    "    num_trading_days = 252*5)\n",
    "    mc_trad_px = mc_traditional.calc_cumulative_return()\n",
    "    mc_trad_fig = px.line(mc_trad_px)\n",
    "    mc_trad_fig.update_layout(\n",
    "        title='Traditional Portfolio Monte Carlo Simulation',\n",
    "        paper_bgcolor='rgb(243, 243, 243)',\n",
    "        plot_bgcolor='rgb(243, 243, 243)',\n",
    "        showlegend=True\n",
    "    )\n",
    "    return mc_trad_fig\n",
    "    \n",
    "def get_btc_mc():\n",
    "    mc_btc_port = MCSimulation(\n",
    "    monte_carlo_dataframe,\n",
    "    weights = [0.10,0,0.50,0.40,0,0,0,0],\n",
    "    num_simulation = 200,\n",
    "    num_trading_days = 252*5)\n",
    "    mc_btc_px = mc_btc_port.calc_cumulative_return()\n",
    "    mc_btc_fig = px.line(mc_btc_px)\n",
    "    mc_btc_fig.update_layout(\n",
    "        title='Bitcoin Portfolio Monte Carlo Simulation',\n",
    "        paper_bgcolor='rgb(243, 243, 243)',\n",
    "        plot_bgcolor='rgb(243, 243, 243)',\n",
    "        showlegend=True\n",
    "    )\n",
    "    return mc_btc_fig\n",
    "    \n",
    "    \n",
    "def get_eth_mc():\n",
    "    mc_eth_port = MCSimulation(\n",
    "    monte_carlo_dataframe,\n",
    "    weights = [0,0.10,0.50,0.40,0,0,0,0],\n",
    "    num_simulation = 200,\n",
    "    num_trading_days = 252*5)\n",
    "    mc_eth_px = mc_eth_port.calc_cumulative_return()\n",
    "    mc_eth_fig = px.line(mc_eth_px)\n",
    "    mc_eth_fig.update_layout(\n",
    "        title='Ethereum Portfolio Monte Carlo Simulation',\n",
    "        paper_bgcolor='rgb(243, 243, 243)',\n",
    "        plot_bgcolor='rgb(243, 243, 243)',\n",
    "        showlegend=True\n",
    "    )\n",
    "    return mc_eth_fig\n",
    "\n",
    "    \n",
    "def get_alpha_mc():\n",
    "    mc_alpha_portfolio = MCSimulation(\n",
    "    monte_carlo_dataframe,\n",
    "    weights = [0.07,0.08,0.27,0.2,0.24,0.15,0,0],\n",
    "    num_simulation = 200,\n",
    "    num_trading_days = 252*5)\n",
    "    mc_alpha_px = mc_alpha_portfolio.calc_cumulative_return()\n",
    "    mc_alpha_fig = px.line(mc_alpha_px)\n",
    "    mc_alpha_fig.update_layout(\n",
    "        title='Alpha Portfolio Monte Carlo Simulation',\n",
    "        paper_bgcolor='rgb(243, 243, 243)',\n",
    "        plot_bgcolor='rgb(243, 243, 243)',\n",
    "        showlegend=True\n",
    "    )\n",
    "    return mc_alpha_fig\n",
    "    \n",
    "    \n",
    "def get_port_sharpes():\n",
    "    portfolio_sharpe_ratios = (combined_returns.mean() * 252) / (combined_returns.std() * np.sqrt(252))\n",
    "    portfolio_sharpe_fig = px.bar(portfolio_sharpe_ratios,labels=dict(x=\"Assets\", y=\"Sharpe Ratio\", color=\"Sharpe Ratio\"),color = portfolio_sharpe_ratios, color_continuous_scale='Bluered_r')\n",
    "    portfolio_sharpe_fig.update_layout(\n",
    "        title='Portoflio Sharpe Ratios',\n",
    "        paper_bgcolor='rgb(243, 243, 243)',\n",
    "        plot_bgcolor='rgb(243, 243, 243)',\n",
    "        showlegend=True\n",
    "    )\n",
    "    return portfolio_sharpe_fig\n",
    "    \n",
    "    \n",
    "def get_histogram():\n",
    "    histogram_fig = px.histogram(portfolio_returns)\n",
    "    histogram_fig.update_layout(\n",
    "    title='Histogram Showing Standard Deviation of Assets',\n",
    "    paper_bgcolor='rgb(243, 243, 243)',\n",
    "    plot_bgcolor='rgb(243, 243, 243)',\n",
    "    showlegend=True,\n",
    "    barmode = 'stack'\n",
    "    )\n",
    "    return histogram_fig\n",
    "    \n",
    "    \n",
    "def get_all_histograms():\n",
    "    all_histo_fig = make_subplots(rows=4, cols=2)\n",
    "    trace0 = go.Histogram(x=portfolio_returns['BTC'],name='BTC')\n",
    "    trace1 = go.Histogram(x=portfolio_returns['ETH'],name='ETH')\n",
    "    trace2 = go.Histogram(x=portfolio_returns['SPY'],name='SPY')\n",
    "    trace3 = go.Histogram(x=portfolio_returns['TLT'],name='TLT')\n",
    "    trace4 = go.Histogram(x=portfolio_returns['GLD'],name='GLD')\n",
    "    trace5 = go.Histogram(x=portfolio_returns['TLT'],name='TLT')\n",
    "    trace6 = go.Histogram(x=portfolio_returns['XLE'],name='XLE')\n",
    "    trace7 = go.Histogram(x=portfolio_returns['XLF'],name='XLF')\n",
    "    all_histo_fig.append_trace(trace0, 1, 1)\n",
    "    all_histo_fig.append_trace(trace1, 1, 2)\n",
    "    all_histo_fig.append_trace(trace2, 2, 1)\n",
    "    all_histo_fig.append_trace(trace3, 2, 2)\n",
    "    all_histo_fig.append_trace(trace4, 3, 1)\n",
    "    all_histo_fig.append_trace(trace5, 3, 2)\n",
    "    all_histo_fig.append_trace(trace6, 4, 1)\n",
    "    all_histo_fig.append_trace(trace7, 4, 2)\n",
    "    all_histo_fig.update_layout(\n",
    "    title='Histogram Showing Standard Deviation of Assets',\n",
    "    paper_bgcolor='rgb(243, 243, 243)',\n",
    "    plot_bgcolor='rgb(243, 243, 243)',\n",
    "    showlegend=True)\n",
    "\n",
    "    return all_histo_fig\n",
    "\n",
    "def get_frontier():\n",
    "    df2 = portfolio_returns.copy()\n",
    "    df2.drop('XLE', axis=1, inplace=True)\n",
    "    df2.drop('XLF', axis=1, inplace=True)\n",
    "    df=portfolio_returns.copy()\n",
    "    df.drop('XLE', axis=1, inplace=True)\n",
    "    df.drop('XLF', axis=1, inplace=True)\n",
    "\n",
    "    # Calculate annualized average return for each stock. Annualized average return = Daily average return * 252 business days.\n",
    "    r = np.mean(df,axis=0)*252\n",
    "\n",
    "    # Create a covariance matrix\n",
    "    covar = df.cov()\n",
    "    bounds = Bounds(0, 1)\n",
    "    linear_constraint = LinearConstraint(np.ones((df2.shape[1],), dtype=int),1,1)\n",
    "    #Create x0, the first guess at the values of each stock's weight.\n",
    "    weights = np.ones(df2.shape[1])\n",
    "    x0 = weights/np.sum(weights)\n",
    "    #Define a function to calculate volatility\n",
    "    fun1 = lambda w: np.sqrt(np.dot(w,np.dot(w,covar)))\n",
    "    res = minimize(fun1,x0,method='trust-constr',constraints = linear_constraint,bounds = bounds)\n",
    "\n",
    "    #These are the weights of the stocks in the portfolio with the lowest level of risk possible.\n",
    "    w_min = res.x\n",
    "\n",
    "    np.set_printoptions(suppress = True, precision=2)\n",
    "    #Define 1/Sharpe_ratio\n",
    "    fun2 = lambda w: np.sqrt(np.dot(w,np.dot(w,covar)))/r.dot(w)\n",
    "    res_sharpe = minimize(fun2,x0,method='trust-constr',constraints = linear_constraint,bounds = bounds)\n",
    "\n",
    "    #These are the weights of the stocks in the portfolio with the highest Sharpe ratio.\n",
    "    w_sharpe = res_sharpe.x\n",
    "    w = w_min\n",
    "    num_ports = 100\n",
    "    gap = (np.amax(r) - ret(r,w_min))/num_ports\n",
    "    \n",
    "    \n",
    "    all_weights = np.zeros((num_ports, len(df.columns)))\n",
    "    all_weights[0],all_weights[1]=w_min,w_sharpe\n",
    "    ret_arr = np.zeros(num_ports)\n",
    "    ret_arr[0],ret_arr[1]=ret(r,w_min),ret(r,w_sharpe)\n",
    "    vol_arr = np.zeros(num_ports)\n",
    "    vol_arr[0],vol_arr[1]=vol(w_min,covar),vol(w_sharpe,covar)\n",
    "    \n",
    "    for i in range(num_ports):\n",
    "        port_ret = ret(r,w) + i*gap\n",
    "        double_constraint = LinearConstraint([np.ones(df2.shape[1]),r],[1,port_ret],[1,port_ret])\n",
    "\n",
    "        #Create x0: initial guesses for weights.\n",
    "        x0 = w_min\n",
    "        #Define a function for portfolio volatility.\n",
    "        fun = lambda w: np.sqrt(np.dot(w,np.dot(w,covar)))\n",
    "        a = minimize(fun,x0,method='trust-constr',constraints = double_constraint,bounds = bounds)\n",
    "\n",
    "        all_weights[i,:]=a.x\n",
    "        ret_arr[i]=port_ret\n",
    "        vol_arr[i]=vol(a.x,covar)\n",
    "\n",
    "    sharpe_arr = ret_arr/vol_arr  \n",
    "    \n",
    "    fig = px.scatter(x=vol_arr, y=ret_arr, color=sharpe_arr)\n",
    "    fig.update_layout(\n",
    "    title='Efficient Frontier',\n",
    "    paper_bgcolor='rgb(243, 243, 243)',\n",
    "    plot_bgcolor='rgb(243, 243, 243)',\n",
    "    xaxis_title=\"Volatility\",\n",
    "    yaxis_title=\"Return\"\n",
    "    )\n",
    "    return fig"
   ]
  },
  {
   "cell_type": "code",
   "execution_count": 32,
   "metadata": {},
   "outputs": [
    {
     "data": {
      "application/vnd.plotly.v1+json": {
       "config": {
        "plotlyServerURL": "https://plot.ly"
       },
       "data": [
        {
         "hovertemplate": "x=%{x}<br>y=%{y}<br>color=%{marker.color}<extra></extra>",
         "legendgroup": "",
         "marker": {
          "color": [
           10.475624311830416,
           18.400593733611164,
           24.35478947601926,
           28.294419470697033,
           30.742626934036732,
           32.23499581031779,
           33.14608828445416,
           33.70651621634157,
           34.052993979167915,
           34.26653699105615,
           34.39587742053876,
           34.47094251405687,
           34.51051592396896,
           34.52663527508416,
           34.527163510378294,
           34.51732392878238,
           34.50063574071082,
           34.479498559012605,
           34.454766629334486,
           34.419122817425745,
           34.37144090048623,
           34.3134626112066,
           34.25060112541929,
           34.18336506464286,
           34.113493024215124,
           34.04353721892178,
           33.973021302272635,
           33.90303858523467,
           33.83160822771795,
           33.766030485609505,
           33.69993445962518,
           33.63587598369231,
           33.572950721752356,
           33.51251972512567,
           33.453640038075626,
           33.39662886422024,
           33.34146490648375,
           33.28811376624264,
           33.236228805217166,
           33.18667066488856,
           33.138172940549836,
           33.0896837386101,
           33.045941789732225,
           33.00144496509081,
           32.9583668936196,
           32.91586252018095,
           32.87431677640417,
           32.83375852723189,
           32.793434780617055,
           32.75312009917086,
           32.717917705326386,
           32.68080880517515,
           32.64506622480896,
           32.61045279924006,
           32.576400984342534,
           32.54319904581226,
           32.51033047432595,
           32.47875582832887,
           32.44566417069196,
           32.40638758732854,
           32.38489871528096,
           32.35736324608795,
           32.32771872756678,
           32.29838471481509,
           32.26967787593431,
           32.23712955018265,
           32.21181197225601,
           32.183616329313914,
           32.153294045438564,
           32.1282519927219,
           32.10126994919245,
           32.07508319913893,
           32.04834056687436,
           32.02239998647587,
           31.996828395447896,
           31.968844375438472,
           31.94676818786796,
           31.920081313149684,
           31.888364251630826,
           31.86912183894142,
           31.829183735061115,
           31.76739791749054,
           31.71596639140299,
           31.643859430244497,
           31.562153039697954,
           31.46212956499118,
           31.36313277997319,
           31.260126705970485,
           31.15496261984455,
           31.0414983510292,
           30.92145695466646,
           30.79652367006265,
           30.67132662340897,
           30.54478671403244,
           30.414212345327996,
           30.291084282822474,
           30.14799562163647,
           30.013409755926745,
           29.876794065281988,
           29.7457705494341
          ],
          "coloraxis": "coloraxis",
          "symbol": "circle"
         },
         "mode": "markers",
         "name": "",
         "orientation": "v",
         "showlegend": false,
         "type": "scatter",
         "x": [
          0.0025321496901333975,
          0.002639483093307392,
          0.0028992352139910614,
          0.00327458460795417,
          0.0037308027693068835,
          0.004241876925234008,
          0.004790281458304094,
          0.005364579898298566,
          0.0059572884155646546,
          0.0065634211539269795,
          0.007179579051034442,
          0.007803387681444647,
          0.008433149363361836,
          0.009067623882567094,
          0.009705887068187211,
          0.010347237745457932,
          0.010991135557312834,
          0.011637157969812552,
          0.012285254554657227,
          0.012938382777400465,
          0.013597625844051551,
          0.014262979106557197,
          0.01493271331606562,
          0.015606907444935716,
          0.016285017237534595,
          0.01696595231656371,
          0.017649982644163772,
          0.01833657009838619,
          0.019026812040540023,
          0.019716556800280005,
          0.020409299787364783,
          0.021103487025481777,
          0.021799587581376983,
          0.0224966279175475,
          0.023195111000297256,
          0.023894720167808,
          0.024595359285210686,
          0.025296942974753312,
          0.025999632147123312,
          0.02670264634416515,
          0.027406886280232547,
          0.02811318330741268,
          0.028817412976115515,
          0.029524184773775275,
          0.03023156363840757,
          0.030940254801148582,
          0.03164985565060653,
          0.03236027903768015,
          0.03307222321370253,
          0.03378591104815403,
          0.034495966998776426,
          0.03520960645444419,
          0.03592336482881629,
          0.03663741924779567,
          0.03735234714425889,
          0.038067777041381146,
          0.038784270547374086,
          0.03950064056312523,
          0.04022028522081031,
          0.04094921319938395,
          0.04165701716122262,
          0.0423736779270546,
          0.04309437073832249,
          0.04381596527743277,
          0.04453800610959524,
          0.04526672622427371,
          0.04598659417520328,
          0.0467117715002809,
          0.047441358172617805,
          0.04816440517215891,
          0.04889153470084728,
          0.049618657292102145,
          0.050347841402842305,
          0.051076964124724206,
          0.051806671649498724,
          0.052541511040992,
          0.05326778555264415,
          0.054002863815788386,
          0.05474780699248816,
          0.055472511213214365,
          0.056234631735335806,
          0.05703786749217531,
          0.057825349464920794,
          0.058653687661061306,
          0.05950390178583306,
          0.060393669726332186,
          0.06128710682480238,
          0.06219417773143185,
          0.06311161748007732,
          0.06405239425613433,
          0.06501389959858961,
          0.06599338051521679,
          0.06698141679818598,
          0.06798054080284184,
          0.06899712880650247,
          0.07000527000457886,
          0.07106866300671402,
          0.07212176043896691,
          0.0731893171271016,
          0.07425271969761024
         ],
         "xaxis": "x",
         "y": [
          0.02652584885515527,
          0.04856805606668461,
          0.07061026327821394,
          0.09265247048974329,
          0.11469467770127262,
          0.13673688491280195,
          0.1587790921243313,
          0.18082129933586064,
          0.20286350654738997,
          0.2249057137589193,
          0.24694792097044863,
          0.268990128181978,
          0.29103233539350737,
          0.31307454260503664,
          0.33511674981656603,
          0.3571589570280953,
          0.3792011642396247,
          0.40124337145115396,
          0.42328557866268335,
          0.4453277858742126,
          0.467369993085742,
          0.4894122002972714,
          0.5114544075088007,
          0.53349661472033,
          0.5555388219318594,
          0.5775810291433887,
          0.5996232363549181,
          0.6216654435664474,
          0.6437076507779768,
          0.665749857989506,
          0.6877920652010354,
          0.7098342724125647,
          0.7318764796240941,
          0.7539186868356235,
          0.7759608940471527,
          0.7980031012586821,
          0.8200453084702114,
          0.8420875156817408,
          0.8641297228932701,
          0.8861719301047994,
          0.9082141373163287,
          0.9302563445278581,
          0.9522985517393875,
          0.9743407589509168,
          0.9963829661624461,
          1.0184251733739753,
          1.0404673805855047,
          1.062509587797034,
          1.0845517950085635,
          1.1065940022200926,
          1.128636209431622,
          1.1506784166431514,
          1.1727206238546808,
          1.19476283106621,
          1.2168050382777393,
          1.2388472454892687,
          1.260889452700798,
          1.2829316599123275,
          1.3049738671238567,
          1.327016074335386,
          1.3490582815469154,
          1.3711004887584448,
          1.393142695969974,
          1.4151849031815034,
          1.4372271103930327,
          1.4592693176045621,
          1.4813115248160915,
          1.5033537320276207,
          1.52539593923915,
          1.5474381464506795,
          1.5694803536622088,
          1.591522560873738,
          1.6135647680852674,
          1.6356069752967968,
          1.6576491825083262,
          1.6796913897198555,
          1.7017335969313847,
          1.723775804142914,
          1.7458180113544435,
          1.7678602185659729,
          1.789902425777502,
          1.8119446329890314,
          1.8339868402005608,
          1.8560290474120902,
          1.8780712546236196,
          1.9001134618351487,
          1.9221556690466781,
          1.9441978762582075,
          1.9662400834697369,
          1.9882822906812663,
          2.0103244978927957,
          2.0323667051043253,
          2.0544089123158544,
          2.0764511195273836,
          2.098493326738913,
          2.1205355339504424,
          2.142577741161972,
          2.164619948373501,
          2.1866621555850303,
          2.20870436279656
         ],
         "yaxis": "y"
        }
       ],
       "layout": {
        "autosize": true,
        "coloraxis": {
         "colorbar": {
          "title": {
           "text": "color"
          }
         },
         "colorscale": [
          [
           0,
           "#0d0887"
          ],
          [
           0.1111111111111111,
           "#46039f"
          ],
          [
           0.2222222222222222,
           "#7201a8"
          ],
          [
           0.3333333333333333,
           "#9c179e"
          ],
          [
           0.4444444444444444,
           "#bd3786"
          ],
          [
           0.5555555555555556,
           "#d8576b"
          ],
          [
           0.6666666666666666,
           "#ed7953"
          ],
          [
           0.7777777777777778,
           "#fb9f3a"
          ],
          [
           0.8888888888888888,
           "#fdca26"
          ],
          [
           1,
           "#f0f921"
          ]
         ]
        },
        "legend": {
         "tracegroupgap": 0
        },
        "margin": {
         "t": 60
        },
        "paper_bgcolor": "rgb(243, 243, 243)",
        "plot_bgcolor": "rgb(243, 243, 243)",
        "template": {
         "data": {
          "bar": [
           {
            "error_x": {
             "color": "#2a3f5f"
            },
            "error_y": {
             "color": "#2a3f5f"
            },
            "marker": {
             "line": {
              "color": "#E5ECF6",
              "width": 0.5
             }
            },
            "type": "bar"
           }
          ],
          "barpolar": [
           {
            "marker": {
             "line": {
              "color": "#E5ECF6",
              "width": 0.5
             }
            },
            "type": "barpolar"
           }
          ],
          "carpet": [
           {
            "aaxis": {
             "endlinecolor": "#2a3f5f",
             "gridcolor": "white",
             "linecolor": "white",
             "minorgridcolor": "white",
             "startlinecolor": "#2a3f5f"
            },
            "baxis": {
             "endlinecolor": "#2a3f5f",
             "gridcolor": "white",
             "linecolor": "white",
             "minorgridcolor": "white",
             "startlinecolor": "#2a3f5f"
            },
            "type": "carpet"
           }
          ],
          "choropleth": [
           {
            "colorbar": {
             "outlinewidth": 0,
             "ticks": ""
            },
            "type": "choropleth"
           }
          ],
          "contour": [
           {
            "colorbar": {
             "outlinewidth": 0,
             "ticks": ""
            },
            "colorscale": [
             [
              0,
              "#0d0887"
             ],
             [
              0.1111111111111111,
              "#46039f"
             ],
             [
              0.2222222222222222,
              "#7201a8"
             ],
             [
              0.3333333333333333,
              "#9c179e"
             ],
             [
              0.4444444444444444,
              "#bd3786"
             ],
             [
              0.5555555555555556,
              "#d8576b"
             ],
             [
              0.6666666666666666,
              "#ed7953"
             ],
             [
              0.7777777777777778,
              "#fb9f3a"
             ],
             [
              0.8888888888888888,
              "#fdca26"
             ],
             [
              1,
              "#f0f921"
             ]
            ],
            "type": "contour"
           }
          ],
          "contourcarpet": [
           {
            "colorbar": {
             "outlinewidth": 0,
             "ticks": ""
            },
            "type": "contourcarpet"
           }
          ],
          "heatmap": [
           {
            "colorbar": {
             "outlinewidth": 0,
             "ticks": ""
            },
            "colorscale": [
             [
              0,
              "#0d0887"
             ],
             [
              0.1111111111111111,
              "#46039f"
             ],
             [
              0.2222222222222222,
              "#7201a8"
             ],
             [
              0.3333333333333333,
              "#9c179e"
             ],
             [
              0.4444444444444444,
              "#bd3786"
             ],
             [
              0.5555555555555556,
              "#d8576b"
             ],
             [
              0.6666666666666666,
              "#ed7953"
             ],
             [
              0.7777777777777778,
              "#fb9f3a"
             ],
             [
              0.8888888888888888,
              "#fdca26"
             ],
             [
              1,
              "#f0f921"
             ]
            ],
            "type": "heatmap"
           }
          ],
          "heatmapgl": [
           {
            "colorbar": {
             "outlinewidth": 0,
             "ticks": ""
            },
            "colorscale": [
             [
              0,
              "#0d0887"
             ],
             [
              0.1111111111111111,
              "#46039f"
             ],
             [
              0.2222222222222222,
              "#7201a8"
             ],
             [
              0.3333333333333333,
              "#9c179e"
             ],
             [
              0.4444444444444444,
              "#bd3786"
             ],
             [
              0.5555555555555556,
              "#d8576b"
             ],
             [
              0.6666666666666666,
              "#ed7953"
             ],
             [
              0.7777777777777778,
              "#fb9f3a"
             ],
             [
              0.8888888888888888,
              "#fdca26"
             ],
             [
              1,
              "#f0f921"
             ]
            ],
            "type": "heatmapgl"
           }
          ],
          "histogram": [
           {
            "marker": {
             "colorbar": {
              "outlinewidth": 0,
              "ticks": ""
             }
            },
            "type": "histogram"
           }
          ],
          "histogram2d": [
           {
            "colorbar": {
             "outlinewidth": 0,
             "ticks": ""
            },
            "colorscale": [
             [
              0,
              "#0d0887"
             ],
             [
              0.1111111111111111,
              "#46039f"
             ],
             [
              0.2222222222222222,
              "#7201a8"
             ],
             [
              0.3333333333333333,
              "#9c179e"
             ],
             [
              0.4444444444444444,
              "#bd3786"
             ],
             [
              0.5555555555555556,
              "#d8576b"
             ],
             [
              0.6666666666666666,
              "#ed7953"
             ],
             [
              0.7777777777777778,
              "#fb9f3a"
             ],
             [
              0.8888888888888888,
              "#fdca26"
             ],
             [
              1,
              "#f0f921"
             ]
            ],
            "type": "histogram2d"
           }
          ],
          "histogram2dcontour": [
           {
            "colorbar": {
             "outlinewidth": 0,
             "ticks": ""
            },
            "colorscale": [
             [
              0,
              "#0d0887"
             ],
             [
              0.1111111111111111,
              "#46039f"
             ],
             [
              0.2222222222222222,
              "#7201a8"
             ],
             [
              0.3333333333333333,
              "#9c179e"
             ],
             [
              0.4444444444444444,
              "#bd3786"
             ],
             [
              0.5555555555555556,
              "#d8576b"
             ],
             [
              0.6666666666666666,
              "#ed7953"
             ],
             [
              0.7777777777777778,
              "#fb9f3a"
             ],
             [
              0.8888888888888888,
              "#fdca26"
             ],
             [
              1,
              "#f0f921"
             ]
            ],
            "type": "histogram2dcontour"
           }
          ],
          "mesh3d": [
           {
            "colorbar": {
             "outlinewidth": 0,
             "ticks": ""
            },
            "type": "mesh3d"
           }
          ],
          "parcoords": [
           {
            "line": {
             "colorbar": {
              "outlinewidth": 0,
              "ticks": ""
             }
            },
            "type": "parcoords"
           }
          ],
          "pie": [
           {
            "automargin": true,
            "type": "pie"
           }
          ],
          "scatter": [
           {
            "marker": {
             "colorbar": {
              "outlinewidth": 0,
              "ticks": ""
             }
            },
            "type": "scatter"
           }
          ],
          "scatter3d": [
           {
            "line": {
             "colorbar": {
              "outlinewidth": 0,
              "ticks": ""
             }
            },
            "marker": {
             "colorbar": {
              "outlinewidth": 0,
              "ticks": ""
             }
            },
            "type": "scatter3d"
           }
          ],
          "scattercarpet": [
           {
            "marker": {
             "colorbar": {
              "outlinewidth": 0,
              "ticks": ""
             }
            },
            "type": "scattercarpet"
           }
          ],
          "scattergeo": [
           {
            "marker": {
             "colorbar": {
              "outlinewidth": 0,
              "ticks": ""
             }
            },
            "type": "scattergeo"
           }
          ],
          "scattergl": [
           {
            "marker": {
             "colorbar": {
              "outlinewidth": 0,
              "ticks": ""
             }
            },
            "type": "scattergl"
           }
          ],
          "scattermapbox": [
           {
            "marker": {
             "colorbar": {
              "outlinewidth": 0,
              "ticks": ""
             }
            },
            "type": "scattermapbox"
           }
          ],
          "scatterpolar": [
           {
            "marker": {
             "colorbar": {
              "outlinewidth": 0,
              "ticks": ""
             }
            },
            "type": "scatterpolar"
           }
          ],
          "scatterpolargl": [
           {
            "marker": {
             "colorbar": {
              "outlinewidth": 0,
              "ticks": ""
             }
            },
            "type": "scatterpolargl"
           }
          ],
          "scatterternary": [
           {
            "marker": {
             "colorbar": {
              "outlinewidth": 0,
              "ticks": ""
             }
            },
            "type": "scatterternary"
           }
          ],
          "surface": [
           {
            "colorbar": {
             "outlinewidth": 0,
             "ticks": ""
            },
            "colorscale": [
             [
              0,
              "#0d0887"
             ],
             [
              0.1111111111111111,
              "#46039f"
             ],
             [
              0.2222222222222222,
              "#7201a8"
             ],
             [
              0.3333333333333333,
              "#9c179e"
             ],
             [
              0.4444444444444444,
              "#bd3786"
             ],
             [
              0.5555555555555556,
              "#d8576b"
             ],
             [
              0.6666666666666666,
              "#ed7953"
             ],
             [
              0.7777777777777778,
              "#fb9f3a"
             ],
             [
              0.8888888888888888,
              "#fdca26"
             ],
             [
              1,
              "#f0f921"
             ]
            ],
            "type": "surface"
           }
          ],
          "table": [
           {
            "cells": {
             "fill": {
              "color": "#EBF0F8"
             },
             "line": {
              "color": "white"
             }
            },
            "header": {
             "fill": {
              "color": "#C8D4E3"
             },
             "line": {
              "color": "white"
             }
            },
            "type": "table"
           }
          ]
         },
         "layout": {
          "annotationdefaults": {
           "arrowcolor": "#2a3f5f",
           "arrowhead": 0,
           "arrowwidth": 1
          },
          "autotypenumbers": "strict",
          "coloraxis": {
           "colorbar": {
            "outlinewidth": 0,
            "ticks": ""
           }
          },
          "colorscale": {
           "diverging": [
            [
             0,
             "#8e0152"
            ],
            [
             0.1,
             "#c51b7d"
            ],
            [
             0.2,
             "#de77ae"
            ],
            [
             0.3,
             "#f1b6da"
            ],
            [
             0.4,
             "#fde0ef"
            ],
            [
             0.5,
             "#f7f7f7"
            ],
            [
             0.6,
             "#e6f5d0"
            ],
            [
             0.7,
             "#b8e186"
            ],
            [
             0.8,
             "#7fbc41"
            ],
            [
             0.9,
             "#4d9221"
            ],
            [
             1,
             "#276419"
            ]
           ],
           "sequential": [
            [
             0,
             "#0d0887"
            ],
            [
             0.1111111111111111,
             "#46039f"
            ],
            [
             0.2222222222222222,
             "#7201a8"
            ],
            [
             0.3333333333333333,
             "#9c179e"
            ],
            [
             0.4444444444444444,
             "#bd3786"
            ],
            [
             0.5555555555555556,
             "#d8576b"
            ],
            [
             0.6666666666666666,
             "#ed7953"
            ],
            [
             0.7777777777777778,
             "#fb9f3a"
            ],
            [
             0.8888888888888888,
             "#fdca26"
            ],
            [
             1,
             "#f0f921"
            ]
           ],
           "sequentialminus": [
            [
             0,
             "#0d0887"
            ],
            [
             0.1111111111111111,
             "#46039f"
            ],
            [
             0.2222222222222222,
             "#7201a8"
            ],
            [
             0.3333333333333333,
             "#9c179e"
            ],
            [
             0.4444444444444444,
             "#bd3786"
            ],
            [
             0.5555555555555556,
             "#d8576b"
            ],
            [
             0.6666666666666666,
             "#ed7953"
            ],
            [
             0.7777777777777778,
             "#fb9f3a"
            ],
            [
             0.8888888888888888,
             "#fdca26"
            ],
            [
             1,
             "#f0f921"
            ]
           ]
          },
          "colorway": [
           "#636efa",
           "#EF553B",
           "#00cc96",
           "#ab63fa",
           "#FFA15A",
           "#19d3f3",
           "#FF6692",
           "#B6E880",
           "#FF97FF",
           "#FECB52"
          ],
          "font": {
           "color": "#2a3f5f"
          },
          "geo": {
           "bgcolor": "white",
           "lakecolor": "white",
           "landcolor": "#E5ECF6",
           "showlakes": true,
           "showland": true,
           "subunitcolor": "white"
          },
          "hoverlabel": {
           "align": "left"
          },
          "hovermode": "closest",
          "mapbox": {
           "style": "light"
          },
          "paper_bgcolor": "white",
          "plot_bgcolor": "#E5ECF6",
          "polar": {
           "angularaxis": {
            "gridcolor": "white",
            "linecolor": "white",
            "ticks": ""
           },
           "bgcolor": "#E5ECF6",
           "radialaxis": {
            "gridcolor": "white",
            "linecolor": "white",
            "ticks": ""
           }
          },
          "scene": {
           "xaxis": {
            "backgroundcolor": "#E5ECF6",
            "gridcolor": "white",
            "gridwidth": 2,
            "linecolor": "white",
            "showbackground": true,
            "ticks": "",
            "zerolinecolor": "white"
           },
           "yaxis": {
            "backgroundcolor": "#E5ECF6",
            "gridcolor": "white",
            "gridwidth": 2,
            "linecolor": "white",
            "showbackground": true,
            "ticks": "",
            "zerolinecolor": "white"
           },
           "zaxis": {
            "backgroundcolor": "#E5ECF6",
            "gridcolor": "white",
            "gridwidth": 2,
            "linecolor": "white",
            "showbackground": true,
            "ticks": "",
            "zerolinecolor": "white"
           }
          },
          "shapedefaults": {
           "line": {
            "color": "#2a3f5f"
           }
          },
          "ternary": {
           "aaxis": {
            "gridcolor": "white",
            "linecolor": "white",
            "ticks": ""
           },
           "baxis": {
            "gridcolor": "white",
            "linecolor": "white",
            "ticks": ""
           },
           "bgcolor": "#E5ECF6",
           "caxis": {
            "gridcolor": "white",
            "linecolor": "white",
            "ticks": ""
           }
          },
          "title": {
           "x": 0.05
          },
          "xaxis": {
           "automargin": true,
           "gridcolor": "white",
           "linecolor": "white",
           "ticks": "",
           "title": {
            "standoff": 15
           },
           "zerolinecolor": "white",
           "zerolinewidth": 2
          },
          "yaxis": {
           "automargin": true,
           "gridcolor": "white",
           "linecolor": "white",
           "ticks": "",
           "title": {
            "standoff": 15
           },
           "zerolinecolor": "white",
           "zerolinewidth": 2
          }
         }
        },
        "title": {
         "text": "Efficient Frontier"
        },
        "xaxis": {
         "anchor": "y",
         "autorange": true,
         "domain": [
          0,
          1
         ],
         "range": [
          -0.0016929930142613294,
          0.07847786240200497
         ],
         "title": {
          "text": "Volatility"
         },
         "type": "linear"
        },
        "yaxis": {
         "anchor": "x",
         "autorange": true,
         "domain": [
          0,
          1
         ],
         "range": [
          -0.12819583215173988,
          2.363426043803455
         ],
         "title": {
          "text": "Return"
         },
         "type": "linear"
        }
       }
      },
      "image/png": "[encoded data removed]",
      "text/html": [
       "<div>                            <div id=\"78734e27-edf5-4797-83be-e47d2a8ba1f4\" class=\"plotly-graph-div\" style=\"height:525px; width:100%;\"></div>            <script type=\"text/javascript\">                require([\"plotly\"], function(Plotly) {                    window.PLOTLYENV=window.PLOTLYENV || {};                                    if (document.getElementById(\"78734e27-edf5-4797-83be-e47d2a8ba1f4\")) {                    Plotly.newPlot(                        \"78734e27-edf5-4797-83be-e47d2a8ba1f4\",                        [{\"hovertemplate\": \"x=%{x}<br>y=%{y}<br>color=%{marker.color}<extra></extra>\", \"legendgroup\": \"\", \"marker\": {\"color\": [10.475624311830416, 18.400593733611164, 24.35478947601926, 28.294419470697033, 30.742626934036732, 32.23499581031779, 33.14608828445416, 33.70651621634157, 34.052993979167915, 34.26653699105615, 34.39587742053876, 34.47094251405687, 34.51051592396896, 34.52663527508416, 34.527163510378294, 34.51732392878238, 34.50063574071082, 34.479498559012605, 34.454766629334486, 34.419122817425745, 34.37144090048623, 34.3134626112066, 34.25060112541929, 34.18336506464286, 34.113493024215124, 34.04353721892178, 33.973021302272635, 33.90303858523467, 33.83160822771795, 33.766030485609505, 33.69993445962518, 33.63587598369231, 33.572950721752356, 33.51251972512567, 33.453640038075626, 33.39662886422024, 33.34146490648375, 33.28811376624264, 33.236228805217166, 33.18667066488856, 33.138172940549836, 33.0896837386101, 33.045941789732225, 33.00144496509081, 32.9583668936196, 32.91586252018095, 32.87431677640417, 32.83375852723189, 32.793434780617055, 32.75312009917086, 32.717917705326386, 32.68080880517515, 32.64506622480896, 32.61045279924006, 32.576400984342534, 32.54319904581226, 32.51033047432595, 32.47875582832887, 32.44566417069196, 32.40638758732854, 32.38489871528096, 32.35736324608795, 32.32771872756678, 32.29838471481509, 32.26967787593431, 32.23712955018265, 32.21181197225601, 32.183616329313914, 32.153294045438564, 32.1282519927219, 32.10126994919245, 32.07508319913893, 32.04834056687436, 32.02239998647587, 31.996828395447896, 31.968844375438472, 31.94676818786796, 31.920081313149684, 31.888364251630826, 31.86912183894142, 31.829183735061115, 31.76739791749054, 31.71596639140299, 31.643859430244497, 31.562153039697954, 31.46212956499118, 31.36313277997319, 31.260126705970485, 31.15496261984455, 31.0414983510292, 30.92145695466646, 30.79652367006265, 30.67132662340897, 30.54478671403244, 30.414212345327996, 30.291084282822474, 30.14799562163647, 30.013409755926745, 29.876794065281988, 29.7457705494341], \"coloraxis\": \"coloraxis\", \"symbol\": \"circle\"}, \"mode\": \"markers\", \"name\": \"\", \"orientation\": \"v\", \"showlegend\": false, \"type\": \"scatter\", \"x\": [0.0025321496901333975, 0.002639483093307392, 0.0028992352139910614, 0.00327458460795417, 0.0037308027693068835, 0.004241876925234008, 0.004790281458304094, 0.005364579898298566, 0.0059572884155646546, 0.0065634211539269795, 0.007179579051034442, 0.007803387681444647, 0.008433149363361836, 0.009067623882567094, 0.009705887068187211, 0.010347237745457932, 0.010991135557312834, 0.011637157969812552, 0.012285254554657227, 0.012938382777400465, 0.013597625844051551, 0.014262979106557197, 0.01493271331606562, 0.015606907444935716, 0.016285017237534595, 0.01696595231656371, 0.017649982644163772, 0.01833657009838619, 0.019026812040540023, 0.019716556800280005, 0.020409299787364783, 0.021103487025481777, 0.021799587581376983, 0.0224966279175475, 0.023195111000297256, 0.023894720167808, 0.024595359285210686, 0.025296942974753312, 0.025999632147123312, 0.02670264634416515, 0.027406886280232547, 0.02811318330741268, 0.028817412976115515, 0.029524184773775275, 0.03023156363840757, 0.030940254801148582, 0.03164985565060653, 0.03236027903768015, 0.03307222321370253, 0.03378591104815403, 0.034495966998776426, 0.03520960645444419, 0.03592336482881629, 0.03663741924779567, 0.03735234714425889, 0.038067777041381146, 0.038784270547374086, 0.03950064056312523, 0.04022028522081031, 0.04094921319938395, 0.04165701716122262, 0.0423736779270546, 0.04309437073832249, 0.04381596527743277, 0.04453800610959524, 0.04526672622427371, 0.04598659417520328, 0.0467117715002809, 0.047441358172617805, 0.04816440517215891, 0.04889153470084728, 0.049618657292102145, 0.050347841402842305, 0.051076964124724206, 0.051806671649498724, 0.052541511040992, 0.05326778555264415, 0.054002863815788386, 0.05474780699248816, 0.055472511213214365, 0.056234631735335806, 0.05703786749217531, 0.057825349464920794, 0.058653687661061306, 0.05950390178583306, 0.060393669726332186, 0.06128710682480238, 0.06219417773143185, 0.06311161748007732, 0.06405239425613433, 0.06501389959858961, 0.06599338051521679, 0.06698141679818598, 0.06798054080284184, 0.06899712880650247, 0.07000527000457886, 0.07106866300671402, 0.07212176043896691, 0.0731893171271016, 0.07425271969761024], \"xaxis\": \"x\", \"y\": [0.02652584885515527, 0.04856805606668461, 0.07061026327821394, 0.09265247048974329, 0.11469467770127262, 0.13673688491280195, 0.1587790921243313, 0.18082129933586064, 0.20286350654738997, 0.2249057137589193, 0.24694792097044863, 0.268990128181978, 0.29103233539350737, 0.31307454260503664, 0.33511674981656603, 0.3571589570280953, 0.3792011642396247, 0.40124337145115396, 0.42328557866268335, 0.4453277858742126, 0.467369993085742, 0.4894122002972714, 0.5114544075088007, 0.53349661472033, 0.5555388219318594, 0.5775810291433887, 0.5996232363549181, 0.6216654435664474, 0.6437076507779768, 0.665749857989506, 0.6877920652010354, 0.7098342724125647, 0.7318764796240941, 0.7539186868356235, 0.7759608940471527, 0.7980031012586821, 0.8200453084702114, 0.8420875156817408, 0.8641297228932701, 0.8861719301047994, 0.9082141373163287, 0.9302563445278581, 0.9522985517393875, 0.9743407589509168, 0.9963829661624461, 1.0184251733739753, 1.0404673805855047, 1.062509587797034, 1.0845517950085635, 1.1065940022200926, 1.128636209431622, 1.1506784166431514, 1.1727206238546808, 1.19476283106621, 1.2168050382777393, 1.2388472454892687, 1.260889452700798, 1.2829316599123275, 1.3049738671238567, 1.327016074335386, 1.3490582815469154, 1.3711004887584448, 1.393142695969974, 1.4151849031815034, 1.4372271103930327, 1.4592693176045621, 1.4813115248160915, 1.5033537320276207, 1.52539593923915, 1.5474381464506795, 1.5694803536622088, 1.591522560873738, 1.6135647680852674, 1.6356069752967968, 1.6576491825083262, 1.6796913897198555, 1.7017335969313847, 1.723775804142914, 1.7458180113544435, 1.7678602185659729, 1.789902425777502, 1.8119446329890314, 1.8339868402005608, 1.8560290474120902, 1.8780712546236196, 1.9001134618351487, 1.9221556690466781, 1.9441978762582075, 1.9662400834697369, 1.9882822906812663, 2.0103244978927957, 2.0323667051043253, 2.0544089123158544, 2.0764511195273836, 2.098493326738913, 2.1205355339504424, 2.142577741161972, 2.164619948373501, 2.1866621555850303, 2.20870436279656], \"yaxis\": \"y\"}],                        {\"coloraxis\": {\"colorbar\": {\"title\": {\"text\": \"color\"}}, \"colorscale\": [[0.0, \"#0d0887\"], [0.1111111111111111, \"#46039f\"], [0.2222222222222222, \"#7201a8\"], [0.3333333333333333, \"#9c179e\"], [0.4444444444444444, \"#bd3786\"], [0.5555555555555556, \"#d8576b\"], [0.6666666666666666, \"#ed7953\"], [0.7777777777777778, \"#fb9f3a\"], [0.8888888888888888, \"#fdca26\"], [1.0, \"#f0f921\"]]}, \"legend\": {\"tracegroupgap\": 0}, \"margin\": {\"t\": 60}, \"paper_bgcolor\": \"rgb(243, 243, 243)\", \"plot_bgcolor\": \"rgb(243, 243, 243)\", \"template\": {\"data\": {\"bar\": [{\"error_x\": {\"color\": \"#2a3f5f\"}, \"error_y\": {\"color\": \"#2a3f5f\"}, \"marker\": {\"line\": {\"color\": \"#E5ECF6\", \"width\": 0.5}}, \"type\": \"bar\"}], \"barpolar\": [{\"marker\": {\"line\": {\"color\": \"#E5ECF6\", \"width\": 0.5}}, \"type\": \"barpolar\"}], \"carpet\": [{\"aaxis\": {\"endlinecolor\": \"#2a3f5f\", \"gridcolor\": \"white\", \"linecolor\": \"white\", \"minorgridcolor\": \"white\", \"startlinecolor\": \"#2a3f5f\"}, \"baxis\": {\"endlinecolor\": \"#2a3f5f\", \"gridcolor\": \"white\", \"linecolor\": \"white\", \"minorgridcolor\": \"white\", \"startlinecolor\": \"#2a3f5f\"}, \"type\": \"carpet\"}], \"choropleth\": [{\"colorbar\": {\"outlinewidth\": 0, \"ticks\": \"\"}, \"type\": \"choropleth\"}], \"contour\": [{\"colorbar\": {\"outlinewidth\": 0, \"ticks\": \"\"}, \"colorscale\": [[0.0, \"#0d0887\"], [0.1111111111111111, \"#46039f\"], [0.2222222222222222, \"#7201a8\"], [0.3333333333333333, \"#9c179e\"], [0.4444444444444444, \"#bd3786\"], [0.5555555555555556, \"#d8576b\"], [0.6666666666666666, \"#ed7953\"], [0.7777777777777778, \"#fb9f3a\"], [0.8888888888888888, \"#fdca26\"], [1.0, \"#f0f921\"]], \"type\": \"contour\"}], \"contourcarpet\": [{\"colorbar\": {\"outlinewidth\": 0, \"ticks\": \"\"}, \"type\": \"contourcarpet\"}], \"heatmap\": [{\"colorbar\": {\"outlinewidth\": 0, \"ticks\": \"\"}, \"colorscale\": [[0.0, \"#0d0887\"], [0.1111111111111111, \"#46039f\"], [0.2222222222222222, \"#7201a8\"], [0.3333333333333333, \"#9c179e\"], [0.4444444444444444, \"#bd3786\"], [0.5555555555555556, \"#d8576b\"], [0.6666666666666666, \"#ed7953\"], [0.7777777777777778, \"#fb9f3a\"], [0.8888888888888888, \"#fdca26\"], [1.0, \"#f0f921\"]], \"type\": \"heatmap\"}], \"heatmapgl\": [{\"colorbar\": {\"outlinewidth\": 0, \"ticks\": \"\"}, \"colorscale\": [[0.0, \"#0d0887\"], [0.1111111111111111, \"#46039f\"], [0.2222222222222222, \"#7201a8\"], [0.3333333333333333, \"#9c179e\"], [0.4444444444444444, \"#bd3786\"], [0.5555555555555556, \"#d8576b\"], [0.6666666666666666, \"#ed7953\"], [0.7777777777777778, \"#fb9f3a\"], [0.8888888888888888, \"#fdca26\"], [1.0, \"#f0f921\"]], \"type\": \"heatmapgl\"}], \"histogram\": [{\"marker\": {\"colorbar\": {\"outlinewidth\": 0, \"ticks\": \"\"}}, \"type\": \"histogram\"}], \"histogram2d\": [{\"colorbar\": {\"outlinewidth\": 0, \"ticks\": \"\"}, \"colorscale\": [[0.0, \"#0d0887\"], [0.1111111111111111, \"#46039f\"], [0.2222222222222222, \"#7201a8\"], [0.3333333333333333, \"#9c179e\"], [0.4444444444444444, \"#bd3786\"], [0.5555555555555556, \"#d8576b\"], [0.6666666666666666, \"#ed7953\"], [0.7777777777777778, \"#fb9f3a\"], [0.8888888888888888, \"#fdca26\"], [1.0, \"#f0f921\"]], \"type\": \"histogram2d\"}], \"histogram2dcontour\": [{\"colorbar\": {\"outlinewidth\": 0, \"ticks\": \"\"}, \"colorscale\": [[0.0, \"#0d0887\"], [0.1111111111111111, \"#46039f\"], [0.2222222222222222, \"#7201a8\"], [0.3333333333333333, \"#9c179e\"], [0.4444444444444444, \"#bd3786\"], [0.5555555555555556, \"#d8576b\"], [0.6666666666666666, \"#ed7953\"], [0.7777777777777778, \"#fb9f3a\"], [0.8888888888888888, \"#fdca26\"], [1.0, \"#f0f921\"]], \"type\": \"histogram2dcontour\"}], \"mesh3d\": [{\"colorbar\": {\"outlinewidth\": 0, \"ticks\": \"\"}, \"type\": \"mesh3d\"}], \"parcoords\": [{\"line\": {\"colorbar\": {\"outlinewidth\": 0, \"ticks\": \"\"}}, \"type\": \"parcoords\"}], \"pie\": [{\"automargin\": true, \"type\": \"pie\"}], \"scatter\": [{\"marker\": {\"colorbar\": {\"outlinewidth\": 0, \"ticks\": \"\"}}, \"type\": \"scatter\"}], \"scatter3d\": [{\"line\": {\"colorbar\": {\"outlinewidth\": 0, \"ticks\": \"\"}}, \"marker\": {\"colorbar\": {\"outlinewidth\": 0, \"ticks\": \"\"}}, \"type\": \"scatter3d\"}], \"scattercarpet\": [{\"marker\": {\"colorbar\": {\"outlinewidth\": 0, \"ticks\": \"\"}}, \"type\": \"scattercarpet\"}], \"scattergeo\": [{\"marker\": {\"colorbar\": {\"outlinewidth\": 0, \"ticks\": \"\"}}, \"type\": \"scattergeo\"}], \"scattergl\": [{\"marker\": {\"colorbar\": {\"outlinewidth\": 0, \"ticks\": \"\"}}, \"type\": \"scattergl\"}], \"scattermapbox\": [{\"marker\": {\"colorbar\": {\"outlinewidth\": 0, \"ticks\": \"\"}}, \"type\": \"scattermapbox\"}], \"scatterpolar\": [{\"marker\": {\"colorbar\": {\"outlinewidth\": 0, \"ticks\": \"\"}}, \"type\": \"scatterpolar\"}], \"scatterpolargl\": [{\"marker\": {\"colorbar\": {\"outlinewidth\": 0, \"ticks\": \"\"}}, \"type\": \"scatterpolargl\"}], \"scatterternary\": [{\"marker\": {\"colorbar\": {\"outlinewidth\": 0, \"ticks\": \"\"}}, \"type\": \"scatterternary\"}], \"surface\": [{\"colorbar\": {\"outlinewidth\": 0, \"ticks\": \"\"}, \"colorscale\": [[0.0, \"#0d0887\"], [0.1111111111111111, \"#46039f\"], [0.2222222222222222, \"#7201a8\"], [0.3333333333333333, \"#9c179e\"], [0.4444444444444444, \"#bd3786\"], [0.5555555555555556, \"#d8576b\"], [0.6666666666666666, \"#ed7953\"], [0.7777777777777778, \"#fb9f3a\"], [0.8888888888888888, \"#fdca26\"], [1.0, \"#f0f921\"]], \"type\": \"surface\"}], \"table\": [{\"cells\": {\"fill\": {\"color\": \"#EBF0F8\"}, \"line\": {\"color\": \"white\"}}, \"header\": {\"fill\": {\"color\": \"#C8D4E3\"}, \"line\": {\"color\": \"white\"}}, \"type\": \"table\"}]}, \"layout\": {\"annotationdefaults\": {\"arrowcolor\": \"#2a3f5f\", \"arrowhead\": 0, \"arrowwidth\": 1}, \"autotypenumbers\": \"strict\", \"coloraxis\": {\"colorbar\": {\"outlinewidth\": 0, \"ticks\": \"\"}}, \"colorscale\": {\"diverging\": [[0, \"#8e0152\"], [0.1, \"#c51b7d\"], [0.2, \"#de77ae\"], [0.3, \"#f1b6da\"], [0.4, \"#fde0ef\"], [0.5, \"#f7f7f7\"], [0.6, \"#e6f5d0\"], [0.7, \"#b8e186\"], [0.8, \"#7fbc41\"], [0.9, \"#4d9221\"], [1, \"#276419\"]], \"sequential\": [[0.0, \"#0d0887\"], [0.1111111111111111, \"#46039f\"], [0.2222222222222222, \"#7201a8\"], [0.3333333333333333, \"#9c179e\"], [0.4444444444444444, \"#bd3786\"], [0.5555555555555556, \"#d8576b\"], [0.6666666666666666, \"#ed7953\"], [0.7777777777777778, \"#fb9f3a\"], [0.8888888888888888, \"#fdca26\"], [1.0, \"#f0f921\"]], \"sequentialminus\": [[0.0, \"#0d0887\"], [0.1111111111111111, \"#46039f\"], [0.2222222222222222, \"#7201a8\"], [0.3333333333333333, \"#9c179e\"], [0.4444444444444444, \"#bd3786\"], [0.5555555555555556, \"#d8576b\"], [0.6666666666666666, \"#ed7953\"], [0.7777777777777778, \"#fb9f3a\"], [0.8888888888888888, \"#fdca26\"], [1.0, \"#f0f921\"]]}, \"colorway\": [\"#636efa\", \"#EF553B\", \"#00cc96\", \"#ab63fa\", \"#FFA15A\", \"#19d3f3\", \"#FF6692\", \"#B6E880\", \"#FF97FF\", \"#FECB52\"], \"font\": {\"color\": \"#2a3f5f\"}, \"geo\": {\"bgcolor\": \"white\", \"lakecolor\": \"white\", \"landcolor\": \"#E5ECF6\", \"showlakes\": true, \"showland\": true, \"subunitcolor\": \"white\"}, \"hoverlabel\": {\"align\": \"left\"}, \"hovermode\": \"closest\", \"mapbox\": {\"style\": \"light\"}, \"paper_bgcolor\": \"white\", \"plot_bgcolor\": \"#E5ECF6\", \"polar\": {\"angularaxis\": {\"gridcolor\": \"white\", \"linecolor\": \"white\", \"ticks\": \"\"}, \"bgcolor\": \"#E5ECF6\", \"radialaxis\": {\"gridcolor\": \"white\", \"linecolor\": \"white\", \"ticks\": \"\"}}, \"scene\": {\"xaxis\": {\"backgroundcolor\": \"#E5ECF6\", \"gridcolor\": \"white\", \"gridwidth\": 2, \"linecolor\": \"white\", \"showbackground\": true, \"ticks\": \"\", \"zerolinecolor\": \"white\"}, \"yaxis\": {\"backgroundcolor\": \"#E5ECF6\", \"gridcolor\": \"white\", \"gridwidth\": 2, \"linecolor\": \"white\", \"showbackground\": true, \"ticks\": \"\", \"zerolinecolor\": \"white\"}, \"zaxis\": {\"backgroundcolor\": \"#E5ECF6\", \"gridcolor\": \"white\", \"gridwidth\": 2, \"linecolor\": \"white\", \"showbackground\": true, \"ticks\": \"\", \"zerolinecolor\": \"white\"}}, \"shapedefaults\": {\"line\": {\"color\": \"#2a3f5f\"}}, \"ternary\": {\"aaxis\": {\"gridcolor\": \"white\", \"linecolor\": \"white\", \"ticks\": \"\"}, \"baxis\": {\"gridcolor\": \"white\", \"linecolor\": \"white\", \"ticks\": \"\"}, \"bgcolor\": \"#E5ECF6\", \"caxis\": {\"gridcolor\": \"white\", \"linecolor\": \"white\", \"ticks\": \"\"}}, \"title\": {\"x\": 0.05}, \"xaxis\": {\"automargin\": true, \"gridcolor\": \"white\", \"linecolor\": \"white\", \"ticks\": \"\", \"title\": {\"standoff\": 15}, \"zerolinecolor\": \"white\", \"zerolinewidth\": 2}, \"yaxis\": {\"automargin\": true, \"gridcolor\": \"white\", \"linecolor\": \"white\", \"ticks\": \"\", \"title\": {\"standoff\": 15}, \"zerolinecolor\": \"white\", \"zerolinewidth\": 2}}}, \"title\": {\"text\": \"Efficient Frontier\"}, \"xaxis\": {\"anchor\": \"y\", \"domain\": [0.0, 1.0], \"title\": {\"text\": \"Volatility\"}}, \"yaxis\": {\"anchor\": \"x\", \"domain\": [0.0, 1.0], \"title\": {\"text\": \"Return\"}}},                        {\"responsive\": true}                    ).then(function(){\n",
       "                            \n",
       "var gd = document.getElementById('78734e27-edf5-4797-83be-e47d2a8ba1f4');\n",
       "var x = new MutationObserver(function (mutations, observer) {{\n",
       "        var display = window.getComputedStyle(gd).display;\n",
       "        if (!display || display === 'none') {{\n",
       "            console.log([gd, 'removed!']);\n",
       "            Plotly.purge(gd);\n",
       "            observer.disconnect();\n",
       "        }}\n",
       "}});\n",
       "\n",
       "// Listen for the removal of the full notebook cells\n",
       "var notebookContainer = gd.closest('#notebook-container');\n",
       "if (notebookContainer) {{\n",
       "    x.observe(notebookContainer, {childList: true});\n",
       "}}\n",
       "\n",
       "// Listen for the clearing of the current output cell\n",
       "var outputEl = gd.closest('.output');\n",
       "if (outputEl) {{\n",
       "    x.observe(outputEl, {childList: true});\n",
       "}}\n",
       "\n",
       "                        })                };                });            </script>        </div>"
      ]
     },
     "metadata": {},
     "output_type": "display_data"
    }
   ],
   "source": [
    "get_frontier()"
   ]
  },
  {
   "cell_type": "code",
   "execution_count": 13,
   "metadata": {},
   "outputs": [],
   "source": [
    "overview_row = pn.Row(get_cumulative_portfolios(),get_port_sharpes())"
   ]
  },
  {
   "cell_type": "code",
   "execution_count": 34,
   "metadata": {},
   "outputs": [
    {
     "name": "stdout",
     "output_type": "stream",
     "text": [
      "Running Monte Carlo simulation number 0.\n",
      "Running Monte Carlo simulation number 10.\n",
      "Running Monte Carlo simulation number 20.\n",
      "Running Monte Carlo simulation number 30.\n",
      "Running Monte Carlo simulation number 40.\n",
      "Running Monte Carlo simulation number 50.\n",
      "Running Monte Carlo simulation number 60.\n",
      "Running Monte Carlo simulation number 70.\n",
      "Running Monte Carlo simulation number 80.\n",
      "Running Monte Carlo simulation number 90.\n",
      "Running Monte Carlo simulation number 100.\n",
      "Running Monte Carlo simulation number 110.\n",
      "Running Monte Carlo simulation number 120.\n",
      "Running Monte Carlo simulation number 130.\n",
      "Running Monte Carlo simulation number 140.\n",
      "Running Monte Carlo simulation number 150.\n",
      "Running Monte Carlo simulation number 160.\n",
      "Running Monte Carlo simulation number 170.\n",
      "Running Monte Carlo simulation number 180.\n",
      "Running Monte Carlo simulation number 190.\n",
      "Running Monte Carlo simulation number 0.\n",
      "Running Monte Carlo simulation number 10.\n",
      "Running Monte Carlo simulation number 20.\n",
      "Running Monte Carlo simulation number 30.\n",
      "Running Monte Carlo simulation number 40.\n",
      "Running Monte Carlo simulation number 50.\n",
      "Running Monte Carlo simulation number 60.\n",
      "Running Monte Carlo simulation number 70.\n",
      "Running Monte Carlo simulation number 80.\n",
      "Running Monte Carlo simulation number 90.\n",
      "Running Monte Carlo simulation number 100.\n",
      "Running Monte Carlo simulation number 110.\n",
      "Running Monte Carlo simulation number 120.\n",
      "Running Monte Carlo simulation number 130.\n",
      "Running Monte Carlo simulation number 140.\n",
      "Running Monte Carlo simulation number 150.\n",
      "Running Monte Carlo simulation number 160.\n",
      "Running Monte Carlo simulation number 170.\n",
      "Running Monte Carlo simulation number 180.\n",
      "Running Monte Carlo simulation number 190.\n",
      "Running Monte Carlo simulation number 0.\n",
      "Running Monte Carlo simulation number 10.\n",
      "Running Monte Carlo simulation number 20.\n",
      "Running Monte Carlo simulation number 30.\n",
      "Running Monte Carlo simulation number 40.\n",
      "Running Monte Carlo simulation number 50.\n",
      "Running Monte Carlo simulation number 60.\n",
      "Running Monte Carlo simulation number 70.\n",
      "Running Monte Carlo simulation number 80.\n",
      "Running Monte Carlo simulation number 90.\n",
      "Running Monte Carlo simulation number 100.\n",
      "Running Monte Carlo simulation number 110.\n",
      "Running Monte Carlo simulation number 120.\n",
      "Running Monte Carlo simulation number 130.\n",
      "Running Monte Carlo simulation number 140.\n",
      "Running Monte Carlo simulation number 150.\n",
      "Running Monte Carlo simulation number 160.\n",
      "Running Monte Carlo simulation number 170.\n",
      "Running Monte Carlo simulation number 180.\n",
      "Running Monte Carlo simulation number 190.\n",
      "Running Monte Carlo simulation number 0.\n",
      "Running Monte Carlo simulation number 10.\n",
      "Running Monte Carlo simulation number 20.\n",
      "Running Monte Carlo simulation number 30.\n",
      "Running Monte Carlo simulation number 40.\n",
      "Running Monte Carlo simulation number 50.\n",
      "Running Monte Carlo simulation number 60.\n",
      "Running Monte Carlo simulation number 70.\n",
      "Running Monte Carlo simulation number 80.\n",
      "Running Monte Carlo simulation number 90.\n",
      "Running Monte Carlo simulation number 100.\n",
      "Running Monte Carlo simulation number 110.\n",
      "Running Monte Carlo simulation number 120.\n",
      "Running Monte Carlo simulation number 130.\n",
      "Running Monte Carlo simulation number 140.\n",
      "Running Monte Carlo simulation number 150.\n",
      "Running Monte Carlo simulation number 160.\n",
      "Running Monte Carlo simulation number 170.\n",
      "Running Monte Carlo simulation number 180.\n",
      "Running Monte Carlo simulation number 190.\n"
     ]
    }
   ],
   "source": [
    "trad_row = pn.Row(\n",
    "        pn.Row('# Traditional Portfolio'),\n",
    "        get_traditional_mc(),\n",
    "        '##There is a 95% chance that an initial investment of $1000 in the portfolio over the next 5 years will end within in the range of $1046.48 and $2876.67')\n",
    "\n",
    "btc_row = pn.Row(\n",
    "    pn.Row('# Bitcoin Portfolio'),\n",
    "    get_btc_mc(),\n",
    "    '## There is a 95% chance that an initial investment of $1000 in the portfolio over the next 5 years will end within in the range of $1686.03 and $5516.51')\n",
    "\n",
    "eth_row = pn.Row('# Ethereum Portfolio',\n",
    "    pn.Row(get_eth_mc(),\n",
    "    '## There is a 95% chance that an initial investment of $1000 in the portfolio over the next 5 years will end within in the range of $2656.66 and $10589.95'))\n",
    "\n",
    "alpha_row = pn.Row(\n",
    "    pn.Row('# Alpha Portfolio'),\n",
    "    pn.Row(get_alpha_mc(),\n",
    "    '## There is a 95% chance that an initial investment of $1000 in the portfolio over the next 5 years will end within in the range of $2970.51 and $9815.35'))\n",
    "\n",
    "overview_column = pn.Column(\n",
    "    '# How Does Each Portfolio Stack Up?',\n",
    "    pn.Row(get_cumulative_portfolios(),\n",
    "    get_port_sharpes())\n",
    ")\n",
    "\n",
    "mc_column = pn.Column(\n",
    "   pn.Row(trad_row,btc_row),pn.Row(eth_row,alpha_row)\n",
    ")\n",
    "\n",
    "ef_column = pn.Column('Efficient Frontier',\n",
    "                     get_frontier())\n",
    "\n",
    "vol_column = pn.Column(\n",
    "    pn.Row('# At a Glance - Volatility of Assets',\n",
    "    get_vol_box()), \n",
    "    pn.Row(get_vol_graph(),\n",
    "    get_port_returns_graph())\n",
    ")\n",
    "\n",
    "\n",
    "roll_column = pn.Column(\n",
    "    pn.Row('# At a Glance - Rolling 21 Day Average of Assets'),\n",
    "    pn.Row(get_rolling(),\n",
    "    get_ewm())\n",
    ")\n",
    "\n",
    "\n",
    "sharpe_column = pn.Column(\n",
    "    pn.Row('# At a Glance - Sharpe Ratios of Each Asset'),\n",
    "    pn.Row(get_all_histograms(),\n",
    "    get_sharpe_ratios())\n",
    ")\n",
    "\n",
    "\n",
    "heat_column = pn.Column(\n",
    "    '# Heatmap Correlations Related to Each Asset',\n",
    "    get_correlation()\n",
    ")\n"
   ]
  },
  {
   "cell_type": "code",
   "execution_count": 36,
   "metadata": {},
   "outputs": [],
   "source": [
    "tabs = pn.Tabs(\n",
    "    (\"Volatility\",vol_column),\n",
    "    (\"Rolling Averages\",roll_column),\n",
    "    (\"Sharpe Ratios\",sharpe_column),\n",
    "    (\"Heatmap\",heat_column),\n",
    "    (\"Effecient Frontier\",ef_column),\n",
    "    (\"Monte Carlo\", mc_column),\n",
    "    (\"Conclusion\", overview_column),\n",
    ")"
   ]
  },
  {
   "cell_type": "code",
   "execution_count": 37,
   "metadata": {},
   "outputs": [
    {
     "name": "stdout",
     "output_type": "stream",
     "text": [
      "Launching server at http://localhost:57176\n"
     ]
    },
    {
     "data": {
      "text/plain": [
       "<bokeh.server.server.Server at 0x1e2bcfb3348>"
      ]
     },
     "execution_count": 37,
     "metadata": {},
     "output_type": "execute_result"
    }
   ],
   "source": [
    "tabs.show()"
   ]
  },
  {
   "cell_type": "code",
   "execution_count": null,
   "metadata": {},
   "outputs": [],
   "source": []
  },
  {
   "cell_type": "code",
   "execution_count": null,
   "metadata": {},
   "outputs": [],
   "source": []
  }
 ],
 "metadata": {
  "kernelspec": {
   "display_name": "Python [conda env:pyvizenv] *",
   "language": "python",
   "name": "conda-env-pyvizenv-py"
  },
  "language_info": {
   "codemirror_mode": {
    "name": "ipython",
    "version": 3
   },
   "file_extension": ".py",
   "mimetype": "text/x-python",
   "name": "python",
   "nbconvert_exporter": "python",
   "pygments_lexer": "ipython3",
   "version": "3.7.9"
  }
 },
 "nbformat": 4,
 "nbformat_minor": 5
}
