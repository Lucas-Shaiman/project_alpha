{
 "cells": [
  {
   "cell_type": "code",
   "execution_count": 1,
   "metadata": {},
   "outputs": [
    {
     "name": "stderr",
     "output_type": "stream",
     "text": [
      "\n",
      "Bad key \"text.kerning_factor\" on line 4 in\n",
      "/Users/lucasshaiman/opt/anaconda3/envs/pyvizenv/lib/python3.7/site-packages/matplotlib/mpl-data/stylelib/_classic_test_patch.mplstyle.\n",
      "You probably need to get an updated matplotlibrc file from\n",
      "http://github.com/matplotlib/matplotlib/blob/master/matplotlibrc.template\n",
      "or from the matplotlib source distribution\n"
     ]
    },
    {
     "data": {
      "application/javascript": [
       "\n",
       "(function(root) {\n",
       "  function now() {\n",
       "    return new Date();\n",
       "  }\n",
       "\n",
       "  var force = true;\n",
       "\n",
       "  if (typeof root._bokeh_onload_callbacks === \"undefined\" || force === true) {\n",
       "    root._bokeh_onload_callbacks = [];\n",
       "    root._bokeh_is_loading = undefined;\n",
       "  }\n",
       "\n",
       "  if (typeof (root._bokeh_timeout) === \"undefined\" || force === true) {\n",
       "    root._bokeh_timeout = Date.now() + 5000;\n",
       "    root._bokeh_failed_load = false;\n",
       "  }\n",
       "\n",
       "  function run_callbacks() {\n",
       "    try {\n",
       "      root._bokeh_onload_callbacks.forEach(function(callback) {\n",
       "        if (callback != null)\n",
       "          callback();\n",
       "      });\n",
       "    } finally {\n",
       "      delete root._bokeh_onload_callbacks\n",
       "    }\n",
       "    console.debug(\"Bokeh: all callbacks have finished\");\n",
       "  }\n",
       "\n",
       "  function load_libs(css_urls, js_urls, callback) {\n",
       "    if (css_urls == null) css_urls = [];\n",
       "    if (js_urls == null) js_urls = [];\n",
       "\n",
       "    root._bokeh_onload_callbacks.push(callback);\n",
       "    if (root._bokeh_is_loading > 0) {\n",
       "      console.debug(\"Bokeh: BokehJS is being loaded, scheduling callback at\", now());\n",
       "      return null;\n",
       "    }\n",
       "    if (js_urls == null || js_urls.length === 0) {\n",
       "      run_callbacks();\n",
       "      return null;\n",
       "    }\n",
       "    console.debug(\"Bokeh: BokehJS not loaded, scheduling load and callback at\", now());\n",
       "    root._bokeh_is_loading = css_urls.length + js_urls.length;\n",
       "\n",
       "    function on_load() {\n",
       "      root._bokeh_is_loading--;\n",
       "      if (root._bokeh_is_loading === 0) {\n",
       "        console.debug(\"Bokeh: all BokehJS libraries/stylesheets loaded\");\n",
       "        run_callbacks()\n",
       "      }\n",
       "    }\n",
       "\n",
       "    function on_error() {\n",
       "      console.error(\"failed to load \" + url);\n",
       "    }\n",
       "\n",
       "    for (var i = 0; i < css_urls.length; i++) {\n",
       "      var url = css_urls[i];\n",
       "      const element = document.createElement(\"link\");\n",
       "      element.onload = on_load;\n",
       "      element.onerror = on_error;\n",
       "      element.rel = \"stylesheet\";\n",
       "      element.type = \"text/css\";\n",
       "      element.href = url;\n",
       "      console.debug(\"Bokeh: injecting link tag for BokehJS stylesheet: \", url);\n",
       "      document.body.appendChild(element);\n",
       "    }\n",
       "\n",
       "    var skip = [];\n",
       "    if (window.requirejs) {\n",
       "      window.requirejs.config({'paths': {'plotly': 'https://cdn.plot.ly/plotly-latest.min'}});\n",
       "      require([\"plotly\"], function(Plotly,) {\n",
       "        window.Plotly = Plotly;\n",
       "      })\n",
       "    }\n",
       "    if (((window['Plotly'] !== undefined) && (!(window['Plotly'] instanceof HTMLElement))) || window.requirejs) {\n",
       "      var urls = ['https://cdn.plot.ly/plotly-latest.min.js'];\n",
       "      for (var i = 0; i < urls.length; i++) {\n",
       "        skip.push(urls[i])\n",
       "      }\n",
       "    }\n",
       "    for (var i = 0; i < js_urls.length; i++) {\n",
       "      var url = js_urls[i];\n",
       "      if (skip.indexOf(url) >= 0) { on_load(); continue; }\n",
       "      var element = document.createElement('script');\n",
       "      element.onload = on_load;\n",
       "      element.onerror = on_error;\n",
       "      element.async = false;\n",
       "      element.src = url;\n",
       "      console.debug(\"Bokeh: injecting script tag for BokehJS library: \", url);\n",
       "      document.head.appendChild(element);\n",
       "    }\n",
       "\tif (!js_urls.length) {\n",
       "      on_load()\n",
       "    }\n",
       "  };\n",
       "\n",
       "  function inject_raw_css(css) {\n",
       "    const element = document.createElement(\"style\");\n",
       "    element.appendChild(document.createTextNode(css));\n",
       "    document.body.appendChild(element);\n",
       "  }\n",
       "\n",
       "  var js_urls = [\"https://code.jquery.com/jquery-3.4.1.min.js\", \"https://cdn.plot.ly/plotly-latest.min.js\", \"https://cdn.bokeh.org/bokeh/release/bokeh-2.2.3.min.js\", \"https://cdn.bokeh.org/bokeh/release/bokeh-widgets-2.2.3.min.js\", \"https://cdn.bokeh.org/bokeh/release/bokeh-tables-2.2.3.min.js\", \"https://unpkg.com/@holoviz/panel@^0.10.3/dist/panel.min.js\"];\n",
       "  var css_urls = [\"https://unpkg.com/@holoviz/panel@0.10.3/dist/css/alerts.css\", \"https://unpkg.com/@holoviz/panel@0.10.3/dist/css/card.css\", \"https://unpkg.com/@holoviz/panel@0.10.3/dist/css/widgets.css\", \"https://unpkg.com/@holoviz/panel@0.10.3/dist/css/markdown.css\", \"https://unpkg.com/@holoviz/panel@0.10.3/dist/css/json.css\", \"https://unpkg.com/@holoviz/panel@0.10.3/dist/css/dataframe.css\"];\n",
       "\n",
       "  var inline_js = [\n",
       "    function(Bokeh) {\n",
       "      Bokeh.set_log_level(\"info\");\n",
       "    },\n",
       "    function(Bokeh) {} // ensure no trailing comma for IE\n",
       "  ];\n",
       "\n",
       "  function run_inline_js() {\n",
       "    if ((root.Bokeh !== undefined) || (force === true)) {\n",
       "      for (var i = 0; i < inline_js.length; i++) {\n",
       "        inline_js[i].call(root, root.Bokeh);\n",
       "      }} else if (Date.now() < root._bokeh_timeout) {\n",
       "      setTimeout(run_inline_js, 100);\n",
       "    } else if (!root._bokeh_failed_load) {\n",
       "      console.log(\"Bokeh: BokehJS failed to load within specified timeout.\");\n",
       "      root._bokeh_failed_load = true;\n",
       "    }\n",
       "  }\n",
       "\n",
       "  if (root._bokeh_is_loading === 0) {\n",
       "    console.debug(\"Bokeh: BokehJS loaded, going straight to plotting\");\n",
       "    run_inline_js();\n",
       "  } else {\n",
       "    load_libs(css_urls, js_urls, function() {\n",
       "      console.debug(\"Bokeh: BokehJS plotting callback run at\", now());\n",
       "      run_inline_js();\n",
       "    });\n",
       "  }\n",
       "}(window));"
      ],
      "application/vnd.holoviews_load.v0+json": "\n(function(root) {\n  function now() {\n    return new Date();\n  }\n\n  var force = true;\n\n  if (typeof root._bokeh_onload_callbacks === \"undefined\" || force === true) {\n    root._bokeh_onload_callbacks = [];\n    root._bokeh_is_loading = undefined;\n  }\n\n  if (typeof (root._bokeh_timeout) === \"undefined\" || force === true) {\n    root._bokeh_timeout = Date.now() + 5000;\n    root._bokeh_failed_load = false;\n  }\n\n  function run_callbacks() {\n    try {\n      root._bokeh_onload_callbacks.forEach(function(callback) {\n        if (callback != null)\n          callback();\n      });\n    } finally {\n      delete root._bokeh_onload_callbacks\n    }\n    console.debug(\"Bokeh: all callbacks have finished\");\n  }\n\n  function load_libs(css_urls, js_urls, callback) {\n    if (css_urls == null) css_urls = [];\n    if (js_urls == null) js_urls = [];\n\n    root._bokeh_onload_callbacks.push(callback);\n    if (root._bokeh_is_loading > 0) {\n      console.debug(\"Bokeh: BokehJS is being loaded, scheduling callback at\", now());\n      return null;\n    }\n    if (js_urls == null || js_urls.length === 0) {\n      run_callbacks();\n      return null;\n    }\n    console.debug(\"Bokeh: BokehJS not loaded, scheduling load and callback at\", now());\n    root._bokeh_is_loading = css_urls.length + js_urls.length;\n\n    function on_load() {\n      root._bokeh_is_loading--;\n      if (root._bokeh_is_loading === 0) {\n        console.debug(\"Bokeh: all BokehJS libraries/stylesheets loaded\");\n        run_callbacks()\n      }\n    }\n\n    function on_error() {\n      console.error(\"failed to load \" + url);\n    }\n\n    for (var i = 0; i < css_urls.length; i++) {\n      var url = css_urls[i];\n      const element = document.createElement(\"link\");\n      element.onload = on_load;\n      element.onerror = on_error;\n      element.rel = \"stylesheet\";\n      element.type = \"text/css\";\n      element.href = url;\n      console.debug(\"Bokeh: injecting link tag for BokehJS stylesheet: \", url);\n      document.body.appendChild(element);\n    }\n\n    var skip = [];\n    if (window.requirejs) {\n      window.requirejs.config({'paths': {'plotly': 'https://cdn.plot.ly/plotly-latest.min'}});\n      require([\"plotly\"], function(Plotly,) {\n        window.Plotly = Plotly;\n      })\n    }\n    if (((window['Plotly'] !== undefined) && (!(window['Plotly'] instanceof HTMLElement))) || window.requirejs) {\n      var urls = ['https://cdn.plot.ly/plotly-latest.min.js'];\n      for (var i = 0; i < urls.length; i++) {\n        skip.push(urls[i])\n      }\n    }\n    for (var i = 0; i < js_urls.length; i++) {\n      var url = js_urls[i];\n      if (skip.indexOf(url) >= 0) { on_load(); continue; }\n      var element = document.createElement('script');\n      element.onload = on_load;\n      element.onerror = on_error;\n      element.async = false;\n      element.src = url;\n      console.debug(\"Bokeh: injecting script tag for BokehJS library: \", url);\n      document.head.appendChild(element);\n    }\n\tif (!js_urls.length) {\n      on_load()\n    }\n  };\n\n  function inject_raw_css(css) {\n    const element = document.createElement(\"style\");\n    element.appendChild(document.createTextNode(css));\n    document.body.appendChild(element);\n  }\n\n  var js_urls = [\"https://code.jquery.com/jquery-3.4.1.min.js\", \"https://cdn.plot.ly/plotly-latest.min.js\", \"https://cdn.bokeh.org/bokeh/release/bokeh-2.2.3.min.js\", \"https://cdn.bokeh.org/bokeh/release/bokeh-widgets-2.2.3.min.js\", \"https://cdn.bokeh.org/bokeh/release/bokeh-tables-2.2.3.min.js\", \"https://unpkg.com/@holoviz/panel@^0.10.3/dist/panel.min.js\"];\n  var css_urls = [\"https://unpkg.com/@holoviz/panel@0.10.3/dist/css/alerts.css\", \"https://unpkg.com/@holoviz/panel@0.10.3/dist/css/card.css\", \"https://unpkg.com/@holoviz/panel@0.10.3/dist/css/widgets.css\", \"https://unpkg.com/@holoviz/panel@0.10.3/dist/css/markdown.css\", \"https://unpkg.com/@holoviz/panel@0.10.3/dist/css/json.css\", \"https://unpkg.com/@holoviz/panel@0.10.3/dist/css/dataframe.css\"];\n\n  var inline_js = [\n    function(Bokeh) {\n      Bokeh.set_log_level(\"info\");\n    },\n    function(Bokeh) {} // ensure no trailing comma for IE\n  ];\n\n  function run_inline_js() {\n    if ((root.Bokeh !== undefined) || (force === true)) {\n      for (var i = 0; i < inline_js.length; i++) {\n        inline_js[i].call(root, root.Bokeh);\n      }} else if (Date.now() < root._bokeh_timeout) {\n      setTimeout(run_inline_js, 100);\n    } else if (!root._bokeh_failed_load) {\n      console.log(\"Bokeh: BokehJS failed to load within specified timeout.\");\n      root._bokeh_failed_load = true;\n    }\n  }\n\n  if (root._bokeh_is_loading === 0) {\n    console.debug(\"Bokeh: BokehJS loaded, going straight to plotting\");\n    run_inline_js();\n  } else {\n    load_libs(css_urls, js_urls, function() {\n      console.debug(\"Bokeh: BokehJS plotting callback run at\", now());\n      run_inline_js();\n    });\n  }\n}(window));"
     },
     "metadata": {},
     "output_type": "display_data"
    },
    {
     "data": {
      "application/javascript": [
       "\n",
       "if ((window.PyViz === undefined) || (window.PyViz instanceof HTMLElement)) {\n",
       "  window.PyViz = {comms: {}, comm_status:{}, kernels:{}, receivers: {}, plot_index: []}\n",
       "}\n",
       "\n",
       "\n",
       "    function JupyterCommManager() {\n",
       "    }\n",
       "\n",
       "    JupyterCommManager.prototype.register_target = function(plot_id, comm_id, msg_handler) {\n",
       "      if (window.comm_manager || ((window.Jupyter !== undefined) && (Jupyter.notebook.kernel != null))) {\n",
       "        var comm_manager = window.comm_manager || Jupyter.notebook.kernel.comm_manager;\n",
       "        comm_manager.register_target(comm_id, function(comm) {\n",
       "          comm.on_msg(msg_handler);\n",
       "        });\n",
       "      } else if ((plot_id in window.PyViz.kernels) && (window.PyViz.kernels[plot_id])) {\n",
       "        window.PyViz.kernels[plot_id].registerCommTarget(comm_id, function(comm) {\n",
       "          comm.onMsg = msg_handler;\n",
       "        });\n",
       "      } else if (typeof google != 'undefined' && google.colab.kernel != null) {\n",
       "        google.colab.kernel.comms.registerTarget(comm_id, (comm) => {\n",
       "          var messages = comm.messages[Symbol.asyncIterator]();\n",
       "          function processIteratorResult(result) {\n",
       "            var message = result.value;\n",
       "            console.log(message)\n",
       "            var content = {data: message.data, comm_id};\n",
       "            var buffers = []\n",
       "            for (var buffer of message.buffers || []) {\n",
       "              buffers.push(new DataView(buffer))\n",
       "            }\n",
       "            var metadata = message.metadata || {};\n",
       "            var msg = {content, buffers, metadata}\n",
       "            msg_handler(msg);\n",
       "            return messages.next().then(processIteratorResult);\n",
       "          }\n",
       "          return messages.next().then(processIteratorResult);\n",
       "        })\n",
       "      }\n",
       "    }\n",
       "\n",
       "    JupyterCommManager.prototype.get_client_comm = function(plot_id, comm_id, msg_handler) {\n",
       "      if (comm_id in window.PyViz.comms) {\n",
       "        return window.PyViz.comms[comm_id];\n",
       "      } else if (window.comm_manager || ((window.Jupyter !== undefined) && (Jupyter.notebook.kernel != null))) {\n",
       "        var comm_manager = window.comm_manager || Jupyter.notebook.kernel.comm_manager;\n",
       "        var comm = comm_manager.new_comm(comm_id, {}, {}, {}, comm_id);\n",
       "        if (msg_handler) {\n",
       "          comm.on_msg(msg_handler);\n",
       "        }\n",
       "      } else if ((plot_id in window.PyViz.kernels) && (window.PyViz.kernels[plot_id])) {\n",
       "        var comm = window.PyViz.kernels[plot_id].connectToComm(comm_id);\n",
       "        comm.open();\n",
       "        if (msg_handler) {\n",
       "          comm.onMsg = msg_handler;\n",
       "        }\n",
       "      } else if (typeof google != 'undefined' && google.colab.kernel != null) {\n",
       "        var comm_promise = google.colab.kernel.comms.open(comm_id)\n",
       "        comm_promise.then((comm) => {\n",
       "          window.PyViz.comms[comm_id] = comm;\n",
       "          if (msg_handler) {\n",
       "            var messages = comm.messages[Symbol.asyncIterator]();\n",
       "            function processIteratorResult(result) {\n",
       "              var message = result.value;\n",
       "              var content = {data: message.data};\n",
       "              var metadata = message.metadata || {comm_id};\n",
       "              var msg = {content, metadata}\n",
       "              msg_handler(msg);\n",
       "              return messages.next().then(processIteratorResult);\n",
       "            }\n",
       "            return messages.next().then(processIteratorResult);\n",
       "          }\n",
       "        }) \n",
       "        var sendClosure = (data, metadata, buffers, disposeOnDone) => {\n",
       "          return comm_promise.then((comm) => {\n",
       "            comm.send(data, metadata, buffers, disposeOnDone);\n",
       "          });\n",
       "        };\n",
       "        var comm = {\n",
       "          send: sendClosure\n",
       "        };\n",
       "      }\n",
       "      window.PyViz.comms[comm_id] = comm;\n",
       "      return comm;\n",
       "    }\n",
       "    window.PyViz.comm_manager = new JupyterCommManager();\n",
       "    \n",
       "\n",
       "\n",
       "var JS_MIME_TYPE = 'application/javascript';\n",
       "var HTML_MIME_TYPE = 'text/html';\n",
       "var EXEC_MIME_TYPE = 'application/vnd.holoviews_exec.v0+json';\n",
       "var CLASS_NAME = 'output';\n",
       "\n",
       "/**\n",
       " * Render data to the DOM node\n",
       " */\n",
       "function render(props, node) {\n",
       "  var div = document.createElement(\"div\");\n",
       "  var script = document.createElement(\"script\");\n",
       "  node.appendChild(div);\n",
       "  node.appendChild(script);\n",
       "}\n",
       "\n",
       "/**\n",
       " * Handle when a new output is added\n",
       " */\n",
       "function handle_add_output(event, handle) {\n",
       "  var output_area = handle.output_area;\n",
       "  var output = handle.output;\n",
       "  if ((output.data == undefined) || (!output.data.hasOwnProperty(EXEC_MIME_TYPE))) {\n",
       "    return\n",
       "  }\n",
       "  var id = output.metadata[EXEC_MIME_TYPE][\"id\"];\n",
       "  var toinsert = output_area.element.find(\".\" + CLASS_NAME.split(' ')[0]);\n",
       "  if (id !== undefined) {\n",
       "    var nchildren = toinsert.length;\n",
       "    var html_node = toinsert[nchildren-1].children[0];\n",
       "    html_node.innerHTML = output.data[HTML_MIME_TYPE];\n",
       "    var scripts = [];\n",
       "    var nodelist = html_node.querySelectorAll(\"script\");\n",
       "    for (var i in nodelist) {\n",
       "      if (nodelist.hasOwnProperty(i)) {\n",
       "        scripts.push(nodelist[i])\n",
       "      }\n",
       "    }\n",
       "\n",
       "    scripts.forEach( function (oldScript) {\n",
       "      var newScript = document.createElement(\"script\");\n",
       "      var attrs = [];\n",
       "      var nodemap = oldScript.attributes;\n",
       "      for (var j in nodemap) {\n",
       "        if (nodemap.hasOwnProperty(j)) {\n",
       "          attrs.push(nodemap[j])\n",
       "        }\n",
       "      }\n",
       "      attrs.forEach(function(attr) { newScript.setAttribute(attr.name, attr.value) });\n",
       "      newScript.appendChild(document.createTextNode(oldScript.innerHTML));\n",
       "      oldScript.parentNode.replaceChild(newScript, oldScript);\n",
       "    });\n",
       "    if (JS_MIME_TYPE in output.data) {\n",
       "      toinsert[nchildren-1].children[1].textContent = output.data[JS_MIME_TYPE];\n",
       "    }\n",
       "    output_area._hv_plot_id = id;\n",
       "    if ((window.Bokeh !== undefined) && (id in Bokeh.index)) {\n",
       "      window.PyViz.plot_index[id] = Bokeh.index[id];\n",
       "    } else {\n",
       "      window.PyViz.plot_index[id] = null;\n",
       "    }\n",
       "  } else if (output.metadata[EXEC_MIME_TYPE][\"server_id\"] !== undefined) {\n",
       "    var bk_div = document.createElement(\"div\");\n",
       "    bk_div.innerHTML = output.data[HTML_MIME_TYPE];\n",
       "    var script_attrs = bk_div.children[0].attributes;\n",
       "    for (var i = 0; i < script_attrs.length; i++) {\n",
       "      toinsert[toinsert.length - 1].childNodes[1].setAttribute(script_attrs[i].name, script_attrs[i].value);\n",
       "    }\n",
       "    // store reference to server id on output_area\n",
       "    output_area._bokeh_server_id = output.metadata[EXEC_MIME_TYPE][\"server_id\"];\n",
       "  }\n",
       "}\n",
       "\n",
       "/**\n",
       " * Handle when an output is cleared or removed\n",
       " */\n",
       "function handle_clear_output(event, handle) {\n",
       "  var id = handle.cell.output_area._hv_plot_id;\n",
       "  var server_id = handle.cell.output_area._bokeh_server_id;\n",
       "  if (((id === undefined) || !(id in PyViz.plot_index)) && (server_id !== undefined)) { return; }\n",
       "  var comm = window.PyViz.comm_manager.get_client_comm(\"hv-extension-comm\", \"hv-extension-comm\", function () {});\n",
       "  if (server_id !== null) {\n",
       "    comm.send({event_type: 'server_delete', 'id': server_id});\n",
       "    return;\n",
       "  } else if (comm !== null) {\n",
       "    comm.send({event_type: 'delete', 'id': id});\n",
       "  }\n",
       "  delete PyViz.plot_index[id];\n",
       "  if ((window.Bokeh !== undefined) & (id in window.Bokeh.index)) {\n",
       "    var doc = window.Bokeh.index[id].model.document\n",
       "    doc.clear();\n",
       "    const i = window.Bokeh.documents.indexOf(doc);\n",
       "    if (i > -1) {\n",
       "      window.Bokeh.documents.splice(i, 1);\n",
       "    }\n",
       "  }\n",
       "}\n",
       "\n",
       "/**\n",
       " * Handle kernel restart event\n",
       " */\n",
       "function handle_kernel_cleanup(event, handle) {\n",
       "  delete PyViz.comms[\"hv-extension-comm\"];\n",
       "  window.PyViz.plot_index = {}\n",
       "}\n",
       "\n",
       "/**\n",
       " * Handle update_display_data messages\n",
       " */\n",
       "function handle_update_output(event, handle) {\n",
       "  handle_clear_output(event, {cell: {output_area: handle.output_area}})\n",
       "  handle_add_output(event, handle)\n",
       "}\n",
       "\n",
       "function register_renderer(events, OutputArea) {\n",
       "  function append_mime(data, metadata, element) {\n",
       "    // create a DOM node to render to\n",
       "    var toinsert = this.create_output_subarea(\n",
       "    metadata,\n",
       "    CLASS_NAME,\n",
       "    EXEC_MIME_TYPE\n",
       "    );\n",
       "    this.keyboard_manager.register_events(toinsert);\n",
       "    // Render to node\n",
       "    var props = {data: data, metadata: metadata[EXEC_MIME_TYPE]};\n",
       "    render(props, toinsert[0]);\n",
       "    element.append(toinsert);\n",
       "    return toinsert\n",
       "  }\n",
       "\n",
       "  events.on('output_added.OutputArea', handle_add_output);\n",
       "  events.on('output_updated.OutputArea', handle_update_output);\n",
       "  events.on('clear_output.CodeCell', handle_clear_output);\n",
       "  events.on('delete.Cell', handle_clear_output);\n",
       "  events.on('kernel_ready.Kernel', handle_kernel_cleanup);\n",
       "\n",
       "  OutputArea.prototype.register_mime_type(EXEC_MIME_TYPE, append_mime, {\n",
       "    safe: true,\n",
       "    index: 0\n",
       "  });\n",
       "}\n",
       "\n",
       "if (window.Jupyter !== undefined) {\n",
       "  try {\n",
       "    var events = require('base/js/events');\n",
       "    var OutputArea = require('notebook/js/outputarea').OutputArea;\n",
       "    if (OutputArea.prototype.mime_types().indexOf(EXEC_MIME_TYPE) == -1) {\n",
       "      register_renderer(events, OutputArea);\n",
       "    }\n",
       "  } catch(err) {\n",
       "  }\n",
       "}\n"
      ],
      "application/vnd.holoviews_load.v0+json": "\nif ((window.PyViz === undefined) || (window.PyViz instanceof HTMLElement)) {\n  window.PyViz = {comms: {}, comm_status:{}, kernels:{}, receivers: {}, plot_index: []}\n}\n\n\n    function JupyterCommManager() {\n    }\n\n    JupyterCommManager.prototype.register_target = function(plot_id, comm_id, msg_handler) {\n      if (window.comm_manager || ((window.Jupyter !== undefined) && (Jupyter.notebook.kernel != null))) {\n        var comm_manager = window.comm_manager || Jupyter.notebook.kernel.comm_manager;\n        comm_manager.register_target(comm_id, function(comm) {\n          comm.on_msg(msg_handler);\n        });\n      } else if ((plot_id in window.PyViz.kernels) && (window.PyViz.kernels[plot_id])) {\n        window.PyViz.kernels[plot_id].registerCommTarget(comm_id, function(comm) {\n          comm.onMsg = msg_handler;\n        });\n      } else if (typeof google != 'undefined' && google.colab.kernel != null) {\n        google.colab.kernel.comms.registerTarget(comm_id, (comm) => {\n          var messages = comm.messages[Symbol.asyncIterator]();\n          function processIteratorResult(result) {\n            var message = result.value;\n            console.log(message)\n            var content = {data: message.data, comm_id};\n            var buffers = []\n            for (var buffer of message.buffers || []) {\n              buffers.push(new DataView(buffer))\n            }\n            var metadata = message.metadata || {};\n            var msg = {content, buffers, metadata}\n            msg_handler(msg);\n            return messages.next().then(processIteratorResult);\n          }\n          return messages.next().then(processIteratorResult);\n        })\n      }\n    }\n\n    JupyterCommManager.prototype.get_client_comm = function(plot_id, comm_id, msg_handler) {\n      if (comm_id in window.PyViz.comms) {\n        return window.PyViz.comms[comm_id];\n      } else if (window.comm_manager || ((window.Jupyter !== undefined) && (Jupyter.notebook.kernel != null))) {\n        var comm_manager = window.comm_manager || Jupyter.notebook.kernel.comm_manager;\n        var comm = comm_manager.new_comm(comm_id, {}, {}, {}, comm_id);\n        if (msg_handler) {\n          comm.on_msg(msg_handler);\n        }\n      } else if ((plot_id in window.PyViz.kernels) && (window.PyViz.kernels[plot_id])) {\n        var comm = window.PyViz.kernels[plot_id].connectToComm(comm_id);\n        comm.open();\n        if (msg_handler) {\n          comm.onMsg = msg_handler;\n        }\n      } else if (typeof google != 'undefined' && google.colab.kernel != null) {\n        var comm_promise = google.colab.kernel.comms.open(comm_id)\n        comm_promise.then((comm) => {\n          window.PyViz.comms[comm_id] = comm;\n          if (msg_handler) {\n            var messages = comm.messages[Symbol.asyncIterator]();\n            function processIteratorResult(result) {\n              var message = result.value;\n              var content = {data: message.data};\n              var metadata = message.metadata || {comm_id};\n              var msg = {content, metadata}\n              msg_handler(msg);\n              return messages.next().then(processIteratorResult);\n            }\n            return messages.next().then(processIteratorResult);\n          }\n        }) \n        var sendClosure = (data, metadata, buffers, disposeOnDone) => {\n          return comm_promise.then((comm) => {\n            comm.send(data, metadata, buffers, disposeOnDone);\n          });\n        };\n        var comm = {\n          send: sendClosure\n        };\n      }\n      window.PyViz.comms[comm_id] = comm;\n      return comm;\n    }\n    window.PyViz.comm_manager = new JupyterCommManager();\n    \n\n\nvar JS_MIME_TYPE = 'application/javascript';\nvar HTML_MIME_TYPE = 'text/html';\nvar EXEC_MIME_TYPE = 'application/vnd.holoviews_exec.v0+json';\nvar CLASS_NAME = 'output';\n\n/**\n * Render data to the DOM node\n */\nfunction render(props, node) {\n  var div = document.createElement(\"div\");\n  var script = document.createElement(\"script\");\n  node.appendChild(div);\n  node.appendChild(script);\n}\n\n/**\n * Handle when a new output is added\n */\nfunction handle_add_output(event, handle) {\n  var output_area = handle.output_area;\n  var output = handle.output;\n  if ((output.data == undefined) || (!output.data.hasOwnProperty(EXEC_MIME_TYPE))) {\n    return\n  }\n  var id = output.metadata[EXEC_MIME_TYPE][\"id\"];\n  var toinsert = output_area.element.find(\".\" + CLASS_NAME.split(' ')[0]);\n  if (id !== undefined) {\n    var nchildren = toinsert.length;\n    var html_node = toinsert[nchildren-1].children[0];\n    html_node.innerHTML = output.data[HTML_MIME_TYPE];\n    var scripts = [];\n    var nodelist = html_node.querySelectorAll(\"script\");\n    for (var i in nodelist) {\n      if (nodelist.hasOwnProperty(i)) {\n        scripts.push(nodelist[i])\n      }\n    }\n\n    scripts.forEach( function (oldScript) {\n      var newScript = document.createElement(\"script\");\n      var attrs = [];\n      var nodemap = oldScript.attributes;\n      for (var j in nodemap) {\n        if (nodemap.hasOwnProperty(j)) {\n          attrs.push(nodemap[j])\n        }\n      }\n      attrs.forEach(function(attr) { newScript.setAttribute(attr.name, attr.value) });\n      newScript.appendChild(document.createTextNode(oldScript.innerHTML));\n      oldScript.parentNode.replaceChild(newScript, oldScript);\n    });\n    if (JS_MIME_TYPE in output.data) {\n      toinsert[nchildren-1].children[1].textContent = output.data[JS_MIME_TYPE];\n    }\n    output_area._hv_plot_id = id;\n    if ((window.Bokeh !== undefined) && (id in Bokeh.index)) {\n      window.PyViz.plot_index[id] = Bokeh.index[id];\n    } else {\n      window.PyViz.plot_index[id] = null;\n    }\n  } else if (output.metadata[EXEC_MIME_TYPE][\"server_id\"] !== undefined) {\n    var bk_div = document.createElement(\"div\");\n    bk_div.innerHTML = output.data[HTML_MIME_TYPE];\n    var script_attrs = bk_div.children[0].attributes;\n    for (var i = 0; i < script_attrs.length; i++) {\n      toinsert[toinsert.length - 1].childNodes[1].setAttribute(script_attrs[i].name, script_attrs[i].value);\n    }\n    // store reference to server id on output_area\n    output_area._bokeh_server_id = output.metadata[EXEC_MIME_TYPE][\"server_id\"];\n  }\n}\n\n/**\n * Handle when an output is cleared or removed\n */\nfunction handle_clear_output(event, handle) {\n  var id = handle.cell.output_area._hv_plot_id;\n  var server_id = handle.cell.output_area._bokeh_server_id;\n  if (((id === undefined) || !(id in PyViz.plot_index)) && (server_id !== undefined)) { return; }\n  var comm = window.PyViz.comm_manager.get_client_comm(\"hv-extension-comm\", \"hv-extension-comm\", function () {});\n  if (server_id !== null) {\n    comm.send({event_type: 'server_delete', 'id': server_id});\n    return;\n  } else if (comm !== null) {\n    comm.send({event_type: 'delete', 'id': id});\n  }\n  delete PyViz.plot_index[id];\n  if ((window.Bokeh !== undefined) & (id in window.Bokeh.index)) {\n    var doc = window.Bokeh.index[id].model.document\n    doc.clear();\n    const i = window.Bokeh.documents.indexOf(doc);\n    if (i > -1) {\n      window.Bokeh.documents.splice(i, 1);\n    }\n  }\n}\n\n/**\n * Handle kernel restart event\n */\nfunction handle_kernel_cleanup(event, handle) {\n  delete PyViz.comms[\"hv-extension-comm\"];\n  window.PyViz.plot_index = {}\n}\n\n/**\n * Handle update_display_data messages\n */\nfunction handle_update_output(event, handle) {\n  handle_clear_output(event, {cell: {output_area: handle.output_area}})\n  handle_add_output(event, handle)\n}\n\nfunction register_renderer(events, OutputArea) {\n  function append_mime(data, metadata, element) {\n    // create a DOM node to render to\n    var toinsert = this.create_output_subarea(\n    metadata,\n    CLASS_NAME,\n    EXEC_MIME_TYPE\n    );\n    this.keyboard_manager.register_events(toinsert);\n    // Render to node\n    var props = {data: data, metadata: metadata[EXEC_MIME_TYPE]};\n    render(props, toinsert[0]);\n    element.append(toinsert);\n    return toinsert\n  }\n\n  events.on('output_added.OutputArea', handle_add_output);\n  events.on('output_updated.OutputArea', handle_update_output);\n  events.on('clear_output.CodeCell', handle_clear_output);\n  events.on('delete.Cell', handle_clear_output);\n  events.on('kernel_ready.Kernel', handle_kernel_cleanup);\n\n  OutputArea.prototype.register_mime_type(EXEC_MIME_TYPE, append_mime, {\n    safe: true,\n    index: 0\n  });\n}\n\nif (window.Jupyter !== undefined) {\n  try {\n    var events = require('base/js/events');\n    var OutputArea = require('notebook/js/outputarea').OutputArea;\n    if (OutputArea.prototype.mime_types().indexOf(EXEC_MIME_TYPE) == -1) {\n      register_renderer(events, OutputArea);\n    }\n  } catch(err) {\n  }\n}\n"
     },
     "metadata": {},
     "output_type": "display_data"
    }
   ],
   "source": [
    "from yahoo_fin.stock_info import get_data\n",
    "from datetime import date\n",
    "import plotly.express as px\n",
    "import pandas as pd\n",
    "import numpy as np\n",
    "from pathlib import Path\n",
    "import csv\n",
    "import seaborn as sns\n",
    "import plotly.graph_objects as go\n",
    "import plotly.figure_factory as ff\n",
    "import matplotlib.pyplot as plt\n",
    "from plotly.subplots import make_subplots\n",
    "import panel as pn\n",
    "from panel.interact import interact\n",
    "from MCForecastTools import MCSimulation\n",
    "from scipy.optimize import Bounds, LinearConstraint, minimize\n",
    "\n",
    "pn.extension(\"plotly\")\n",
    "%matplotlib inline"
   ]
  },
  {
   "cell_type": "code",
   "execution_count": 2,
   "metadata": {},
   "outputs": [],
   "source": [
    "portfolio_returns = pd.read_csv(r'data/portfolio_returns.csv').set_index('Date')\n",
    "combined_portfolios = pd.read_csv(r'data/combined_portfolios.csv').set_index('Date')\n",
    "combined_returns = pd.read_csv(r'data/combined_returns.csv').set_index('Date')\n",
    "monte_carlo_df = combined_portfolios.dropna()\n",
    "monte_carlo_dataframe = pd.read_csv(r'data/monte_carlo_dataframe.csv')\n",
    "monte_carlo_dataframe = monte_carlo_dataframe.rename({'Unnamed: 0': 'Date'}, axis=1)\n",
    "monte_carlo_dataframe = monte_carlo_dataframe.set_index('Date')\n",
    "index_names = [\n",
    "[\"BTC\", \"ETH\", \"SPY\", \"TLT\", \"GLD\", \"USD\", \"XLE\", \"XLF\"],\n",
    "[\"close\", \"close\",\"close\",\"close\",\"close\",\"close\",\"close\",\"close\"]\n",
    "# [\"BTC\", \"ETH\", \"SPY\", \"TLT\", \"GLD\", \"USD\"],\n",
    "# [\"close\", \"close\",\"close\",\"close\",\"close\",\"close\"]\n",
    "]\n",
    "index_tuples = list(zip(*index_names))\n",
    "new_index = pd.MultiIndex.from_tuples(index_tuples,names=[\"first\", \"second\"])\n",
    "monte_carlo_dataframe.columns = new_index"
   ]
  },
  {
   "cell_type": "code",
   "execution_count": 11,
   "metadata": {},
   "outputs": [],
   "source": [
    "#Define frequently used functions.\n",
    "# r is each stock's return, w is the portion of each stock in our portfolio, and covar is the covariance matrix\n",
    "# Rate of return\n",
    "def ret(r,w):\n",
    "    return r.dot(w)\n",
    "\n",
    "\n",
    "# Risk level - or volatility\n",
    "def vol(w,covar):\n",
    "    return np.sqrt(np.dot(w,np.dot(w,covar)))\n",
    "\n",
    "\n",
    "def sharpe (ret,vol):\n",
    "    return ret/vol\n",
    "\n",
    "\n",
    "def get_port_returns_graph():\n",
    "    port_returns_fig = px.line(portfolio_returns)\n",
    "    port_returns_fig.update_layout(\n",
    "    title='Volatility',\n",
    "    paper_bgcolor='rgb(243, 243, 243)',\n",
    "    plot_bgcolor='rgb(243, 243, 243)',\n",
    "    showlegend=True\n",
    "    )\n",
    "    return port_returns_fig\n",
    "\n",
    "def get_vol_graph():\n",
    "    cumulative_returns = (1 + portfolio_returns).cumprod()\n",
    "    volatility_fig = px.line(cumulative_returns)\n",
    "    volatility_fig.update_layout(\n",
    "        title='Volatility',\n",
    "        paper_bgcolor='rgb(243, 243, 243)',\n",
    "        plot_bgcolor='rgb(243, 243, 243)',\n",
    "        showlegend=True\n",
    "    )\n",
    "    return volatility_fig\n",
    "\n",
    "def get_vol_box():\n",
    "    vol_box_fig = go.Figure()\n",
    "    vol_box_fig.add_trace(go.Box(y=portfolio_returns['BTC'], name='Bitcoin',\n",
    "                    marker_color = 'indianred', boxpoints=False))\n",
    "    vol_box_fig.add_trace(go.Box(y=portfolio_returns['ETH'], name = 'Ethereum',\n",
    "                    marker_color = 'lightseagreen', boxpoints=False))\n",
    "    vol_box_fig.add_trace(go.Box(y=portfolio_returns['SPY'], name='S&P 500',\n",
    "                    marker_color = 'blue', boxpoints=False))\n",
    "    vol_box_fig.add_trace(go.Box(y=portfolio_returns['TLT'], name = 'Bonds (TLT)',\n",
    "                    marker_color = 'grey', boxpoints=False))\n",
    "    vol_box_fig.add_trace(go.Box(y=portfolio_returns['USD'], name = 'US Dollar',\n",
    "                    marker_color = 'green', boxpoints=False))\n",
    "    vol_box_fig.add_trace(go.Box(y=portfolio_returns['GLD'], name='Gold',\n",
    "                    marker_color = 'gold', boxpoints=False))\n",
    "    vol_box_fig.add_trace(go.Box(y=portfolio_returns['XLE'], name = 'Energy (XLE)',\n",
    "                    marker_color = 'red', boxpoints=False))\n",
    "    vol_box_fig.add_trace(go.Box(y=portfolio_returns['XLF'], name = 'Financials (XLF)',\n",
    "                    marker_color = 'black', boxpoints=False))\n",
    "\n",
    "    vol_box_fig.update_layout(\n",
    "        title='Daily Return Distributions',\n",
    "        paper_bgcolor='rgb(243, 243, 243)',\n",
    "        plot_bgcolor='rgb(243, 243, 243)',\n",
    "        showlegend=False\n",
    "    )\n",
    "\n",
    "    return vol_box_fig\n",
    "\n",
    "def get_rolling():\n",
    "    # Calculate the rolling standard deviation for all portfolios using a 21-day window\n",
    "    roll = portfolio_returns.rolling(window=120).std()\n",
    "    # Plot the rolling standard deviation\n",
    "    roll_120_fig = px.line(roll)\n",
    "    roll_120_fig.update_layout(\n",
    "        title='Rolling Returns',\n",
    "        paper_bgcolor='rgb(243, 243, 243)',\n",
    "        plot_bgcolor='rgb(243, 243, 243)',\n",
    "        showlegend=True\n",
    "    )\n",
    "    return roll_120_fig\n",
    "\n",
    "def get_ewm():\n",
    "    ewm_calc = portfolio_returns.ewm(halflife=120).std()\n",
    "    roll_120_line_fig = px.line(ewm_calc)\n",
    "    roll_120_line_fig.update_layout(\n",
    "        title='Rolling Returns',\n",
    "        paper_bgcolor='rgb(243, 243, 243)',\n",
    "        plot_bgcolor='rgb(243, 243, 243)',\n",
    "        showlegend=True\n",
    "    )\n",
    "    return roll_120_line_fig\n",
    "\n",
    "def get_sharpe_ratios():\n",
    "    sharpe_ratios = (portfolio_returns.mean() * 252) / (portfolio_returns.std() * np.sqrt(252))\n",
    "    sharpe_bar_fig = px.bar(sharpe_ratios,labels=dict(x=\"Assets\", y=\"Sharpe Ratio\", color=\"Sharpe Ratio\"),color = sharpe_ratios, color_continuous_scale='Bluered_r')\n",
    "    sharpe_bar_fig.update_layout(\n",
    "    title='Sharpe Ratios',\n",
    "    paper_bgcolor='rgb(243, 243, 243)',\n",
    "    plot_bgcolor='rgb(243, 243, 243)',\n",
    "    showlegend=True\n",
    "    )\n",
    "    return sharpe_bar_fig\n",
    "\n",
    "def get_correlation():\n",
    "    price_correlation_new = portfolio_returns.corr()\n",
    "    heatmap_fig = px.imshow(price_correlation_new, color_continuous_scale='Bluered_r', labels = dict(color='Corerelation'))\n",
    "    heatmap_fig.update_layout(\n",
    "        title='Individual Asset Correlations',\n",
    "        paper_bgcolor='rgb(243, 243, 243)',\n",
    "        plot_bgcolor='rgb(243, 243, 243)',\n",
    "        showlegend=True\n",
    "    )\n",
    "    return heatmap_fig\n",
    "\n",
    "def get_cumulative_portfolios():\n",
    "    cum_returns = px.line(combined_portfolios)\n",
    "    cum_returns.update_layout(\n",
    "        title='5 Year Cumulative Portfolio Returns',\n",
    "        paper_bgcolor='rgb(243, 243, 243)',\n",
    "        plot_bgcolor='rgb(243, 243, 243)',\n",
    "        showlegend=True\n",
    "    )\n",
    "    return cum_returns\n",
    "\n",
    "def get_portfolio_sharpe_ratios():\n",
    "    portfolio_sharpe_ratios = (combined_returns.mean() * 252) / (combined_returns.std() * np.sqrt(252))\n",
    "    portfolio_sharpe_fig = px.bar(portfolio_sharpe_ratios,labels=dict(x=\"Assets\", y=\"Sharpe Ratio\", color=\"Sharpe Ratio\"),color = portfolio_sharpe_ratios, color_continuous_scale='Bluered_r')\n",
    "    portfolio_sharpe_fig.update_layout(\n",
    "        title='Portoflio Sharpe Ratios',\n",
    "        paper_bgcolor='rgb(243, 243, 243)',\n",
    "        plot_bgcolor='rgb(243, 243, 243)',\n",
    "        showlegend=True\n",
    "    )\n",
    "    return portfolio_sharpe_fig\n",
    "\n",
    "def get_traditional_mc():\n",
    "    mc_traditional = MCSimulation(\n",
    "    monte_carlo_dataframe,\n",
    "    weights = [0,0,0.50,0.40,0.05,0.05,0,0],\n",
    "    num_simulation = 200,\n",
    "    num_trading_days = 252*5)\n",
    "    mc_trad_px = mc_traditional.calc_cumulative_return()\n",
    "    mc_trad_fig = px.line(mc_trad_px)\n",
    "    mc_trad_fig.update_layout(\n",
    "        title='Traditional Portfolio Monte Carlo Simulation',\n",
    "        paper_bgcolor='rgb(243, 243, 243)',\n",
    "        plot_bgcolor='rgb(243, 243, 243)',\n",
    "        showlegend=True\n",
    "    )\n",
    "    return mc_trad_fig\n",
    "    \n",
    "def get_btc_mc():\n",
    "    mc_btc_port = MCSimulation(\n",
    "    monte_carlo_dataframe,\n",
    "    weights = [0.10,0,0.50,0.40,0,0,0,0],\n",
    "    num_simulation = 200,\n",
    "    num_trading_days = 252*5)\n",
    "    mc_btc_px = mc_btc_port.calc_cumulative_return()\n",
    "    mc_btc_fig = px.line(mc_btc_px)\n",
    "    mc_btc_fig.update_layout(\n",
    "        title='Bitcoin Portfolio Monte Carlo Simulation',\n",
    "        paper_bgcolor='rgb(243, 243, 243)',\n",
    "        plot_bgcolor='rgb(243, 243, 243)',\n",
    "        showlegend=True\n",
    "    )\n",
    "    return mc_btc_fig\n",
    "    \n",
    "    \n",
    "def get_eth_mc():\n",
    "    mc_eth_port = MCSimulation(\n",
    "    monte_carlo_dataframe,\n",
    "    weights = [0,0.10,0.50,0.40,0,0,0,0],\n",
    "    num_simulation = 200,\n",
    "    num_trading_days = 252*5)\n",
    "    mc_eth_px = mc_eth_port.calc_cumulative_return()\n",
    "    mc_eth_fig = px.line(mc_eth_px)\n",
    "    mc_eth_fig.update_layout(\n",
    "        title='Ethereum Portfolio Monte Carlo Simulation',\n",
    "        paper_bgcolor='rgb(243, 243, 243)',\n",
    "        plot_bgcolor='rgb(243, 243, 243)',\n",
    "        showlegend=True\n",
    "    )\n",
    "    return mc_eth_fig\n",
    "\n",
    "    \n",
    "def get_alpha_mc():\n",
    "    mc_alpha_portfolio = MCSimulation(\n",
    "    monte_carlo_dataframe,\n",
    "    weights = [0.07,0.08,0.27,0.2,0.24,0.15,0,0],\n",
    "    num_simulation = 200,\n",
    "    num_trading_days = 252*5)\n",
    "    mc_alpha_px = mc_alpha_portfolio.calc_cumulative_return()\n",
    "    mc_alpha_fig = px.line(mc_alpha_px)\n",
    "    mc_alpha_fig.update_layout(\n",
    "        title='Alpha Portfolio Monte Carlo Simulation',\n",
    "        paper_bgcolor='rgb(243, 243, 243)',\n",
    "        plot_bgcolor='rgb(243, 243, 243)',\n",
    "        showlegend=True\n",
    "    )\n",
    "    return mc_alpha_fig\n",
    "    \n",
    "    \n",
    "def get_port_sharpes():\n",
    "    portfolio_sharpe_ratios = (combined_returns.mean() * 252) / (combined_returns.std() * np.sqrt(252))\n",
    "    portfolio_sharpe_fig = px.bar(portfolio_sharpe_ratios,labels=dict(x=\"Assets\", y=\"Sharpe Ratio\", color=\"Sharpe Ratio\"),color = portfolio_sharpe_ratios, color_continuous_scale='Bluered_r')\n",
    "    portfolio_sharpe_fig.update_layout(\n",
    "        title='Portoflio Sharpe Ratios',\n",
    "        paper_bgcolor='rgb(243, 243, 243)',\n",
    "        plot_bgcolor='rgb(243, 243, 243)',\n",
    "        showlegend=True\n",
    "    )\n",
    "    return portfolio_sharpe_fig\n",
    "    \n",
    "    \n",
    "def get_histogram():\n",
    "    histogram_fig = px.histogram(portfolio_returns)\n",
    "    histogram_fig.update_layout(\n",
    "    title='Histogram Showing Standard Deviation of Assets',\n",
    "    paper_bgcolor='rgb(243, 243, 243)',\n",
    "    plot_bgcolor='rgb(243, 243, 243)',\n",
    "    showlegend=True,\n",
    "    barmode = 'stack'\n",
    "    )\n",
    "    return histogram_fig\n",
    "    \n",
    "    \n",
    "def get_all_histograms():\n",
    "    all_histo_fig = make_subplots(rows=4, cols=2)\n",
    "    trace0 = go.Histogram(x=portfolio_returns['BTC'],name='BTC')\n",
    "    trace1 = go.Histogram(x=portfolio_returns['ETH'],name='ETH')\n",
    "    trace2 = go.Histogram(x=portfolio_returns['SPY'],name='SPY')\n",
    "    trace3 = go.Histogram(x=portfolio_returns['TLT'],name='TLT')\n",
    "    trace4 = go.Histogram(x=portfolio_returns['GLD'],name='GLD')\n",
    "    trace5 = go.Histogram(x=portfolio_returns['TLT'],name='TLT')\n",
    "    trace6 = go.Histogram(x=portfolio_returns['XLE'],name='XLE')\n",
    "    trace7 = go.Histogram(x=portfolio_returns['XLF'],name='XLF')\n",
    "    all_histo_fig.append_trace(trace0, 1, 1)\n",
    "    all_histo_fig.append_trace(trace1, 1, 2)\n",
    "    all_histo_fig.append_trace(trace2, 2, 1)\n",
    "    all_histo_fig.append_trace(trace3, 2, 2)\n",
    "    all_histo_fig.append_trace(trace4, 3, 1)\n",
    "    all_histo_fig.append_trace(trace5, 3, 2)\n",
    "    all_histo_fig.append_trace(trace6, 4, 1)\n",
    "    all_histo_fig.append_trace(trace7, 4, 2)\n",
    "    all_histo_fig.update_layout(\n",
    "    title='Histogram Showing Standard Deviation of Assets',\n",
    "    paper_bgcolor='rgb(243, 243, 243)',\n",
    "    plot_bgcolor='rgb(243, 243, 243)',\n",
    "    showlegend=True)\n",
    "\n",
    "    return all_histo_fig\n",
    "\n",
    "def get_frontier():\n",
    "    df2 = portfolio_returns.copy()\n",
    "    df2.drop('XLE', axis=1, inplace=True)\n",
    "    df2.drop('XLF', axis=1, inplace=True)\n",
    "    df=portfolio_returns.copy()\n",
    "    df.drop('XLE', axis=1, inplace=True)\n",
    "    df.drop('XLF', axis=1, inplace=True)\n",
    "\n",
    "    # Calculate annualized average return for each stock. Annualized average return = Daily average return * 252 business days.\n",
    "    r = np.mean(df,axis=0)*252\n",
    "\n",
    "    # Create a covariance matrix\n",
    "    covar = df.cov()\n",
    "    bounds = Bounds(0, 1)\n",
    "    linear_constraint = LinearConstraint(np.ones((df2.shape[1],), dtype=int),1,1)\n",
    "    #Create x0, the first guess at the values of each stock's weight.\n",
    "    weights = np.ones(df2.shape[1])\n",
    "    x0 = weights/np.sum(weights)\n",
    "    #Define a function to calculate volatility\n",
    "    fun1 = lambda w: np.sqrt(np.dot(w,np.dot(w,covar)))\n",
    "    res = minimize(fun1,x0,method='trust-constr',constraints = linear_constraint,bounds = bounds)\n",
    "\n",
    "    #These are the weights of the stocks in the portfolio with the lowest level of risk possible.\n",
    "    w_min = res.x\n",
    "\n",
    "    np.set_printoptions(suppress = True, precision=2)\n",
    "    #Define 1/Sharpe_ratio\n",
    "    fun2 = lambda w: np.sqrt(np.dot(w,np.dot(w,covar)))/r.dot(w)\n",
    "    res_sharpe = minimize(fun2,x0,method='trust-constr',constraints = linear_constraint,bounds = bounds)\n",
    "\n",
    "    #These are the weights of the stocks in the portfolio with the highest Sharpe ratio.\n",
    "    w_sharpe = res_sharpe.x\n",
    "    w = w_min\n",
    "    num_ports = 100\n",
    "    gap = (np.amax(r) - ret(r,w_min))/num_ports\n",
    "    \n",
    "    \n",
    "    all_weights = np.zeros((num_ports, len(df.columns)))\n",
    "    all_weights[0],all_weights[1]=w_min,w_sharpe\n",
    "    ret_arr = np.zeros(num_ports)\n",
    "    ret_arr[0],ret_arr[1]=ret(r,w_min),ret(r,w_sharpe)\n",
    "    vol_arr = np.zeros(num_ports)\n",
    "    vol_arr[0],vol_arr[1]=vol(w_min,covar),vol(w_sharpe,covar)\n",
    "    \n",
    "    for i in range(num_ports):\n",
    "        port_ret = ret(r,w) + i*gap\n",
    "        double_constraint = LinearConstraint([np.ones(df2.shape[1]),r],[1,port_ret],[1,port_ret])\n",
    "\n",
    "        #Create x0: initial guesses for weights.\n",
    "        x0 = w_min\n",
    "        #Define a function for portfolio volatility.\n",
    "        fun = lambda w: np.sqrt(np.dot(w,np.dot(w,covar)))\n",
    "        a = minimize(fun,x0,method='trust-constr',constraints = double_constraint,bounds = bounds)\n",
    "\n",
    "        all_weights[i,:]=a.x\n",
    "        ret_arr[i]=port_ret\n",
    "        vol_arr[i]=vol(a.x,covar)\n",
    "\n",
    "    sharpe_arr = ret_arr/vol_arr  \n",
    "    \n",
    "    fig = px.scatter(x=vol_arr, y=ret_arr, color=sharpe_arr)\n",
    "    fig.update_layout(\n",
    "    title='Efficient Frontier',\n",
    "    paper_bgcolor='rgb(243, 243, 243)',\n",
    "    plot_bgcolor='rgb(243, 243, 243)',\n",
    "    xaxis_title=\"Volatility\",\n",
    "    yaxis_title=\"Return\"\n",
    "    )\n",
    "    return fig"
   ]
  },
  {
   "cell_type": "code",
   "execution_count": 12,
   "metadata": {},
   "outputs": [
    {
     "data": {
      "application/vnd.plotly.v1+json": {
       "config": {
        "plotlyServerURL": "https://plot.ly"
       },
       "data": [
        {
         "hovertemplate": "x=%{x}<br>y=%{y}<br>color=%{marker.color}<extra></extra>",
         "legendgroup": "",
         "marker": {
          "color": [
           10.4756243816274,
           18.400593789199533,
           24.354789514223977,
           28.294419494605304,
           30.742626948563526,
           32.23499581906478,
           33.14608828986498,
           33.7065162195862,
           34.05299398133699,
           34.266536992262665,
           34.39587742134022,
           34.4709425145972,
           34.510515924285855,
           34.52663527517125,
           34.52716351031245,
           34.517323928710695,
           34.50063574066232,
           34.47949855886363,
           34.45476663125738,
           34.41912282437763,
           34.37144089969865,
           34.313462621597466,
           34.25060112582958,
           34.18336506417137,
           34.11349309353659,
           34.04353722227919,
           33.97302131749109,
           33.90303858478835,
           33.83160822361919,
           33.76603048780136,
           33.699934459315394,
           33.635875983295115,
           33.57295072135301,
           33.51251972479922,
           33.45364003786947,
           33.39662886398049,
           33.341464906211186,
           33.288113766306246,
           33.23622880683335,
           33.18667066462049,
           33.13817293877196,
           33.08968373466739,
           33.04594179170877,
           33.001444966390736,
           32.95836688917451,
           32.91586252067476,
           32.87431677688957,
           32.83375853073583,
           32.79343479118892,
           32.753120095937525,
           32.71791770439009,
           32.68080880422694,
           32.64506622877289,
           32.610452799384404,
           32.57640098398758,
           32.54319904593169,
           32.51033047425179,
           32.47875582839713,
           32.44566415509108,
           32.40638758998461,
           32.38489871802757,
           32.35736323449393,
           32.32771872678196,
           32.2983847152244,
           32.26967787612828,
           32.23712949461668,
           32.21181197343015,
           32.18361632946736,
           32.15329405476221,
           32.12825199057914,
           32.101269955587256,
           32.075083198730105,
           32.04834057038515,
           32.02239998724218,
           31.99682839354009,
           31.96884436798041,
           31.9467681888192,
           31.920081313120743,
           31.88836425626146,
           31.869121838489395,
           31.829183733645657,
           31.767397914935486,
           31.715966391835302,
           31.643859430001438,
           31.562153039919327,
           31.462129561080225,
           31.363132791928226,
           31.26012668577927,
           31.154962628496236,
           31.041498345150522,
           30.921456953117833,
           30.796523672414697,
           30.671326624901273,
           30.54478671410794,
           30.414212344554564,
           30.29108428252171,
           30.147995623965798,
           30.01340975531047,
           29.87679410369434,
           29.74577054654464
          ],
          "coloraxis": "coloraxis",
          "symbol": "circle"
         },
         "mode": "markers",
         "name": "",
         "orientation": "v",
         "showlegend": false,
         "type": "scatter",
         "x": [
          0.002532149690064631,
          0.002639483094803611,
          0.002899235216525727,
          0.0032745846112214537,
          0.003730802773040422,
          0.004241876929270354,
          0.004790281462513812,
          0.005364579902638641,
          0.005957288419940568,
          0.006563421158370258,
          0.007179579055472773,
          0.007803387685866862,
          0.008433149367772712,
          0.009067623886979462,
          0.009705887072589913,
          0.010347237749813871,
          0.010991135561613814,
          0.01163715797409994,
          0.01228525455816066,
          0.012938382778929468,
          0.01359762584845992,
          0.01426297910629048,
          0.014932713319895206,
          0.01560690744911584,
          0.01628501720836346,
          0.016965952318768244,
          0.01764998264009131,
          0.01833657010241756,
          0.0190268120465911,
          0.019716556802701242,
          0.02040929979120852,
          0.021103487029341738,
          0.021799587585201383,
          0.022496627921285647,
          0.023195111003912777,
          0.02389472017140534,
          0.024595359288790437,
          0.025296942978036193,
          0.025999632149142485,
          0.02670264634761617,
          0.027406886284889884,
          0.028113183313900846,
          0.028817412977481197,
          0.02952418477565246,
          0.030231563645475603,
          0.030940254803625517,
          0.03164985565303049,
          0.03236027903706798,
          0.03307222320583184,
          0.033785911054230074,
          0.03449596700245351,
          0.035209606458104864,
          0.03592336482704236,
          0.03663741925017034,
          0.03735234714715134,
          0.03806777704367535,
          0.03878427054984478,
          0.03950064056537257,
          0.04022028524242796,
          0.04094921319825462,
          0.041657017159863675,
          0.04237367794435908,
          0.0430943707414377,
          0.043815965278893886,
          0.04453800611129116,
          0.045266726304209345,
          0.04598659417538491,
          0.04671177150186299,
          0.04744135816061277,
          0.04816440517706953,
          0.048891534692752675,
          0.049618657294326,
          0.050347841398864675,
          0.051076964124985996,
          0.051806671654017956,
          0.052541511054625956,
          0.05326778555238039,
          0.05400286381710563,
          0.05474780698575236,
          0.05547251121516103,
          0.056234631738942595,
          0.05703786749781562,
          0.05782534946513155,
          0.05865368766245744,
          0.059503901786307996,
          0.06039366973467871,
          0.0612871068022266,
          0.06219417777233566,
          0.06311161746322928,
          0.0640523942688884,
          0.06501389960241491,
          0.06599338051069101,
          0.06698141679538612,
          0.0679805408030772,
          0.0689971288086043,
          0.0700052700055645,
          0.07106866300145655,
          0.07212176044062374,
          0.07318931703312051,
          0.0742527197048822
         ],
         "xaxis": "x",
         "y": [
          0.02652584903117131,
          0.04856805624094049,
          0.07061026345070966,
          0.09265247066047883,
          0.11469467787024801,
          0.1367368850800172,
          0.15877909228978634,
          0.18082129949955553,
          0.2028635067093247,
          0.2249057139190939,
          0.24694792112886307,
          0.26899012833863223,
          0.2910323355484014,
          0.3130745427581706,
          0.3351167499679398,
          0.35715895717770896,
          0.37920116438747814,
          0.4012433715972473,
          0.4232855788070165,
          0.4453277860167857,
          0.46736999322655487,
          0.489412200436324,
          0.5114544076460932,
          0.5334966148558623,
          0.5555388220656314,
          0.5775810292754007,
          0.5996232364851698,
          0.621665443694939,
          0.6437076509047082,
          0.6657498581144774,
          0.6877920653242465,
          0.7098342725340158,
          0.7318764797437849,
          0.753918686953554,
          0.7759608941633233,
          0.7980031013730924,
          0.8200453085828616,
          0.8420875157926307,
          0.8641297230024,
          0.8861719302121691,
          0.9082141374219384,
          0.9302563446317075,
          0.9522985518414766,
          0.9743407590512458,
          0.996382966261015,
          1.0184251734707843,
          1.0404673806805533,
          1.0625095878903226,
          1.0845517951000916,
          1.1065940023098608,
          1.12863620951963,
          1.1506784167293993,
          1.1727206239391683,
          1.1947628311489376,
          1.2168050383587068,
          1.238847245568476,
          1.260889452778245,
          1.2829316599880143,
          1.3049738671977835,
          1.3270160744075525,
          1.3490582816173218,
          1.371100488827091,
          1.3931426960368603,
          1.4151849032466293,
          1.4372271104563985,
          1.4592693176661677,
          1.4813115248759368,
          1.503353732085706,
          1.5253959392954752,
          1.5474381465052445,
          1.5694803537150135,
          1.5915225609247827,
          1.613564768134552,
          1.635606975344321,
          1.6576491825540902,
          1.6796913897638595,
          1.7017335969736287,
          1.7237758041833977,
          1.745818011393167,
          1.7678602186029362,
          1.7899024258127054,
          1.8119446330224744,
          1.8339868402322437,
          1.856029047442013,
          1.878071254651782,
          1.9001134618615512,
          1.9221556690713204,
          1.9441978762810896,
          1.9662400834908587,
          1.988282290700628,
          2.010324497910397,
          2.0323667051201664,
          2.0544089123299356,
          2.076451119539705,
          2.098493326749474,
          2.1205355339592433,
          2.142577741169012,
          2.1646199483787814,
          2.1866621555885506,
          2.20870436279832
         ],
         "yaxis": "y"
        }
       ],
       "layout": {
        "autosize": true,
        "coloraxis": {
         "colorbar": {
          "title": {
           "text": "color"
          }
         },
         "colorscale": [
          [
           0,
           "#0d0887"
          ],
          [
           0.1111111111111111,
           "#46039f"
          ],
          [
           0.2222222222222222,
           "#7201a8"
          ],
          [
           0.3333333333333333,
           "#9c179e"
          ],
          [
           0.4444444444444444,
           "#bd3786"
          ],
          [
           0.5555555555555556,
           "#d8576b"
          ],
          [
           0.6666666666666666,
           "#ed7953"
          ],
          [
           0.7777777777777778,
           "#fb9f3a"
          ],
          [
           0.8888888888888888,
           "#fdca26"
          ],
          [
           1,
           "#f0f921"
          ]
         ]
        },
        "legend": {
         "tracegroupgap": 0
        },
        "margin": {
         "t": 60
        },
        "paper_bgcolor": "rgb(243, 243, 243)",
        "plot_bgcolor": "rgb(243, 243, 243)",
        "template": {
         "data": {
          "bar": [
           {
            "error_x": {
             "color": "#2a3f5f"
            },
            "error_y": {
             "color": "#2a3f5f"
            },
            "marker": {
             "line": {
              "color": "#E5ECF6",
              "width": 0.5
             }
            },
            "type": "bar"
           }
          ],
          "barpolar": [
           {
            "marker": {
             "line": {
              "color": "#E5ECF6",
              "width": 0.5
             }
            },
            "type": "barpolar"
           }
          ],
          "carpet": [
           {
            "aaxis": {
             "endlinecolor": "#2a3f5f",
             "gridcolor": "white",
             "linecolor": "white",
             "minorgridcolor": "white",
             "startlinecolor": "#2a3f5f"
            },
            "baxis": {
             "endlinecolor": "#2a3f5f",
             "gridcolor": "white",
             "linecolor": "white",
             "minorgridcolor": "white",
             "startlinecolor": "#2a3f5f"
            },
            "type": "carpet"
           }
          ],
          "choropleth": [
           {
            "colorbar": {
             "outlinewidth": 0,
             "ticks": ""
            },
            "type": "choropleth"
           }
          ],
          "contour": [
           {
            "colorbar": {
             "outlinewidth": 0,
             "ticks": ""
            },
            "colorscale": [
             [
              0,
              "#0d0887"
             ],
             [
              0.1111111111111111,
              "#46039f"
             ],
             [
              0.2222222222222222,
              "#7201a8"
             ],
             [
              0.3333333333333333,
              "#9c179e"
             ],
             [
              0.4444444444444444,
              "#bd3786"
             ],
             [
              0.5555555555555556,
              "#d8576b"
             ],
             [
              0.6666666666666666,
              "#ed7953"
             ],
             [
              0.7777777777777778,
              "#fb9f3a"
             ],
             [
              0.8888888888888888,
              "#fdca26"
             ],
             [
              1,
              "#f0f921"
             ]
            ],
            "type": "contour"
           }
          ],
          "contourcarpet": [
           {
            "colorbar": {
             "outlinewidth": 0,
             "ticks": ""
            },
            "type": "contourcarpet"
           }
          ],
          "heatmap": [
           {
            "colorbar": {
             "outlinewidth": 0,
             "ticks": ""
            },
            "colorscale": [
             [
              0,
              "#0d0887"
             ],
             [
              0.1111111111111111,
              "#46039f"
             ],
             [
              0.2222222222222222,
              "#7201a8"
             ],
             [
              0.3333333333333333,
              "#9c179e"
             ],
             [
              0.4444444444444444,
              "#bd3786"
             ],
             [
              0.5555555555555556,
              "#d8576b"
             ],
             [
              0.6666666666666666,
              "#ed7953"
             ],
             [
              0.7777777777777778,
              "#fb9f3a"
             ],
             [
              0.8888888888888888,
              "#fdca26"
             ],
             [
              1,
              "#f0f921"
             ]
            ],
            "type": "heatmap"
           }
          ],
          "heatmapgl": [
           {
            "colorbar": {
             "outlinewidth": 0,
             "ticks": ""
            },
            "colorscale": [
             [
              0,
              "#0d0887"
             ],
             [
              0.1111111111111111,
              "#46039f"
             ],
             [
              0.2222222222222222,
              "#7201a8"
             ],
             [
              0.3333333333333333,
              "#9c179e"
             ],
             [
              0.4444444444444444,
              "#bd3786"
             ],
             [
              0.5555555555555556,
              "#d8576b"
             ],
             [
              0.6666666666666666,
              "#ed7953"
             ],
             [
              0.7777777777777778,
              "#fb9f3a"
             ],
             [
              0.8888888888888888,
              "#fdca26"
             ],
             [
              1,
              "#f0f921"
             ]
            ],
            "type": "heatmapgl"
           }
          ],
          "histogram": [
           {
            "marker": {
             "colorbar": {
              "outlinewidth": 0,
              "ticks": ""
             }
            },
            "type": "histogram"
           }
          ],
          "histogram2d": [
           {
            "colorbar": {
             "outlinewidth": 0,
             "ticks": ""
            },
            "colorscale": [
             [
              0,
              "#0d0887"
             ],
             [
              0.1111111111111111,
              "#46039f"
             ],
             [
              0.2222222222222222,
              "#7201a8"
             ],
             [
              0.3333333333333333,
              "#9c179e"
             ],
             [
              0.4444444444444444,
              "#bd3786"
             ],
             [
              0.5555555555555556,
              "#d8576b"
             ],
             [
              0.6666666666666666,
              "#ed7953"
             ],
             [
              0.7777777777777778,
              "#fb9f3a"
             ],
             [
              0.8888888888888888,
              "#fdca26"
             ],
             [
              1,
              "#f0f921"
             ]
            ],
            "type": "histogram2d"
           }
          ],
          "histogram2dcontour": [
           {
            "colorbar": {
             "outlinewidth": 0,
             "ticks": ""
            },
            "colorscale": [
             [
              0,
              "#0d0887"
             ],
             [
              0.1111111111111111,
              "#46039f"
             ],
             [
              0.2222222222222222,
              "#7201a8"
             ],
             [
              0.3333333333333333,
              "#9c179e"
             ],
             [
              0.4444444444444444,
              "#bd3786"
             ],
             [
              0.5555555555555556,
              "#d8576b"
             ],
             [
              0.6666666666666666,
              "#ed7953"
             ],
             [
              0.7777777777777778,
              "#fb9f3a"
             ],
             [
              0.8888888888888888,
              "#fdca26"
             ],
             [
              1,
              "#f0f921"
             ]
            ],
            "type": "histogram2dcontour"
           }
          ],
          "mesh3d": [
           {
            "colorbar": {
             "outlinewidth": 0,
             "ticks": ""
            },
            "type": "mesh3d"
           }
          ],
          "parcoords": [
           {
            "line": {
             "colorbar": {
              "outlinewidth": 0,
              "ticks": ""
             }
            },
            "type": "parcoords"
           }
          ],
          "pie": [
           {
            "automargin": true,
            "type": "pie"
           }
          ],
          "scatter": [
           {
            "marker": {
             "colorbar": {
              "outlinewidth": 0,
              "ticks": ""
             }
            },
            "type": "scatter"
           }
          ],
          "scatter3d": [
           {
            "line": {
             "colorbar": {
              "outlinewidth": 0,
              "ticks": ""
             }
            },
            "marker": {
             "colorbar": {
              "outlinewidth": 0,
              "ticks": ""
             }
            },
            "type": "scatter3d"
           }
          ],
          "scattercarpet": [
           {
            "marker": {
             "colorbar": {
              "outlinewidth": 0,
              "ticks": ""
             }
            },
            "type": "scattercarpet"
           }
          ],
          "scattergeo": [
           {
            "marker": {
             "colorbar": {
              "outlinewidth": 0,
              "ticks": ""
             }
            },
            "type": "scattergeo"
           }
          ],
          "scattergl": [
           {
            "marker": {
             "colorbar": {
              "outlinewidth": 0,
              "ticks": ""
             }
            },
            "type": "scattergl"
           }
          ],
          "scattermapbox": [
           {
            "marker": {
             "colorbar": {
              "outlinewidth": 0,
              "ticks": ""
             }
            },
            "type": "scattermapbox"
           }
          ],
          "scatterpolar": [
           {
            "marker": {
             "colorbar": {
              "outlinewidth": 0,
              "ticks": ""
             }
            },
            "type": "scatterpolar"
           }
          ],
          "scatterpolargl": [
           {
            "marker": {
             "colorbar": {
              "outlinewidth": 0,
              "ticks": ""
             }
            },
            "type": "scatterpolargl"
           }
          ],
          "scatterternary": [
           {
            "marker": {
             "colorbar": {
              "outlinewidth": 0,
              "ticks": ""
             }
            },
            "type": "scatterternary"
           }
          ],
          "surface": [
           {
            "colorbar": {
             "outlinewidth": 0,
             "ticks": ""
            },
            "colorscale": [
             [
              0,
              "#0d0887"
             ],
             [
              0.1111111111111111,
              "#46039f"
             ],
             [
              0.2222222222222222,
              "#7201a8"
             ],
             [
              0.3333333333333333,
              "#9c179e"
             ],
             [
              0.4444444444444444,
              "#bd3786"
             ],
             [
              0.5555555555555556,
              "#d8576b"
             ],
             [
              0.6666666666666666,
              "#ed7953"
             ],
             [
              0.7777777777777778,
              "#fb9f3a"
             ],
             [
              0.8888888888888888,
              "#fdca26"
             ],
             [
              1,
              "#f0f921"
             ]
            ],
            "type": "surface"
           }
          ],
          "table": [
           {
            "cells": {
             "fill": {
              "color": "#EBF0F8"
             },
             "line": {
              "color": "white"
             }
            },
            "header": {
             "fill": {
              "color": "#C8D4E3"
             },
             "line": {
              "color": "white"
             }
            },
            "type": "table"
           }
          ]
         },
         "layout": {
          "annotationdefaults": {
           "arrowcolor": "#2a3f5f",
           "arrowhead": 0,
           "arrowwidth": 1
          },
          "autotypenumbers": "strict",
          "coloraxis": {
           "colorbar": {
            "outlinewidth": 0,
            "ticks": ""
           }
          },
          "colorscale": {
           "diverging": [
            [
             0,
             "#8e0152"
            ],
            [
             0.1,
             "#c51b7d"
            ],
            [
             0.2,
             "#de77ae"
            ],
            [
             0.3,
             "#f1b6da"
            ],
            [
             0.4,
             "#fde0ef"
            ],
            [
             0.5,
             "#f7f7f7"
            ],
            [
             0.6,
             "#e6f5d0"
            ],
            [
             0.7,
             "#b8e186"
            ],
            [
             0.8,
             "#7fbc41"
            ],
            [
             0.9,
             "#4d9221"
            ],
            [
             1,
             "#276419"
            ]
           ],
           "sequential": [
            [
             0,
             "#0d0887"
            ],
            [
             0.1111111111111111,
             "#46039f"
            ],
            [
             0.2222222222222222,
             "#7201a8"
            ],
            [
             0.3333333333333333,
             "#9c179e"
            ],
            [
             0.4444444444444444,
             "#bd3786"
            ],
            [
             0.5555555555555556,
             "#d8576b"
            ],
            [
             0.6666666666666666,
             "#ed7953"
            ],
            [
             0.7777777777777778,
             "#fb9f3a"
            ],
            [
             0.8888888888888888,
             "#fdca26"
            ],
            [
             1,
             "#f0f921"
            ]
           ],
           "sequentialminus": [
            [
             0,
             "#0d0887"
            ],
            [
             0.1111111111111111,
             "#46039f"
            ],
            [
             0.2222222222222222,
             "#7201a8"
            ],
            [
             0.3333333333333333,
             "#9c179e"
            ],
            [
             0.4444444444444444,
             "#bd3786"
            ],
            [
             0.5555555555555556,
             "#d8576b"
            ],
            [
             0.6666666666666666,
             "#ed7953"
            ],
            [
             0.7777777777777778,
             "#fb9f3a"
            ],
            [
             0.8888888888888888,
             "#fdca26"
            ],
            [
             1,
             "#f0f921"
            ]
           ]
          },
          "colorway": [
           "#636efa",
           "#EF553B",
           "#00cc96",
           "#ab63fa",
           "#FFA15A",
           "#19d3f3",
           "#FF6692",
           "#B6E880",
           "#FF97FF",
           "#FECB52"
          ],
          "font": {
           "color": "#2a3f5f"
          },
          "geo": {
           "bgcolor": "white",
           "lakecolor": "white",
           "landcolor": "#E5ECF6",
           "showlakes": true,
           "showland": true,
           "subunitcolor": "white"
          },
          "hoverlabel": {
           "align": "left"
          },
          "hovermode": "closest",
          "mapbox": {
           "style": "light"
          },
          "paper_bgcolor": "white",
          "plot_bgcolor": "#E5ECF6",
          "polar": {
           "angularaxis": {
            "gridcolor": "white",
            "linecolor": "white",
            "ticks": ""
           },
           "bgcolor": "#E5ECF6",
           "radialaxis": {
            "gridcolor": "white",
            "linecolor": "white",
            "ticks": ""
           }
          },
          "scene": {
           "xaxis": {
            "backgroundcolor": "#E5ECF6",
            "gridcolor": "white",
            "gridwidth": 2,
            "linecolor": "white",
            "showbackground": true,
            "ticks": "",
            "zerolinecolor": "white"
           },
           "yaxis": {
            "backgroundcolor": "#E5ECF6",
            "gridcolor": "white",
            "gridwidth": 2,
            "linecolor": "white",
            "showbackground": true,
            "ticks": "",
            "zerolinecolor": "white"
           },
           "zaxis": {
            "backgroundcolor": "#E5ECF6",
            "gridcolor": "white",
            "gridwidth": 2,
            "linecolor": "white",
            "showbackground": true,
            "ticks": "",
            "zerolinecolor": "white"
           }
          },
          "shapedefaults": {
           "line": {
            "color": "#2a3f5f"
           }
          },
          "ternary": {
           "aaxis": {
            "gridcolor": "white",
            "linecolor": "white",
            "ticks": ""
           },
           "baxis": {
            "gridcolor": "white",
            "linecolor": "white",
            "ticks": ""
           },
           "bgcolor": "#E5ECF6",
           "caxis": {
            "gridcolor": "white",
            "linecolor": "white",
            "ticks": ""
           }
          },
          "title": {
           "x": 0.05
          },
          "xaxis": {
           "automargin": true,
           "gridcolor": "white",
           "linecolor": "white",
           "ticks": "",
           "title": {
            "standoff": 15
           },
           "zerolinecolor": "white",
           "zerolinewidth": 2
          },
          "yaxis": {
           "automargin": true,
           "gridcolor": "white",
           "linecolor": "white",
           "ticks": "",
           "title": {
            "standoff": 15
           },
           "zerolinecolor": "white",
           "zerolinewidth": 2
          }
         }
        },
        "title": {
         "text": "Efficient Frontier"
        },
        "xaxis": {
         "anchor": "y",
         "autorange": true,
         "domain": [
          0,
          1
         ],
         "range": [
          -0.0017659659143078334,
          0.07855083530925466
         ],
         "title": {
          "text": "Volatility"
         },
         "type": "linear"
        },
        "yaxis": {
         "anchor": "x",
         "autorange": true,
         "domain": [
          0,
          1
         ],
         "range": [
          -0.12819583196336867,
          2.3634260437928596
         ],
         "title": {
          "text": "Return"
         },
         "type": "linear"
        }
       }
      },
      "image/png": "[encoded data removed]",
      "text/html": [
       "<div>                            <div id=\"b826ab37-0f2f-4ccd-a99b-d78977a4fd94\" class=\"plotly-graph-div\" style=\"height:525px; width:100%;\"></div>            <script type=\"text/javascript\">                require([\"plotly\"], function(Plotly) {                    window.PLOTLYENV=window.PLOTLYENV || {};                                    if (document.getElementById(\"b826ab37-0f2f-4ccd-a99b-d78977a4fd94\")) {                    Plotly.newPlot(                        \"b826ab37-0f2f-4ccd-a99b-d78977a4fd94\",                        [{\"hovertemplate\": \"x=%{x}<br>y=%{y}<br>color=%{marker.color}<extra></extra>\", \"legendgroup\": \"\", \"marker\": {\"color\": [10.4756243816274, 18.400593789199533, 24.354789514223977, 28.294419494605304, 30.742626948563526, 32.23499581906478, 33.14608828986498, 33.7065162195862, 34.05299398133699, 34.266536992262665, 34.39587742134022, 34.4709425145972, 34.510515924285855, 34.52663527517125, 34.52716351031245, 34.517323928710695, 34.50063574066232, 34.47949855886363, 34.45476663125738, 34.41912282437763, 34.37144089969865, 34.313462621597466, 34.25060112582958, 34.18336506417137, 34.11349309353659, 34.04353722227919, 33.97302131749109, 33.90303858478835, 33.83160822361919, 33.76603048780136, 33.699934459315394, 33.635875983295115, 33.57295072135301, 33.51251972479922, 33.45364003786947, 33.39662886398049, 33.341464906211186, 33.288113766306246, 33.23622880683335, 33.18667066462049, 33.13817293877196, 33.08968373466739, 33.04594179170877, 33.001444966390736, 32.95836688917451, 32.91586252067476, 32.87431677688957, 32.83375853073583, 32.79343479118892, 32.753120095937525, 32.71791770439009, 32.68080880422694, 32.64506622877289, 32.610452799384404, 32.57640098398758, 32.54319904593169, 32.51033047425179, 32.47875582839713, 32.44566415509108, 32.40638758998461, 32.38489871802757, 32.35736323449393, 32.32771872678196, 32.2983847152244, 32.26967787612828, 32.23712949461668, 32.21181197343015, 32.18361632946736, 32.15329405476221, 32.12825199057914, 32.101269955587256, 32.075083198730105, 32.04834057038515, 32.02239998724218, 31.99682839354009, 31.96884436798041, 31.9467681888192, 31.920081313120743, 31.88836425626146, 31.869121838489395, 31.829183733645657, 31.767397914935486, 31.715966391835302, 31.643859430001438, 31.562153039919327, 31.462129561080225, 31.363132791928226, 31.26012668577927, 31.154962628496236, 31.041498345150522, 30.921456953117833, 30.796523672414697, 30.671326624901273, 30.54478671410794, 30.414212344554564, 30.29108428252171, 30.147995623965798, 30.01340975531047, 29.87679410369434, 29.74577054654464], \"coloraxis\": \"coloraxis\", \"symbol\": \"circle\"}, \"mode\": \"markers\", \"name\": \"\", \"orientation\": \"v\", \"showlegend\": false, \"type\": \"scatter\", \"x\": [0.002532149690064631, 0.002639483094803611, 0.002899235216525727, 0.0032745846112214537, 0.003730802773040422, 0.004241876929270354, 0.004790281462513812, 0.005364579902638641, 0.005957288419940568, 0.006563421158370258, 0.007179579055472773, 0.007803387685866862, 0.008433149367772712, 0.009067623886979462, 0.009705887072589913, 0.010347237749813871, 0.010991135561613814, 0.01163715797409994, 0.01228525455816066, 0.012938382778929468, 0.01359762584845992, 0.01426297910629048, 0.014932713319895206, 0.01560690744911584, 0.01628501720836346, 0.016965952318768244, 0.01764998264009131, 0.01833657010241756, 0.0190268120465911, 0.019716556802701242, 0.02040929979120852, 0.021103487029341738, 0.021799587585201383, 0.022496627921285647, 0.023195111003912777, 0.02389472017140534, 0.024595359288790437, 0.025296942978036193, 0.025999632149142485, 0.02670264634761617, 0.027406886284889884, 0.028113183313900846, 0.028817412977481197, 0.02952418477565246, 0.030231563645475603, 0.030940254803625517, 0.03164985565303049, 0.03236027903706798, 0.03307222320583184, 0.033785911054230074, 0.03449596700245351, 0.035209606458104864, 0.03592336482704236, 0.03663741925017034, 0.03735234714715134, 0.03806777704367535, 0.03878427054984478, 0.03950064056537257, 0.04022028524242796, 0.04094921319825462, 0.041657017159863675, 0.04237367794435908, 0.0430943707414377, 0.043815965278893886, 0.04453800611129116, 0.045266726304209345, 0.04598659417538491, 0.04671177150186299, 0.04744135816061277, 0.04816440517706953, 0.048891534692752675, 0.049618657294326, 0.050347841398864675, 0.051076964124985996, 0.051806671654017956, 0.052541511054625956, 0.05326778555238039, 0.05400286381710563, 0.05474780698575236, 0.05547251121516103, 0.056234631738942595, 0.05703786749781562, 0.05782534946513155, 0.05865368766245744, 0.059503901786307996, 0.06039366973467871, 0.0612871068022266, 0.06219417777233566, 0.06311161746322928, 0.0640523942688884, 0.06501389960241491, 0.06599338051069101, 0.06698141679538612, 0.0679805408030772, 0.0689971288086043, 0.0700052700055645, 0.07106866300145655, 0.07212176044062374, 0.07318931703312051, 0.0742527197048822], \"xaxis\": \"x\", \"y\": [0.02652584903117131, 0.04856805624094049, 0.07061026345070966, 0.09265247066047883, 0.11469467787024801, 0.1367368850800172, 0.15877909228978634, 0.18082129949955553, 0.2028635067093247, 0.2249057139190939, 0.24694792112886307, 0.26899012833863223, 0.2910323355484014, 0.3130745427581706, 0.3351167499679398, 0.35715895717770896, 0.37920116438747814, 0.4012433715972473, 0.4232855788070165, 0.4453277860167857, 0.46736999322655487, 0.489412200436324, 0.5114544076460932, 0.5334966148558623, 0.5555388220656314, 0.5775810292754007, 0.5996232364851698, 0.621665443694939, 0.6437076509047082, 0.6657498581144774, 0.6877920653242465, 0.7098342725340158, 0.7318764797437849, 0.753918686953554, 0.7759608941633233, 0.7980031013730924, 0.8200453085828616, 0.8420875157926307, 0.8641297230024, 0.8861719302121691, 0.9082141374219384, 0.9302563446317075, 0.9522985518414766, 0.9743407590512458, 0.996382966261015, 1.0184251734707843, 1.0404673806805533, 1.0625095878903226, 1.0845517951000916, 1.1065940023098608, 1.12863620951963, 1.1506784167293993, 1.1727206239391683, 1.1947628311489376, 1.2168050383587068, 1.238847245568476, 1.260889452778245, 1.2829316599880143, 1.3049738671977835, 1.3270160744075525, 1.3490582816173218, 1.371100488827091, 1.3931426960368603, 1.4151849032466293, 1.4372271104563985, 1.4592693176661677, 1.4813115248759368, 1.503353732085706, 1.5253959392954752, 1.5474381465052445, 1.5694803537150135, 1.5915225609247827, 1.613564768134552, 1.635606975344321, 1.6576491825540902, 1.6796913897638595, 1.7017335969736287, 1.7237758041833977, 1.745818011393167, 1.7678602186029362, 1.7899024258127054, 1.8119446330224744, 1.8339868402322437, 1.856029047442013, 1.878071254651782, 1.9001134618615512, 1.9221556690713204, 1.9441978762810896, 1.9662400834908587, 1.988282290700628, 2.010324497910397, 2.0323667051201664, 2.0544089123299356, 2.076451119539705, 2.098493326749474, 2.1205355339592433, 2.142577741169012, 2.1646199483787814, 2.1866621555885506, 2.20870436279832], \"yaxis\": \"y\"}],                        {\"coloraxis\": {\"colorbar\": {\"title\": {\"text\": \"color\"}}, \"colorscale\": [[0.0, \"#0d0887\"], [0.1111111111111111, \"#46039f\"], [0.2222222222222222, \"#7201a8\"], [0.3333333333333333, \"#9c179e\"], [0.4444444444444444, \"#bd3786\"], [0.5555555555555556, \"#d8576b\"], [0.6666666666666666, \"#ed7953\"], [0.7777777777777778, \"#fb9f3a\"], [0.8888888888888888, \"#fdca26\"], [1.0, \"#f0f921\"]]}, \"legend\": {\"tracegroupgap\": 0}, \"margin\": {\"t\": 60}, \"paper_bgcolor\": \"rgb(243, 243, 243)\", \"plot_bgcolor\": \"rgb(243, 243, 243)\", \"template\": {\"data\": {\"bar\": [{\"error_x\": {\"color\": \"#2a3f5f\"}, \"error_y\": {\"color\": \"#2a3f5f\"}, \"marker\": {\"line\": {\"color\": \"#E5ECF6\", \"width\": 0.5}}, \"type\": \"bar\"}], \"barpolar\": [{\"marker\": {\"line\": {\"color\": \"#E5ECF6\", \"width\": 0.5}}, \"type\": \"barpolar\"}], \"carpet\": [{\"aaxis\": {\"endlinecolor\": \"#2a3f5f\", \"gridcolor\": \"white\", \"linecolor\": \"white\", \"minorgridcolor\": \"white\", \"startlinecolor\": \"#2a3f5f\"}, \"baxis\": {\"endlinecolor\": \"#2a3f5f\", \"gridcolor\": \"white\", \"linecolor\": \"white\", \"minorgridcolor\": \"white\", \"startlinecolor\": \"#2a3f5f\"}, \"type\": \"carpet\"}], \"choropleth\": [{\"colorbar\": {\"outlinewidth\": 0, \"ticks\": \"\"}, \"type\": \"choropleth\"}], \"contour\": [{\"colorbar\": {\"outlinewidth\": 0, \"ticks\": \"\"}, \"colorscale\": [[0.0, \"#0d0887\"], [0.1111111111111111, \"#46039f\"], [0.2222222222222222, \"#7201a8\"], [0.3333333333333333, \"#9c179e\"], [0.4444444444444444, \"#bd3786\"], [0.5555555555555556, \"#d8576b\"], [0.6666666666666666, \"#ed7953\"], [0.7777777777777778, \"#fb9f3a\"], [0.8888888888888888, \"#fdca26\"], [1.0, \"#f0f921\"]], \"type\": \"contour\"}], \"contourcarpet\": [{\"colorbar\": {\"outlinewidth\": 0, \"ticks\": \"\"}, \"type\": \"contourcarpet\"}], \"heatmap\": [{\"colorbar\": {\"outlinewidth\": 0, \"ticks\": \"\"}, \"colorscale\": [[0.0, \"#0d0887\"], [0.1111111111111111, \"#46039f\"], [0.2222222222222222, \"#7201a8\"], [0.3333333333333333, \"#9c179e\"], [0.4444444444444444, \"#bd3786\"], [0.5555555555555556, \"#d8576b\"], [0.6666666666666666, \"#ed7953\"], [0.7777777777777778, \"#fb9f3a\"], [0.8888888888888888, \"#fdca26\"], [1.0, \"#f0f921\"]], \"type\": \"heatmap\"}], \"heatmapgl\": [{\"colorbar\": {\"outlinewidth\": 0, \"ticks\": \"\"}, \"colorscale\": [[0.0, \"#0d0887\"], [0.1111111111111111, \"#46039f\"], [0.2222222222222222, \"#7201a8\"], [0.3333333333333333, \"#9c179e\"], [0.4444444444444444, \"#bd3786\"], [0.5555555555555556, \"#d8576b\"], [0.6666666666666666, \"#ed7953\"], [0.7777777777777778, \"#fb9f3a\"], [0.8888888888888888, \"#fdca26\"], [1.0, \"#f0f921\"]], \"type\": \"heatmapgl\"}], \"histogram\": [{\"marker\": {\"colorbar\": {\"outlinewidth\": 0, \"ticks\": \"\"}}, \"type\": \"histogram\"}], \"histogram2d\": [{\"colorbar\": {\"outlinewidth\": 0, \"ticks\": \"\"}, \"colorscale\": [[0.0, \"#0d0887\"], [0.1111111111111111, \"#46039f\"], [0.2222222222222222, \"#7201a8\"], [0.3333333333333333, \"#9c179e\"], [0.4444444444444444, \"#bd3786\"], [0.5555555555555556, \"#d8576b\"], [0.6666666666666666, \"#ed7953\"], [0.7777777777777778, \"#fb9f3a\"], [0.8888888888888888, \"#fdca26\"], [1.0, \"#f0f921\"]], \"type\": \"histogram2d\"}], \"histogram2dcontour\": [{\"colorbar\": {\"outlinewidth\": 0, \"ticks\": \"\"}, \"colorscale\": [[0.0, \"#0d0887\"], [0.1111111111111111, \"#46039f\"], [0.2222222222222222, \"#7201a8\"], [0.3333333333333333, \"#9c179e\"], [0.4444444444444444, \"#bd3786\"], [0.5555555555555556, \"#d8576b\"], [0.6666666666666666, \"#ed7953\"], [0.7777777777777778, \"#fb9f3a\"], [0.8888888888888888, \"#fdca26\"], [1.0, \"#f0f921\"]], \"type\": \"histogram2dcontour\"}], \"mesh3d\": [{\"colorbar\": {\"outlinewidth\": 0, \"ticks\": \"\"}, \"type\": \"mesh3d\"}], \"parcoords\": [{\"line\": {\"colorbar\": {\"outlinewidth\": 0, \"ticks\": \"\"}}, \"type\": \"parcoords\"}], \"pie\": [{\"automargin\": true, \"type\": \"pie\"}], \"scatter\": [{\"marker\": {\"colorbar\": {\"outlinewidth\": 0, \"ticks\": \"\"}}, \"type\": \"scatter\"}], \"scatter3d\": [{\"line\": {\"colorbar\": {\"outlinewidth\": 0, \"ticks\": \"\"}}, \"marker\": {\"colorbar\": {\"outlinewidth\": 0, \"ticks\": \"\"}}, \"type\": \"scatter3d\"}], \"scattercarpet\": [{\"marker\": {\"colorbar\": {\"outlinewidth\": 0, \"ticks\": \"\"}}, \"type\": \"scattercarpet\"}], \"scattergeo\": [{\"marker\": {\"colorbar\": {\"outlinewidth\": 0, \"ticks\": \"\"}}, \"type\": \"scattergeo\"}], \"scattergl\": [{\"marker\": {\"colorbar\": {\"outlinewidth\": 0, \"ticks\": \"\"}}, \"type\": \"scattergl\"}], \"scattermapbox\": [{\"marker\": {\"colorbar\": {\"outlinewidth\": 0, \"ticks\": \"\"}}, \"type\": \"scattermapbox\"}], \"scatterpolar\": [{\"marker\": {\"colorbar\": {\"outlinewidth\": 0, \"ticks\": \"\"}}, \"type\": \"scatterpolar\"}], \"scatterpolargl\": [{\"marker\": {\"colorbar\": {\"outlinewidth\": 0, \"ticks\": \"\"}}, \"type\": \"scatterpolargl\"}], \"scatterternary\": [{\"marker\": {\"colorbar\": {\"outlinewidth\": 0, \"ticks\": \"\"}}, \"type\": \"scatterternary\"}], \"surface\": [{\"colorbar\": {\"outlinewidth\": 0, \"ticks\": \"\"}, \"colorscale\": [[0.0, \"#0d0887\"], [0.1111111111111111, \"#46039f\"], [0.2222222222222222, \"#7201a8\"], [0.3333333333333333, \"#9c179e\"], [0.4444444444444444, \"#bd3786\"], [0.5555555555555556, \"#d8576b\"], [0.6666666666666666, \"#ed7953\"], [0.7777777777777778, \"#fb9f3a\"], [0.8888888888888888, \"#fdca26\"], [1.0, \"#f0f921\"]], \"type\": \"surface\"}], \"table\": [{\"cells\": {\"fill\": {\"color\": \"#EBF0F8\"}, \"line\": {\"color\": \"white\"}}, \"header\": {\"fill\": {\"color\": \"#C8D4E3\"}, \"line\": {\"color\": \"white\"}}, \"type\": \"table\"}]}, \"layout\": {\"annotationdefaults\": {\"arrowcolor\": \"#2a3f5f\", \"arrowhead\": 0, \"arrowwidth\": 1}, \"autotypenumbers\": \"strict\", \"coloraxis\": {\"colorbar\": {\"outlinewidth\": 0, \"ticks\": \"\"}}, \"colorscale\": {\"diverging\": [[0, \"#8e0152\"], [0.1, \"#c51b7d\"], [0.2, \"#de77ae\"], [0.3, \"#f1b6da\"], [0.4, \"#fde0ef\"], [0.5, \"#f7f7f7\"], [0.6, \"#e6f5d0\"], [0.7, \"#b8e186\"], [0.8, \"#7fbc41\"], [0.9, \"#4d9221\"], [1, \"#276419\"]], \"sequential\": [[0.0, \"#0d0887\"], [0.1111111111111111, \"#46039f\"], [0.2222222222222222, \"#7201a8\"], [0.3333333333333333, \"#9c179e\"], [0.4444444444444444, \"#bd3786\"], [0.5555555555555556, \"#d8576b\"], [0.6666666666666666, \"#ed7953\"], [0.7777777777777778, \"#fb9f3a\"], [0.8888888888888888, \"#fdca26\"], [1.0, \"#f0f921\"]], \"sequentialminus\": [[0.0, \"#0d0887\"], [0.1111111111111111, \"#46039f\"], [0.2222222222222222, \"#7201a8\"], [0.3333333333333333, \"#9c179e\"], [0.4444444444444444, \"#bd3786\"], [0.5555555555555556, \"#d8576b\"], [0.6666666666666666, \"#ed7953\"], [0.7777777777777778, \"#fb9f3a\"], [0.8888888888888888, \"#fdca26\"], [1.0, \"#f0f921\"]]}, \"colorway\": [\"#636efa\", \"#EF553B\", \"#00cc96\", \"#ab63fa\", \"#FFA15A\", \"#19d3f3\", \"#FF6692\", \"#B6E880\", \"#FF97FF\", \"#FECB52\"], \"font\": {\"color\": \"#2a3f5f\"}, \"geo\": {\"bgcolor\": \"white\", \"lakecolor\": \"white\", \"landcolor\": \"#E5ECF6\", \"showlakes\": true, \"showland\": true, \"subunitcolor\": \"white\"}, \"hoverlabel\": {\"align\": \"left\"}, \"hovermode\": \"closest\", \"mapbox\": {\"style\": \"light\"}, \"paper_bgcolor\": \"white\", \"plot_bgcolor\": \"#E5ECF6\", \"polar\": {\"angularaxis\": {\"gridcolor\": \"white\", \"linecolor\": \"white\", \"ticks\": \"\"}, \"bgcolor\": \"#E5ECF6\", \"radialaxis\": {\"gridcolor\": \"white\", \"linecolor\": \"white\", \"ticks\": \"\"}}, \"scene\": {\"xaxis\": {\"backgroundcolor\": \"#E5ECF6\", \"gridcolor\": \"white\", \"gridwidth\": 2, \"linecolor\": \"white\", \"showbackground\": true, \"ticks\": \"\", \"zerolinecolor\": \"white\"}, \"yaxis\": {\"backgroundcolor\": \"#E5ECF6\", \"gridcolor\": \"white\", \"gridwidth\": 2, \"linecolor\": \"white\", \"showbackground\": true, \"ticks\": \"\", \"zerolinecolor\": \"white\"}, \"zaxis\": {\"backgroundcolor\": \"#E5ECF6\", \"gridcolor\": \"white\", \"gridwidth\": 2, \"linecolor\": \"white\", \"showbackground\": true, \"ticks\": \"\", \"zerolinecolor\": \"white\"}}, \"shapedefaults\": {\"line\": {\"color\": \"#2a3f5f\"}}, \"ternary\": {\"aaxis\": {\"gridcolor\": \"white\", \"linecolor\": \"white\", \"ticks\": \"\"}, \"baxis\": {\"gridcolor\": \"white\", \"linecolor\": \"white\", \"ticks\": \"\"}, \"bgcolor\": \"#E5ECF6\", \"caxis\": {\"gridcolor\": \"white\", \"linecolor\": \"white\", \"ticks\": \"\"}}, \"title\": {\"x\": 0.05}, \"xaxis\": {\"automargin\": true, \"gridcolor\": \"white\", \"linecolor\": \"white\", \"ticks\": \"\", \"title\": {\"standoff\": 15}, \"zerolinecolor\": \"white\", \"zerolinewidth\": 2}, \"yaxis\": {\"automargin\": true, \"gridcolor\": \"white\", \"linecolor\": \"white\", \"ticks\": \"\", \"title\": {\"standoff\": 15}, \"zerolinecolor\": \"white\", \"zerolinewidth\": 2}}}, \"title\": {\"text\": \"Efficient Frontier\"}, \"xaxis\": {\"anchor\": \"y\", \"domain\": [0.0, 1.0], \"title\": {\"text\": \"Volatility\"}}, \"yaxis\": {\"anchor\": \"x\", \"domain\": [0.0, 1.0], \"title\": {\"text\": \"Return\"}}},                        {\"responsive\": true}                    ).then(function(){\n",
       "                            \n",
       "var gd = document.getElementById('b826ab37-0f2f-4ccd-a99b-d78977a4fd94');\n",
       "var x = new MutationObserver(function (mutations, observer) {{\n",
       "        var display = window.getComputedStyle(gd).display;\n",
       "        if (!display || display === 'none') {{\n",
       "            console.log([gd, 'removed!']);\n",
       "            Plotly.purge(gd);\n",
       "            observer.disconnect();\n",
       "        }}\n",
       "}});\n",
       "\n",
       "// Listen for the removal of the full notebook cells\n",
       "var notebookContainer = gd.closest('#notebook-container');\n",
       "if (notebookContainer) {{\n",
       "    x.observe(notebookContainer, {childList: true});\n",
       "}}\n",
       "\n",
       "// Listen for the clearing of the current output cell\n",
       "var outputEl = gd.closest('.output');\n",
       "if (outputEl) {{\n",
       "    x.observe(outputEl, {childList: true});\n",
       "}}\n",
       "\n",
       "                        })                };                });            </script>        </div>"
      ]
     },
     "metadata": {},
     "output_type": "display_data"
    }
   ],
   "source": [
    "get_frontier()"
   ]
  },
  {
   "cell_type": "code",
   "execution_count": 13,
   "metadata": {},
   "outputs": [],
   "source": [
    "overview_row = pn.Row(get_cumulative_portfolios(),get_port_sharpes())"
   ]
  },
  {
   "cell_type": "code",
   "execution_count": 14,
   "metadata": {},
   "outputs": [
    {
     "name": "stdout",
     "output_type": "stream",
     "text": [
      "Running Monte Carlo simulation number 0.\n",
      "Running Monte Carlo simulation number 10.\n",
      "Running Monte Carlo simulation number 20.\n",
      "Running Monte Carlo simulation number 30.\n",
      "Running Monte Carlo simulation number 40.\n",
      "Running Monte Carlo simulation number 50.\n",
      "Running Monte Carlo simulation number 60.\n",
      "Running Monte Carlo simulation number 70.\n",
      "Running Monte Carlo simulation number 80.\n",
      "Running Monte Carlo simulation number 90.\n",
      "Running Monte Carlo simulation number 100.\n",
      "Running Monte Carlo simulation number 110.\n",
      "Running Monte Carlo simulation number 120.\n",
      "Running Monte Carlo simulation number 130.\n",
      "Running Monte Carlo simulation number 140.\n",
      "Running Monte Carlo simulation number 150.\n",
      "Running Monte Carlo simulation number 160.\n",
      "Running Monte Carlo simulation number 170.\n",
      "Running Monte Carlo simulation number 180.\n",
      "Running Monte Carlo simulation number 190.\n",
      "Running Monte Carlo simulation number 0.\n",
      "Running Monte Carlo simulation number 10.\n",
      "Running Monte Carlo simulation number 20.\n",
      "Running Monte Carlo simulation number 30.\n",
      "Running Monte Carlo simulation number 40.\n",
      "Running Monte Carlo simulation number 50.\n",
      "Running Monte Carlo simulation number 60.\n",
      "Running Monte Carlo simulation number 70.\n",
      "Running Monte Carlo simulation number 80.\n",
      "Running Monte Carlo simulation number 90.\n",
      "Running Monte Carlo simulation number 100.\n",
      "Running Monte Carlo simulation number 110.\n",
      "Running Monte Carlo simulation number 120.\n",
      "Running Monte Carlo simulation number 130.\n",
      "Running Monte Carlo simulation number 140.\n",
      "Running Monte Carlo simulation number 150.\n",
      "Running Monte Carlo simulation number 160.\n",
      "Running Monte Carlo simulation number 170.\n",
      "Running Monte Carlo simulation number 180.\n",
      "Running Monte Carlo simulation number 190.\n",
      "Running Monte Carlo simulation number 0.\n",
      "Running Monte Carlo simulation number 10.\n",
      "Running Monte Carlo simulation number 20.\n",
      "Running Monte Carlo simulation number 30.\n",
      "Running Monte Carlo simulation number 40.\n",
      "Running Monte Carlo simulation number 50.\n",
      "Running Monte Carlo simulation number 60.\n",
      "Running Monte Carlo simulation number 70.\n",
      "Running Monte Carlo simulation number 80.\n",
      "Running Monte Carlo simulation number 90.\n",
      "Running Monte Carlo simulation number 100.\n",
      "Running Monte Carlo simulation number 110.\n",
      "Running Monte Carlo simulation number 120.\n",
      "Running Monte Carlo simulation number 130.\n",
      "Running Monte Carlo simulation number 140.\n",
      "Running Monte Carlo simulation number 150.\n",
      "Running Monte Carlo simulation number 160.\n",
      "Running Monte Carlo simulation number 170.\n",
      "Running Monte Carlo simulation number 180.\n",
      "Running Monte Carlo simulation number 190.\n",
      "Running Monte Carlo simulation number 0.\n",
      "Running Monte Carlo simulation number 10.\n",
      "Running Monte Carlo simulation number 20.\n",
      "Running Monte Carlo simulation number 30.\n",
      "Running Monte Carlo simulation number 40.\n",
      "Running Monte Carlo simulation number 50.\n",
      "Running Monte Carlo simulation number 60.\n",
      "Running Monte Carlo simulation number 70.\n",
      "Running Monte Carlo simulation number 80.\n",
      "Running Monte Carlo simulation number 90.\n",
      "Running Monte Carlo simulation number 100.\n",
      "Running Monte Carlo simulation number 110.\n",
      "Running Monte Carlo simulation number 120.\n",
      "Running Monte Carlo simulation number 130.\n",
      "Running Monte Carlo simulation number 140.\n",
      "Running Monte Carlo simulation number 150.\n",
      "Running Monte Carlo simulation number 160.\n",
      "Running Monte Carlo simulation number 170.\n",
      "Running Monte Carlo simulation number 180.\n",
      "Running Monte Carlo simulation number 190.\n"
     ]
    }
   ],
   "source": [
    "trad_row = pn.Row(\n",
    "        pn.Row('# Traditional Portfolio'),\n",
    "        get_traditional_mc(),\n",
    "        '##There is a 95% chance that an initial investment of $1000 in the portfolio over the next 5 years will end within in the range of $1046.48 and $2876.67')\n",
    "\n",
    "btc_row = pn.Row(\n",
    "    pn.Row('# Bitcoin Portfolio'),\n",
    "    get_btc_mc(),\n",
    "    '## There is a 95% chance that an initial investment of $1000 in the portfolio over the next 5 years will end within in the range of $1686.03 and $5516.51')\n",
    "\n",
    "eth_row = pn.Row('# Ethereum Portfolio',\n",
    "    pn.Row(get_eth_mc(),\n",
    "    '## There is a 95% chance that an initial investment of $1000 in the portfolio over the next 5 years will end within in the range of $2656.66 and $10589.95'))\n",
    "\n",
    "alpha_row = pn.Row(\n",
    "    pn.Row('# Alpha Portfolio'),\n",
    "    pn.Row(get_alpha_mc(),\n",
    "    '## There is a 95% chance that an initial investment of $1000 in the portfolio over the next 5 years will end within in the range of $2970.51 and $9815.35'))\n",
    "\n",
    "overview_column = pn.Column(\n",
    "    '# How Does Each Portfolio Stack Up?',\n",
    "    pn.Row(get_cumulative_portfolios(),\n",
    "    get_port_sharpes())\n",
    ")\n",
    "\n",
    "mc_column = pn.Column(\n",
    "   pn.Row(trad_row,btc_row),pn.Row(eth_row,alpha_row)\n",
    ")\n",
    "\n",
    "ef_column = pn.Column('Efficient Frontier',\n",
    "                     get_frontier())\n",
    "\n",
    "vol_column = pn.Column(\n",
    "    pn.Row('# At a Glance - Volatility of Assets',\n",
    "    get_vol_box()), \n",
    "    pn.Row(get_vol_graph(),\n",
    "    get_port_returns_graph())\n",
    ")\n",
    "\n",
    "\n",
    "roll_column = pn.Column(\n",
    "    pn.Row('# At a Glance - Rolling 21 Day Average of Assets'),\n",
    "    pn.Row(get_rolling(),\n",
    "    get_ewm())\n",
    ")\n",
    "\n",
    "\n",
    "sharpe_column = pn.Column(\n",
    "    pn.Row('# At a Glance - Sharpe Ratios of Each Asset'),\n",
    "    pn.Row(get_all_histograms(),\n",
    "    get_sharpe_ratios())\n",
    ")\n",
    "\n",
    "\n",
    "heat_column = pn.Column(\n",
    "    '# Heatmap Correlations Related to Each Asset',\n",
    "    get_correlation()\n",
    ")\n"
   ]
  },
  {
   "cell_type": "code",
   "execution_count": 15,
   "metadata": {},
   "outputs": [],
   "source": [
    "tabs = pn.Tabs(\n",
    "    (\"Volatility\",vol_column),\n",
    "    (\"Rolling Averages\",roll_column),\n",
    "    (\"Sharpe Ratios\",sharpe_column),\n",
    "    (\"Heatmap\",heat_column),\n",
    "    (\"Effecient Frontier\",ef_column),\n",
    "    (\"Monte Carlo\", mc_column),\n",
    "    (\"Conclusion\", overview_column),\n",
    ")"
   ]
  },
  {
   "cell_type": "code",
   "execution_count": 16,
   "metadata": {},
   "outputs": [
    {
     "name": "stdout",
     "output_type": "stream",
     "text": [
      "Launching server at http://localhost:61162\n"
     ]
    },
    {
     "data": {
      "text/plain": [
       "<bokeh.server.server.Server at 0x7feedb0c5650>"
      ]
     },
     "execution_count": 16,
     "metadata": {},
     "output_type": "execute_result"
    }
   ],
   "source": [
    "tabs.show()"
   ]
  },
  {
   "cell_type": "code",
   "execution_count": null,
   "metadata": {},
   "outputs": [],
   "source": []
  },
  {
   "cell_type": "code",
   "execution_count": null,
   "metadata": {},
   "outputs": [],
   "source": []
  }
 ],
 "metadata": {
  "kernelspec": {
   "display_name": "Python [conda env:pyvizenv] *",
   "language": "python",
   "name": "conda-env-pyvizenv-py"
  },
  "language_info": {
   "codemirror_mode": {
    "name": "ipython",
    "version": 3
   },
   "file_extension": ".py",
   "mimetype": "text/x-python",
   "name": "python",
   "nbconvert_exporter": "python",
   "pygments_lexer": "ipython3",
   "version": "3.7.9"
  }
 },
 "nbformat": 4,
 "nbformat_minor": 5
}
