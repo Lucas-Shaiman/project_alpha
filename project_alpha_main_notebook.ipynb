{
 "cells": [
  {
   "cell_type": "code",
   "execution_count": 1,
   "metadata": {},
   "outputs": [],
   "source": [
    "from yahoo_fin.stock_info import get_data\n",
    "from datetime import date\n",
    "import plotly.express as px\n",
    "import pandas as pd\n",
    "import numpy as np\n",
    "from pathlib import Path\n",
    "import csv\n",
    "# import plotly.graph_objects as go\n",
    "# import plotly.figure_factory as ff\n",
    "# import matplotlib.pyplot as plt\n",
    "# import panel as pn\n",
    "# from panel.interact import interact\n",
    "from MCForecastTools import MCSimulation\n",
    "#pn.extension(\"plotly\")\n",
    "#%matplotlib inline\n",
    "\n",
    "\n",
    "today = date.today()\n",
    "spy = get_data(\"spy\", start_date=\"01/03/2016\", end_date=today, index_as_date = True, interval=\"1d\")\n",
    "xle = get_data(\"xle\", start_date=\"01/03/2016\", end_date=today, index_as_date = True, interval=\"1d\")\n",
    "xlf = get_data(\"xlf\", start_date=\"01/03/2016\", end_date=today, index_as_date = True, interval=\"1d\")\n",
    "gold = get_data(\"GLD\", start_date=\"01/03/2016\", end_date=today, index_as_date = True, interval=\"1d\")\n",
    "tlt = get_data(\"tlt\", start_date=\"01/03/2016\", end_date=today, index_as_date = True, interval=\"1d\")\n",
    "usd = get_data(\"dx-y.nyb\", start_date=\"01/03/2016\", end_date=today, index_as_date = True, interval=\"1d\")\n"
   ]
  },
  {
   "cell_type": "code",
   "execution_count": 2,
   "metadata": {},
   "outputs": [],
   "source": [
    "usd.fillna(method='bfill', inplace=True)\n",
    "# usd.head()"
   ]
  },
  {
   "cell_type": "code",
   "execution_count": 3,
   "metadata": {},
   "outputs": [],
   "source": [
    "# @TODO: Set file paths for btc_data.csv and eth_data.csv\n",
    "btc_filepath = Path('Resources/BTC-USD.csv')\n",
    "btc_df = pd.read_csv(btc_filepath, index_col=\"Date\", infer_datetime_format=True, parse_dates=True)\n",
    "\n",
    "# btc_df.head()\n"
   ]
  },
  {
   "cell_type": "code",
   "execution_count": 4,
   "metadata": {},
   "outputs": [],
   "source": [
    "btc_df.sort_index(inplace=True)\n",
    "# btc_df.head()"
   ]
  },
  {
   "cell_type": "code",
   "execution_count": 5,
   "metadata": {},
   "outputs": [],
   "source": [
    "eth_filepath = Path('Resources/ETH-USD.csv')\n",
    "eth_df = pd.read_csv(eth_filepath, index_col=\"Date\", infer_datetime_format=True, parse_dates=True)\n",
    "\n",
    "# eth_df.head()"
   ]
  },
  {
   "cell_type": "code",
   "execution_count": 6,
   "metadata": {},
   "outputs": [],
   "source": [
    "column = ['BTC', 'ETH', 'SPY', 'TLT', 'GLD', 'USD', 'XLE', 'XLF']\n",
    "\n",
    "combined_df = pd.concat([btc_df['Close'], eth_df['Close'], spy['close'], gold['close'], tlt['close'], usd['close'], xle['close'], xlf['close'],], axis=\"columns\", join=\"inner\")\n",
    "combined_df.columns = column\n",
    "# combined_df.head()"
   ]
  },
  {
   "cell_type": "code",
   "execution_count": 7,
   "metadata": {},
   "outputs": [],
   "source": [
    "# combined_df.isnull().sum()"
   ]
  },
  {
   "cell_type": "code",
   "execution_count": 8,
   "metadata": {},
   "outputs": [],
   "source": [
    "# combined_df.head()"
   ]
  },
  {
   "cell_type": "code",
   "execution_count": 9,
   "metadata": {},
   "outputs": [],
   "source": [
    "portfolio_returns  = combined_df.dropna()"
   ]
  },
  {
   "cell_type": "code",
   "execution_count": 10,
   "metadata": {},
   "outputs": [],
   "source": [
    "# portfolio_returns.isnull().sum()"
   ]
  },
  {
   "cell_type": "code",
   "execution_count": 11,
   "metadata": {},
   "outputs": [],
   "source": [
    "portfolio_returns = portfolio_returns.pct_change()"
   ]
  },
  {
   "cell_type": "code",
   "execution_count": 12,
   "metadata": {},
   "outputs": [],
   "source": [
    "portfolio_returns  = portfolio_returns.dropna()"
   ]
  },
  {
   "cell_type": "code",
   "execution_count": 13,
   "metadata": {},
   "outputs": [],
   "source": [
    "portfolio_returns.to_csv('data/portfolio_returns.csv')"
   ]
  },
  {
   "cell_type": "code",
   "execution_count": 14,
   "metadata": {},
   "outputs": [],
   "source": [
    "# port_returns_fig = px.line(portfolio_returns)\n",
    "# port_returns_fig.update_layout(\n",
    "#     title='Volatility',\n",
    "#     paper_bgcolor='rgb(243, 243, 243)',\n",
    "#     plot_bgcolor='rgb(243, 243, 243)',\n",
    "#     showlegend=True\n",
    "# )\n",
    "# port_returns_fig.show()"
   ]
  },
  {
   "cell_type": "code",
   "execution_count": 15,
   "metadata": {},
   "outputs": [],
   "source": [
    "# # Calculate cumulative returns of all portfolios\n",
    "# cumulative_returns = (1 + portfolio_returns).cumprod()\n",
    "# # Plot cumulative returns\n",
    "# volatility_fig = px.line(cumulative_returns)\n",
    "# volatility_fig.update_layout(\n",
    "#     title='Volatility',\n",
    "#     paper_bgcolor='rgb(243, 243, 243)',\n",
    "#     plot_bgcolor='rgb(243, 243, 243)',\n",
    "#     showlegend=True\n",
    "# )\n",
    "# volatility_fig.show()"
   ]
  },
  {
   "cell_type": "code",
   "execution_count": 16,
   "metadata": {},
   "outputs": [],
   "source": [
    "# vol_box_fig = go.Figure()\n",
    "# vol_box_fig.add_trace(go.Box(y=portfolio_returns['BTC'], name='Bitcoin',\n",
    "#                 marker_color = 'indianred', boxpoints=False))\n",
    "# vol_box_fig.add_trace(go.Box(y=portfolio_returns['ETH'], name = 'Ethereum',\n",
    "#                 marker_color = 'lightseagreen', boxpoints=False))\n",
    "# vol_box_fig.add_trace(go.Box(y=portfolio_returns['SPY'], name='S&P 500',\n",
    "#                 marker_color = 'blue', boxpoints=False))\n",
    "# vol_box_fig.add_trace(go.Box(y=portfolio_returns['TLT'], name = 'Bonds (TLT)',\n",
    "#                 marker_color = 'grey', boxpoints=False))\n",
    "# vol_box_fig.add_trace(go.Box(y=portfolio_returns['USD'], name = 'US Dollar',\n",
    "#                 marker_color = 'green', boxpoints=False))\n",
    "# vol_box_fig.add_trace(go.Box(y=portfolio_returns['GLD'], name='Gold',\n",
    "#                 marker_color = 'gold', boxpoints=False))\n",
    "# vol_box_fig.add_trace(go.Box(y=portfolio_returns['XLE'], name = 'Energy (XLE)',\n",
    "#                 marker_color = 'red', boxpoints=False))\n",
    "# vol_box_fig.add_trace(go.Box(y=portfolio_returns['XLF'], name = 'Financials (XLF)',\n",
    "#                 marker_color = 'black', boxpoints=False))\n",
    "\n",
    "# vol_box_fig.update_layout(\n",
    "#     title='Daily Return Distributions',\n",
    "#     paper_bgcolor='rgb(243, 243, 243)',\n",
    "#     plot_bgcolor='rgb(243, 243, 243)',\n",
    "#     showlegend=False\n",
    "# )\n",
    "\n",
    "# vol_box_fig.show()"
   ]
  },
  {
   "cell_type": "code",
   "execution_count": 17,
   "metadata": {},
   "outputs": [],
   "source": [
    "volatility = portfolio_returns.std()\n",
    "# volatility"
   ]
  },
  {
   "cell_type": "code",
   "execution_count": 18,
   "metadata": {},
   "outputs": [],
   "source": [
    "volatility = portfolio_returns.std() * np.sqrt(252)\n",
    "# volatility"
   ]
  },
  {
   "cell_type": "code",
   "execution_count": 19,
   "metadata": {},
   "outputs": [],
   "source": [
    "# # Calculate the rolling standard deviation for all portfolios using a 21-day window\n",
    "# roll = portfolio_returns.rolling(window=120).std()\n",
    "# # Plot the rolling standard deviation\n",
    "# portfolio_returns.rolling(window=120).std().plot(figsize=(20,6))"
   ]
  },
  {
   "cell_type": "code",
   "execution_count": 20,
   "metadata": {},
   "outputs": [],
   "source": [
    "# roll_120_fig = px.line(roll)\n",
    "# roll_120_fig.update_layout(\n",
    "#     title='Rolling Returns',\n",
    "#     paper_bgcolor='rgb(243, 243, 243)',\n",
    "#     plot_bgcolor='rgb(243, 243, 243)',\n",
    "#     showlegend=True\n",
    "# )\n",
    "# roll_120_fig.show()"
   ]
  },
  {
   "cell_type": "code",
   "execution_count": 21,
   "metadata": {},
   "outputs": [],
   "source": [
    "# Calculate the correlation\n",
    "price_correlation = portfolio_returns.corr()\n",
    "# Display de correlation matrix\n",
    "# price_correlation"
   ]
  },
  {
   "cell_type": "code",
   "execution_count": 22,
   "metadata": {},
   "outputs": [],
   "source": [
    "# Use `ewm` to calculate the rolling window\n",
    "# ewm_calc = portfolio_returns.ewm(halflife=120).std()"
   ]
  },
  {
   "cell_type": "code",
   "execution_count": 23,
   "metadata": {},
   "outputs": [],
   "source": [
    "# portfolio_returns.ewm(halflife=120).std().plot(figsize=(20, 10))"
   ]
  },
  {
   "cell_type": "code",
   "execution_count": 24,
   "metadata": {},
   "outputs": [],
   "source": [
    "# roll_120_line_fig = px.line(ewm_calc)\n",
    "# roll_120_line_fig.update_layout(\n",
    "#     title='Rolling Returns',\n",
    "#     paper_bgcolor='rgb(243, 243, 243)',\n",
    "#     plot_bgcolor='rgb(243, 243, 243)',\n",
    "#     showlegend=True\n",
    "# )\n",
    "# roll_120_line_fig.show()"
   ]
  },
  {
   "cell_type": "code",
   "execution_count": 25,
   "metadata": {},
   "outputs": [],
   "source": [
    "# Annualized Sharpe Ratios\n",
    "# sharpe_ratios = (portfolio_returns.mean() * 252) / (portfolio_returns.std() * np.sqrt(252))\n",
    "# sharpe_ratios['BTC']\n"
   ]
  },
  {
   "cell_type": "code",
   "execution_count": 26,
   "metadata": {},
   "outputs": [],
   "source": [
    "# Visualize the sharpe ratios as a bar plot\n",
    "# sharpe_ratios.plot(kind='bar',figsize=(20,6))"
   ]
  },
  {
   "cell_type": "code",
   "execution_count": 27,
   "metadata": {},
   "outputs": [],
   "source": [
    "# sharpe_bar_fig = px.bar(sharpe_ratios,labels=dict(x=\"Assets\", y=\"Sharpe Ratio\", color=\"Sharpe Ratio\"),color = sharpe_ratios, color_continuous_scale='Bluered_r')\n",
    "# sharpe_bar_fig.update_layout(\n",
    "#     title='Sharpe Ratios',\n",
    "#     paper_bgcolor='rgb(243, 243, 243)',\n",
    "#     plot_bgcolor='rgb(243, 243, 243)',\n",
    "#     showlegend=True\n",
    "# )\n",
    "# sharpe_bar_fig.show()"
   ]
  },
  {
   "cell_type": "code",
   "execution_count": 28,
   "metadata": {},
   "outputs": [],
   "source": [
    "# Calculate and plot the correlation\n",
    "price_correlation_new = portfolio_returns.corr()\n",
    "# Display de correlation matrix\n",
    "# price_correlation_new"
   ]
  },
  {
   "cell_type": "code",
   "execution_count": 29,
   "metadata": {},
   "outputs": [],
   "source": [
    "# sns.heatmap(price_correlation_new, vmin=-1, vmax=1,annot=True)"
   ]
  },
  {
   "cell_type": "code",
   "execution_count": 30,
   "metadata": {},
   "outputs": [],
   "source": [
    "# heatmap_fig = px.imshow(price_correlation_new, color_continuous_scale='Bluered_r', labels = dict(color='Corerelation'))\n",
    "# heatmap_fig.update_layout(\n",
    "#     title='Individual Asset Correlations',\n",
    "#     paper_bgcolor='rgb(243, 243, 243)',\n",
    "#     plot_bgcolor='rgb(243, 243, 243)',\n",
    "#     showlegend=True\n",
    "# )\n",
    "# heatmap_fig.show()"
   ]
  },
  {
   "cell_type": "code",
   "execution_count": 31,
   "metadata": {},
   "outputs": [],
   "source": [
    "# # Distribution Histogram\n",
    "\n",
    "# portfolio_returns.plot.hist(stacked=True, bins=100)\n",
    "\n",
    "# plt.subplot(4, 2, 1)\n",
    "# portfolio_returns['BTC'].plot.hist(bins = 50,figsize=(15,12))\n",
    "# plt.title('BTC')\n",
    "\n",
    "  \n",
    "# plt.subplot(4, 2, 2)\n",
    "# portfolio_returns['ETH'].plot.hist(bins = 50)\n",
    "# plt.title('ETH')\n",
    "  \n",
    "# plt.subplot(4, 2, 3)\n",
    "# portfolio_returns['SPY'].plot.hist(bins = 50)\n",
    "# plt.title('SPY')\n",
    "\n",
    "# plt.subplot(4, 2, 4)\n",
    "# portfolio_returns['TLT'].plot.hist(bins = 50)\n",
    "# plt.title('TLT')\n",
    "\n",
    "# plt.subplot(4, 2, 5)\n",
    "# portfolio_returns['GLD'].plot.hist(bins = 50)\n",
    "# plt.title('GLD')\n",
    "\n",
    "# plt.subplot(4, 2, 6)\n",
    "# portfolio_returns['XLE'].plot.hist(bins = 50)\n",
    "# plt.title('XLE')\n",
    "\n",
    "# plt.subplot(4, 2, 7)\n",
    "# portfolio_returns['XLF'].plot.hist(bins = 50)\n",
    "# plt.title('XLF')\n",
    "\n",
    "  \n",
    "# plt.show()\n",
    "\n"
   ]
  },
  {
   "cell_type": "code",
   "execution_count": 32,
   "metadata": {},
   "outputs": [],
   "source": [
    "# histogram_fig = px.histogram(portfolio_returns['BTC'])\n",
    "# histogram_fig.update_layout(\n",
    "#     title='BTC Daily Return Distribution',\n",
    "#     paper_bgcolor='rgb(243, 243, 243)',\n",
    "#     plot_bgcolor='rgb(243, 243, 243)',\n",
    "#     showlegend=True,\n",
    "#     barmode = 'stack'\n",
    "# )\n",
    "# histogram_fig.show()"
   ]
  },
  {
   "cell_type": "code",
   "execution_count": 33,
   "metadata": {},
   "outputs": [
    {
     "data": {
      "text/plain": [
       "2016-01-05    0.002039\n",
       "2016-01-06    0.000032\n",
       "2016-01-07   -0.006734\n",
       "2016-01-08   -0.006873\n",
       "2016-01-11   -0.003514\n",
       "2016-01-12    0.002853\n",
       "2016-01-13   -0.010040\n",
       "2016-01-14    0.001328\n",
       "2016-01-15   -0.005904\n",
       "2016-01-19    0.000141\n",
       "2016-01-20   -0.000483\n",
       "2016-01-21    0.002902\n",
       "2016-01-22    0.008466\n",
       "2016-01-25   -0.003278\n",
       "2016-01-26    0.011408\n",
       "2016-01-27   -0.004194\n",
       "2016-01-28   -0.001793\n",
       "2016-01-29    0.014710\n",
       "2016-02-01    0.003380\n",
       "2016-02-02   -0.008001\n",
       "2016-02-03    0.006077\n",
       "2016-02-04    0.005438\n",
       "2016-02-05   -0.002846\n",
       "2016-02-08   -0.000514\n",
       "2016-02-09   -0.001057\n",
       "2016-02-10    0.003015\n",
       "2016-02-11    0.009750\n",
       "2016-02-12    0.007346\n",
       "2016-02-16   -0.003758\n",
       "2016-02-17    0.010293\n",
       "                ...   \n",
       "2021-03-24   -0.000785\n",
       "2021-03-25    0.001154\n",
       "2021-03-26    0.008961\n",
       "2021-03-29   -0.005344\n",
       "2021-03-30   -0.007708\n",
       "2021-03-31    0.007777\n",
       "2021-04-01    0.011050\n",
       "2021-04-05    0.006633\n",
       "2021-04-06    0.003115\n",
       "2021-04-07   -0.000832\n",
       "2021-04-08    0.006871\n",
       "2021-04-09    0.000493\n",
       "2021-04-12   -0.002276\n",
       "2021-04-13    0.004534\n",
       "2021-04-14   -0.003691\n",
       "2021-04-15    0.012662\n",
       "2021-04-16    0.003642\n",
       "2021-04-19   -0.003974\n",
       "2021-04-20   -0.001914\n",
       "2021-04-21    0.008752\n",
       "2021-04-22   -0.006848\n",
       "2021-04-23    0.003514\n",
       "2021-04-26    0.002003\n",
       "2021-04-27   -0.001496\n",
       "2021-04-28    0.000902\n",
       "2021-04-29    0.001385\n",
       "2021-04-30   -0.004147\n",
       "2021-05-03    0.006046\n",
       "2021-05-04   -0.005490\n",
       "2021-05-05    0.001907\n",
       "Length: 1337, dtype: float64"
      ]
     },
     "execution_count": 33,
     "metadata": {},
     "output_type": "execute_result"
    }
   ],
   "source": [
    "# Set weights\n",
    "column = ['BTC', 'ETH', 'SPY', 'TLT', 'GLD', 'USD', 'XLE', 'XLF']\n",
    "\n",
    "weights = [0,0,0.50,0.40,0.05,0.05,0,0]\n",
    "\n",
    "# Calculate portfolio return\n",
    "\n",
    "traditional_portfolio = portfolio_returns.dot(weights)\n",
    "# portfolio_returns_new.set_index('Date')\n",
    "\n",
    "traditional_portfolio.dropna()\n",
    "\n",
    "# Display sample data\n",
    "# traditional_portfolio.head()"
   ]
  },
  {
   "cell_type": "code",
   "execution_count": 34,
   "metadata": {},
   "outputs": [
    {
     "data": {
      "text/plain": [
       "2016-01-05    0.001712\n",
       "2016-01-06   -0.001192\n",
       "2016-01-07    0.000405\n",
       "2016-01-08   -0.008311\n",
       "2016-01-11   -0.004122\n",
       "2016-01-12   -0.000830\n",
       "2016-01-13   -0.011274\n",
       "2016-01-14    0.001237\n",
       "2016-01-15   -0.021949\n",
       "2016-01-19    0.004623\n",
       "2016-01-20    0.009483\n",
       "2016-01-21    0.000884\n",
       "2016-01-22    0.001631\n",
       "2016-01-25   -0.001030\n",
       "2016-01-26    0.011493\n",
       "2016-01-27   -0.003231\n",
       "2016-01-28   -0.005384\n",
       "2016-01-29    0.013514\n",
       "2016-02-01    0.002242\n",
       "2016-02-02   -0.008490\n",
       "2016-02-03    0.006089\n",
       "2016-02-04    0.010927\n",
       "2016-02-05   -0.003976\n",
       "2016-02-08   -0.004742\n",
       "2016-02-09   -0.000160\n",
       "2016-02-10    0.004162\n",
       "2016-02-11    0.009049\n",
       "2016-02-12    0.009171\n",
       "2016-02-16    0.002351\n",
       "2016-02-17    0.012810\n",
       "                ...   \n",
       "2021-03-24   -0.004747\n",
       "2021-03-25   -0.000668\n",
       "2021-03-26    0.015835\n",
       "2021-03-29   -0.000272\n",
       "2021-03-30   -0.006142\n",
       "2021-03-31    0.008096\n",
       "2021-04-01    0.010751\n",
       "2021-04-05    0.006964\n",
       "2021-04-06    0.001451\n",
       "2021-04-07   -0.004232\n",
       "2021-04-08    0.010733\n",
       "2021-04-09    0.000485\n",
       "2021-04-12    0.000587\n",
       "2021-04-13    0.010344\n",
       "2021-04-14   -0.004065\n",
       "2021-04-15    0.012160\n",
       "2021-04-16    0.001340\n",
       "2021-04-19   -0.013061\n",
       "2021-04-20   -0.000894\n",
       "2021-04-21    0.004150\n",
       "2021-04-22   -0.011137\n",
       "2021-04-23    0.002597\n",
       "2021-04-26    0.007832\n",
       "2021-04-27    0.000757\n",
       "2021-04-28    0.000655\n",
       "2021-04-29   -0.000783\n",
       "2021-04-30    0.003200\n",
       "2021-05-03    0.005318\n",
       "2021-05-04   -0.012777\n",
       "2021-05-05    0.009483\n",
       "Length: 1337, dtype: float64"
      ]
     },
     "execution_count": 34,
     "metadata": {},
     "output_type": "execute_result"
    }
   ],
   "source": [
    "# Set weights\n",
    "column = ['BTC', 'ETH', 'SPY', 'TLT', 'GLD', 'USD', 'XLE', 'XLF']\n",
    "\n",
    "weights = [0.10,0,0.50,0.40,0,0,0,0]\n",
    "\n",
    "# Calculate portfolio return\n",
    "\n",
    "btc_portfolio = portfolio_returns.dot(weights)\n",
    "# portfolio_returns_new.set_index('Date')\n",
    "\n",
    "btc_portfolio.dropna()\n",
    "\n",
    "# Display sample data\n",
    "# btc_portfolio.head()"
   ]
  },
  {
   "cell_type": "code",
   "execution_count": 35,
   "metadata": {},
   "outputs": [
    {
     "data": {
      "text/plain": [
       "2016-01-05    0.001522\n",
       "2016-01-06   -0.000459\n",
       "2016-01-07   -0.007271\n",
       "2016-01-08   -0.002505\n",
       "2016-01-11    0.004518\n",
       "2016-01-12    0.009489\n",
       "2016-01-13   -0.011897\n",
       "2016-01-14    0.007437\n",
       "2016-01-15   -0.005069\n",
       "2016-01-19    0.013806\n",
       "2016-01-20    0.010638\n",
       "2016-01-21    0.004676\n",
       "2016-01-22    0.005033\n",
       "2016-01-25    0.063033\n",
       "2016-01-26    0.002466\n",
       "2016-01-27    0.000978\n",
       "2016-01-28    0.004108\n",
       "2016-01-29    0.012480\n",
       "2016-02-01   -0.007420\n",
       "2016-02-02    0.001444\n",
       "2016-02-03    0.010940\n",
       "2016-02-04    0.007569\n",
       "2016-02-05   -0.004709\n",
       "2016-02-08    0.023885\n",
       "2016-02-09    0.026347\n",
       "2016-02-10    0.012350\n",
       "2016-02-11    0.045116\n",
       "2016-02-12    0.000205\n",
       "2016-02-16   -0.025898\n",
       "2016-02-17   -0.002290\n",
       "                ...   \n",
       "2021-03-24   -0.006235\n",
       "2021-03-25    0.001481\n",
       "2021-03-26    0.015932\n",
       "2021-03-29    0.001851\n",
       "2021-03-30   -0.006715\n",
       "2021-03-31    0.012012\n",
       "2021-04-01    0.013522\n",
       "2021-04-05    0.013634\n",
       "2021-04-06    0.003414\n",
       "2021-04-07   -0.007502\n",
       "2021-04-08    0.012635\n",
       "2021-04-09   -0.000168\n",
       "2021-04-12    0.001002\n",
       "2021-04-13    0.011788\n",
       "2021-04-14    0.002466\n",
       "2021-04-15    0.015286\n",
       "2021-04-16    0.000630\n",
       "2021-04-19   -0.014490\n",
       "2021-04-20    0.005334\n",
       "2021-04-21    0.010178\n",
       "2021-04-22   -0.005520\n",
       "2021-04-23    0.002227\n",
       "2021-04-26    0.009332\n",
       "2021-04-27    0.003951\n",
       "2021-04-28    0.004170\n",
       "2021-04-29    0.001915\n",
       "2021-04-30   -0.004041\n",
       "2021-05-03    0.029992\n",
       "2021-05-04   -0.011189\n",
       "2021-05-05    0.010086\n",
       "Length: 1337, dtype: float64"
      ]
     },
     "execution_count": 35,
     "metadata": {},
     "output_type": "execute_result"
    }
   ],
   "source": [
    "# Set weights\n",
    "column = ['BTC', 'ETH', 'SPY', 'TLT', 'GLD', 'USD', 'XLE', 'XLF']\n",
    "\n",
    "weights = [0.00,0.10,0.50,0.40,0.00,0.00,0.00,0.00]\n",
    "\n",
    "# Calculate portfolio return\n",
    "\n",
    "eth_portfolio = portfolio_returns.dot(weights)\n",
    "# portfolio_returns_new.set_index('Date')\n",
    "\n",
    "eth_portfolio.dropna()\n",
    "\n",
    "# Display sample data\n",
    "# eth_portfolio.head()"
   ]
  },
  {
   "cell_type": "code",
   "execution_count": 36,
   "metadata": {},
   "outputs": [],
   "source": [
    "#Efficient Frontier\n",
    "#Dataframe for Efficient Frontier Calc.\n",
    "df2 = portfolio_returns.copy()\n",
    "df2.drop('XLE', axis=1, inplace=True)\n",
    "df2.drop('XLF', axis=1, inplace=True)\n",
    "df=portfolio_returns.copy()\n",
    "df.drop('XLE', axis=1, inplace=True)\n",
    "df.drop('XLF', axis=1, inplace=True)\n",
    "\n",
    "# Calculate annualized average return for each stock. Annualized average return = Daily average return * 252 business days.\n",
    "r = np.mean(df,axis=0)*252\n",
    "\n",
    "# Create a covariance matrix\n",
    "covar = df.cov()\n"
   ]
  },
  {
   "cell_type": "code",
   "execution_count": 37,
   "metadata": {},
   "outputs": [],
   "source": [
    "#Define frequently used functions.\n",
    "# r is each stock's return, w is the portion of each stock in our portfolio, and covar is the covariance matrix\n",
    "# Rate of return\n",
    "def ret(r,w):\n",
    "    return r.dot(w)\n",
    "# Risk level - or volatility\n",
    "def vol(w,covar):\n",
    "    return np.sqrt(np.dot(w,np.dot(w,covar)))\n",
    "def sharpe (ret,vol):\n",
    "    return ret/vol"
   ]
  },
  {
   "cell_type": "code",
   "execution_count": 38,
   "metadata": {},
   "outputs": [
    {
     "name": "stdout",
     "output_type": "stream",
     "text": [
      "[0.   0.   0.09 0.17 0.11 0.63]\n",
      "return:  2.65 risk:  0.003\n"
     ]
    }
   ],
   "source": [
    "# All weights, of course, must be between 0 and 1. Thus we set 0 and 1 as the boundaries.\n",
    "from scipy.optimize import Bounds\n",
    "bounds = Bounds(0, 1)\n",
    "\n",
    "# The second boundary is the sum of weights.\n",
    "from scipy.optimize import LinearConstraint\n",
    "linear_constraint = LinearConstraint(np.ones((df2.shape[1],), dtype=int),1,1)\n",
    "\n",
    "# Find a portfolio with the minimum risk.\n",
    "from scipy.optimize import minimize\n",
    "#Create x0, the first guess at the values of each stock's weight.\n",
    "weights = np.ones(df2.shape[1])\n",
    "x0 = weights/np.sum(weights)\n",
    "#Define a function to calculate volatility\n",
    "fun1 = lambda w: np.sqrt(np.dot(w,np.dot(w,covar)))\n",
    "res = minimize(fun1,x0,method='trust-constr',constraints = linear_constraint,bounds = bounds)\n",
    "\n",
    "#These are the weights of the stocks in the portfolio with the lowest level of risk possible.\n",
    "w_min = res.x\n",
    "\n",
    "np.set_printoptions(suppress = True, precision=2)\n",
    "print(w_min)\n",
    "print('return: % .2f'% (ret(r,w_min)*100), 'risk: % .3f'% vol(w_min,covar))"
   ]
  },
  {
   "cell_type": "code",
   "execution_count": 39,
   "metadata": {},
   "outputs": [
    {
     "name": "stdout",
     "output_type": "stream",
     "text": [
      "[0.07 0.08 0.27 0.2  0.24 0.15]\n",
      "return:  32.47 risk:  0.009\n"
     ]
    }
   ],
   "source": [
    "#Define 1/Sharpe_ratio\n",
    "fun2 = lambda w: np.sqrt(np.dot(w,np.dot(w,covar)))/r.dot(w)\n",
    "res_sharpe = minimize(fun2,x0,method='trust-constr',constraints = linear_constraint,bounds = bounds)\n",
    "\n",
    "#These are the weights of the stocks in the portfolio with the highest Sharpe ratio.\n",
    "w_sharpe = res_sharpe.x\n",
    "print(w_sharpe)\n",
    "print('return: % .2f'% (ret(r,w_sharpe)*100), 'risk: % .3f'% vol(w_sharpe,covar))\n"
   ]
  },
  {
   "cell_type": "code",
   "execution_count": 40,
   "metadata": {},
   "outputs": [],
   "source": [
    "w = w_min\n",
    "num_ports = 100\n",
    "gap = (np.amax(r) - ret(r,w_min))/num_ports\n",
    "\n",
    "\n",
    "all_weights = np.zeros((num_ports, len(df.columns)))\n",
    "all_weights[0],all_weights[1]=w_min,w_sharpe\n",
    "ret_arr = np.zeros(num_ports)\n",
    "ret_arr[0],ret_arr[1]=ret(r,w_min),ret(r,w_sharpe)\n",
    "vol_arr = np.zeros(num_ports)\n",
    "vol_arr[0],vol_arr[1]=vol(w_min,covar),vol(w_sharpe,covar)\n",
    "\n",
    "for i in range(num_ports):\n",
    "    port_ret = ret(r,w) + i*gap\n",
    "    double_constraint = LinearConstraint([np.ones(df2.shape[1]),r],[1,port_ret],[1,port_ret])\n",
    "    \n",
    "    #Create x0: initial guesses for weights.\n",
    "    x0 = w_min\n",
    "    #Define a function for portfolio volatility.\n",
    "    fun = lambda w: np.sqrt(np.dot(w,np.dot(w,covar)))\n",
    "    a = minimize(fun,x0,method='trust-constr',constraints = double_constraint,bounds = bounds)\n",
    "    \n",
    "    all_weights[i,:]=a.x\n",
    "    ret_arr[i]=port_ret\n",
    "    vol_arr[i]=vol(a.x,covar)\n",
    "    \n",
    "sharpe_arr = ret_arr/vol_arr  \n",
    "\n",
    "# plt.figure(figsize=(10,5))\n",
    "# plt.scatter(vol_arr, ret_arr, c=sharpe_arr, cmap='viridis')\n",
    "# plt.colorbar(label='Sharpe Ratio')\n",
    "# plt.xlabel('Volatility')\n",
    "# plt.ylabel('Return')\n",
    "# plt.show()"
   ]
  },
  {
   "cell_type": "code",
   "execution_count": 41,
   "metadata": {},
   "outputs": [],
   "source": [
    "w_sharpe_list =w_sharpe.tolist()\n",
    "round_w_sharpe_list = [round(num,2) for num in w_sharpe_list]\n",
    "# round_w_sharpe_list"
   ]
  },
  {
   "cell_type": "code",
   "execution_count": 42,
   "metadata": {},
   "outputs": [
    {
     "data": {
      "text/plain": [
       "2016-01-05    0.000313\n",
       "2016-01-06    0.001979\n",
       "2016-01-07   -0.000695\n",
       "2016-01-08    0.000781\n",
       "2016-01-11    0.001474\n",
       "2016-01-12    0.008988\n",
       "2016-01-13   -0.005091\n",
       "2016-01-14    0.003426\n",
       "2016-01-15   -0.009688\n",
       "2016-01-19    0.013327\n",
       "2016-01-20    0.018631\n",
       "2016-01-21   -0.000459\n",
       "2016-01-22   -0.002965\n",
       "2016-01-25    0.053833\n",
       "2016-01-26   -0.000979\n",
       "2016-01-27    0.001501\n",
       "2016-01-28    0.001040\n",
       "2016-01-29    0.009912\n",
       "2016-02-01   -0.010414\n",
       "2016-02-02    0.007970\n",
       "2016-02-03    0.001457\n",
       "2016-02-04    0.008017\n",
       "2016-02-05   -0.002586\n",
       "2016-02-08    0.021326\n",
       "2016-02-09    0.021297\n",
       "2016-02-10    0.011943\n",
       "2016-02-11    0.033760\n",
       "2016-02-12   -0.004286\n",
       "2016-02-16   -0.016188\n",
       "2016-02-17   -0.004780\n",
       "                ...   \n",
       "2021-03-24   -0.005655\n",
       "2021-03-25   -0.001855\n",
       "2021-03-26    0.013940\n",
       "2021-03-29    0.004529\n",
       "2021-03-30    0.000277\n",
       "2021-03-31    0.005812\n",
       "2021-04-01    0.011276\n",
       "2021-04-05    0.007461\n",
       "2021-04-06    0.002028\n",
       "2021-04-07   -0.009869\n",
       "2021-04-08    0.012374\n",
       "2021-04-09   -0.000977\n",
       "2021-04-12    0.003326\n",
       "2021-04-13    0.013740\n",
       "2021-04-14    0.001480\n",
       "2021-04-15    0.013103\n",
       "2021-04-16   -0.004625\n",
       "2021-04-19   -0.018763\n",
       "2021-04-20    0.007119\n",
       "2021-04-21    0.002891\n",
       "2021-04-22   -0.003907\n",
       "2021-04-23   -0.001409\n",
       "2021-04-26    0.010463\n",
       "2021-04-27    0.002873\n",
       "2021-04-28    0.002416\n",
       "2021-04-29   -0.001131\n",
       "2021-04-30    0.005174\n",
       "2021-05-03    0.020740\n",
       "2021-05-04   -0.009812\n",
       "2021-05-05    0.013328\n",
       "Length: 1337, dtype: float64"
      ]
     },
     "execution_count": 42,
     "metadata": {},
     "output_type": "execute_result"
    }
   ],
   "source": [
    "# Set weights\n",
    "column = ['BTC', 'ETH', 'SPY', 'TLT', 'GLD', 'USD', 'XLE', 'XLF']\n",
    "\n",
    "# weights = [0.09,0.09,0.32,0.29,0.20,0,0,0]\n",
    "# weights = [0.07,0.07,0.21,0.2,0.25,0.15,0,0.04]\n",
    "w_sharpe\n",
    "weights = round_w_sharpe_list + [0,0]\n",
    "\n",
    "\n",
    "\n",
    "# Calculate portfolio return\n",
    "\n",
    "alpha_portfolio = portfolio_returns.dot(weights)\n",
    "# portfolio_returns_new.set_index('Date')\n",
    "\n",
    "alpha_portfolio.dropna()\n",
    "\n",
    "# Display sample data\n",
    "# alpha_portfolio.head()\n"
   ]
  },
  {
   "cell_type": "code",
   "execution_count": 43,
   "metadata": {},
   "outputs": [],
   "source": [
    "# Create daily returns of all portfolios\n",
    "column = ['Traditional Portfolio', 'Bitcoin Portfolio', 'Ethereum Portfolio', 'Alpha Portfolio']\n",
    "\n",
    "combined_returns = pd.concat([traditional_portfolio, btc_portfolio, eth_portfolio, alpha_portfolio], axis=\"columns\", join=\"inner\")\n",
    "combined_returns.columns = column\n",
    "# combined_returns.head()\n"
   ]
  },
  {
   "cell_type": "code",
   "execution_count": 44,
   "metadata": {},
   "outputs": [],
   "source": [
    "combined_returns.to_csv('data/combined_returns.csv')"
   ]
  },
  {
   "cell_type": "code",
   "execution_count": 45,
   "metadata": {},
   "outputs": [],
   "source": [
    "# Calculate cumulative returns of all portfolios\n",
    "traditional_cum = (1 + traditional_portfolio).cumprod()\n",
    "btc_cum = (1 + btc_portfolio).cumprod()\n",
    "eth_cum = (1 + eth_portfolio).cumprod()\n",
    "alpha_cum = (1 + alpha_portfolio).cumprod()\n",
    "\n",
    "column = ['Traditional Portfolio', 'Bitcoin Portfolio', 'Ethereum Portfolio', 'Alpha Portfolio']\n",
    "\n",
    "combined_portfolios = pd.concat([traditional_cum, btc_cum, eth_cum, alpha_cum], axis=\"columns\", join=\"inner\")\n",
    "combined_portfolios.columns = column\n",
    "# combined_portfolios.head()"
   ]
  },
  {
   "cell_type": "code",
   "execution_count": 46,
   "metadata": {},
   "outputs": [],
   "source": [
    "combined_portfolios.to_csv('data/combined_portfolios.csv')"
   ]
  },
  {
   "cell_type": "code",
   "execution_count": 47,
   "metadata": {},
   "outputs": [],
   "source": [
    "# Plot cumulative returns\n",
    "# cumulative_returns.plot(figsize=(20,10), title=\"Cumulative Portfolio Returns\")\n",
    "\n",
    "# cum_returns = px.line(combined_portfolios)\n",
    "# cum_returns.update_layout(\n",
    "#     title='5 Year Cumulative Portfolio Returns',\n",
    "#     paper_bgcolor='rgb(243, 243, 243)',\n",
    "#     plot_bgcolor='rgb(243, 243, 243)',\n",
    "#     showlegend=True\n",
    "# )\n",
    "# cum_returns.show()"
   ]
  },
  {
   "cell_type": "code",
   "execution_count": 48,
   "metadata": {},
   "outputs": [],
   "source": [
    "portfolio_sharpe_ratios = (combined_returns.mean() * 252) / (combined_returns.std() * np.sqrt(252))\n",
    "# portfolio_sharpe_ratios"
   ]
  },
  {
   "cell_type": "code",
   "execution_count": 49,
   "metadata": {},
   "outputs": [],
   "source": [
    "# portfolio_sharpe_fig = px.bar(portfolio_sharpe_ratios,labels=dict(x=\"Assets\", y=\"Sharpe Ratio\", color=\"Sharpe Ratio\"),color = portfolio_sharpe_ratios, color_continuous_scale='Bluered_r')\n",
    "# portfolio_sharpe_fig.update_layout(\n",
    "#     title='Portoflio Sharpe Ratios',\n",
    "#     paper_bgcolor='rgb(243, 243, 243)',\n",
    "#     plot_bgcolor='rgb(243, 243, 243)',\n",
    "#     showlegend=True\n",
    "# )\n",
    "# portfolio_sharpe_fig.show()"
   ]
  },
  {
   "cell_type": "code",
   "execution_count": 50,
   "metadata": {},
   "outputs": [],
   "source": [
    "monte_carlo_df = combined_df.dropna()"
   ]
  },
  {
   "cell_type": "code",
   "execution_count": 51,
   "metadata": {},
   "outputs": [],
   "source": [
    "monte_carlo_df.to_csv('data/monte_carlo_dataframe.csv')"
   ]
  },
  {
   "cell_type": "code",
   "execution_count": 52,
   "metadata": {},
   "outputs": [],
   "source": [
    "# index_names = [\n",
    "# [\"BTC\", \"ETH\", \"SPY\", \"TLT\", \"GLD\", \"USD\", \"XLE\", \"XLF\"],\n",
    "# [\"close\", \"close\",\"close\",\"close\",\"close\",\"close\",\"close\",\"close\"]\n",
    "# ]\n",
    "# index_tuples = list(zip(*index_names))\n",
    "# new_index = pd.MultiIndex.from_tuples(index_tuples,names=[\"first\", \"second\"])\n",
    "# monte_carlo_df.columns = new_index"
   ]
  },
  {
   "cell_type": "code",
   "execution_count": 53,
   "metadata": {},
   "outputs": [],
   "source": [
    "# monte_carlo_df.head()"
   ]
  },
  {
   "cell_type": "code",
   "execution_count": 54,
   "metadata": {},
   "outputs": [],
   "source": [
    "# mc_traditional = MCSimulation(\n",
    "#     monte_carlo_df,\n",
    "#     weights = [0,0,0.50,0.40,0.05,0.05,0,0],\n",
    "#     num_simulation = 200,\n",
    "#     num_trading_days = 252*5\n",
    "# )"
   ]
  },
  {
   "cell_type": "code",
   "execution_count": 55,
   "metadata": {},
   "outputs": [],
   "source": [
    "# mc_traditional_plot = mc_traditional.plot_simulation()"
   ]
  },
  {
   "cell_type": "code",
   "execution_count": 56,
   "metadata": {},
   "outputs": [],
   "source": [
    "# mc_trad_px = mc_traditional.calc_cumulative_return()\n",
    "# mc_trad_fig = px.line(mc_trad_px)\n",
    "# mc_trad_fig.update_layout(\n",
    "#     title='Traditional Portfolio Monte Carlo Simulation',\n",
    "#     paper_bgcolor='rgb(243, 243, 243)',\n",
    "#     plot_bgcolor='rgb(243, 243, 243)',\n",
    "#     showlegend=True\n",
    "# )\n",
    "# mc_trad_fig.show()"
   ]
  },
  {
   "cell_type": "code",
   "execution_count": 57,
   "metadata": {},
   "outputs": [],
   "source": [
    "# mc_trad_tbl_5yr = mc_traditional.summarize_cumulative_return()\n",
    "\n",
    "# print(mc_trad_tbl_5yr)"
   ]
  },
  {
   "cell_type": "code",
   "execution_count": 58,
   "metadata": {},
   "outputs": [],
   "source": [
    "# # Set initial investment\n",
    "# initial_investment = 1000\n",
    "\n",
    "# # Use the lower and upper `95%` confidence intervals to calculate the range of the possible outcomes of our $1,000\n",
    "# ci_lower = round(mc_trad_tbl_5yr[8]*initial_investment,2)\n",
    "# ci_upper = round(mc_trad_tbl_5yr[9]*initial_investment,2)\n",
    "\n",
    "# # Print results\n",
    "# print(f\"There is a 95% chance that an initial investment of ${initial_investment} in the portfolio\"\n",
    "#       f\" over the next 5 years will end within in the range of\"\n",
    "#       f\" ${ci_lower} and ${ci_upper}\")"
   ]
  },
  {
   "cell_type": "code",
   "execution_count": 59,
   "metadata": {},
   "outputs": [],
   "source": [
    "# mc_btc_port = MCSimulation(\n",
    "#     monte_carlo_df,\n",
    "#     weights = [0.10,0,0.50,0.40,0,0,0,0],\n",
    "#     num_simulation = 200,\n",
    "#     num_trading_days = 252*5\n",
    "# )"
   ]
  },
  {
   "cell_type": "code",
   "execution_count": 60,
   "metadata": {},
   "outputs": [],
   "source": [
    "# mc_btc_px = mc_btc_port.calc_cumulative_return()"
   ]
  },
  {
   "cell_type": "code",
   "execution_count": 61,
   "metadata": {},
   "outputs": [],
   "source": [
    "# mc_btc_port_plot = mc_btc_port.plot_simulation()"
   ]
  },
  {
   "cell_type": "code",
   "execution_count": 62,
   "metadata": {},
   "outputs": [],
   "source": [
    "# mc_btc_fig = px.line(mc_btc_px)\n",
    "# mc_btc_fig.update_layout(\n",
    "#     title='Bitcoin Portfolio Monte Carlo Simulation',\n",
    "#     paper_bgcolor='rgb(243, 243, 243)',\n",
    "#     plot_bgcolor='rgb(243, 243, 243)',\n",
    "#     showlegend=True\n",
    "# )\n",
    "# mc_btc_fig.show()"
   ]
  },
  {
   "cell_type": "code",
   "execution_count": 63,
   "metadata": {},
   "outputs": [],
   "source": [
    "# mc_btc_tbl_5yr = mc_btc_port.summarize_cumulative_return()\n",
    "\n",
    "# print(mc_btc_tbl_5yr)"
   ]
  },
  {
   "cell_type": "code",
   "execution_count": 64,
   "metadata": {},
   "outputs": [],
   "source": [
    "# # Set initial investment\n",
    "# initial_investment = 1000\n",
    "\n",
    "# # Use the lower and upper `95%` confidence intervals to calculate the range of the possible outcomes of our $1,000\n",
    "# ci_lower = round(mc_btc_tbl_5yr[8]*initial_investment,2)\n",
    "# ci_upper = round(mc_btc_tbl_5yr[9]*initial_investment,2)\n",
    "\n",
    "# # Print results\n",
    "# print(f\"There is a 95% chance that an initial investment of ${initial_investment} in the portfolio\"\n",
    "#       f\" over the next 5 years will end within in the range of\"\n",
    "#       f\" ${ci_lower} and ${ci_upper}\")"
   ]
  },
  {
   "cell_type": "code",
   "execution_count": 65,
   "metadata": {},
   "outputs": [],
   "source": [
    "# mc_eth_port = MCSimulation(\n",
    "#     monte_carlo_df,\n",
    "#     weights = [0,0.10,0.50,0.40,0,0,0,0],\n",
    "#     num_simulation = 200,\n",
    "#     num_trading_days = 252*5\n",
    "# )"
   ]
  },
  {
   "cell_type": "code",
   "execution_count": 66,
   "metadata": {},
   "outputs": [],
   "source": [
    "# mc_eth_px = mc_eth_port.calc_cumulative_return()"
   ]
  },
  {
   "cell_type": "code",
   "execution_count": 67,
   "metadata": {},
   "outputs": [],
   "source": [
    "# mc_eth_port_plot = mc_eth_port.plot_simulation()"
   ]
  },
  {
   "cell_type": "code",
   "execution_count": 68,
   "metadata": {},
   "outputs": [],
   "source": [
    "# mc_eth_fig = px.line(mc_eth_px)\n",
    "# mc_eth_fig.update_layout(\n",
    "#     title='Etherium Portfolio Monte Carlo Simulation',\n",
    "#     paper_bgcolor='rgb(243, 243, 243)',\n",
    "#     plot_bgcolor='rgb(243, 243, 243)',\n",
    "#     showlegend=True\n",
    "# )\n",
    "# mc_eth_fig.show()"
   ]
  },
  {
   "cell_type": "code",
   "execution_count": 69,
   "metadata": {},
   "outputs": [],
   "source": [
    "# mc_eth_tbl_5yr = mc_eth_port.summarize_cumulative_return()\n",
    "\n",
    "# print(mc_eth_tbl_5yr)"
   ]
  },
  {
   "cell_type": "code",
   "execution_count": 70,
   "metadata": {},
   "outputs": [],
   "source": [
    "# # Set initial investment\n",
    "# initial_investment = 1000\n",
    "\n",
    "# # Use the lower and upper `95%` confidence intervals to calculate the range of the possible outcomes of our $1,000\n",
    "# ci_lower = round(mc_eth_tbl_5yr[8]*initial_investment,2)\n",
    "# ci_upper = round(mc_eth_tbl_5yr[9]*initial_investment,2)\n",
    "\n",
    "# # Print results\n",
    "# print(f\"There is a 95% chance that an initial investment of ${initial_investment} in the portfolio\"\n",
    "#       f\" over the next 5 years will end within in the range of\"\n",
    "#       f\" ${ci_lower} and ${ci_upper}\")"
   ]
  },
  {
   "cell_type": "code",
   "execution_count": 71,
   "metadata": {},
   "outputs": [],
   "source": [
    "# mc_alpha_portfolio = MCSimulation(\n",
    "#     monte_carlo_df,\n",
    "#     weights = [0.07,0.08,0.27,0.2,0.24,0.15,0,0],\n",
    "#     num_simulation = 200,\n",
    "#     num_trading_days = 252*5\n",
    "# )"
   ]
  },
  {
   "cell_type": "code",
   "execution_count": 72,
   "metadata": {},
   "outputs": [],
   "source": [
    "#mc_alpha_px = mc_alpha_portfolio.calc_cumulative_return()"
   ]
  },
  {
   "cell_type": "code",
   "execution_count": 73,
   "metadata": {},
   "outputs": [],
   "source": [
    "# mc_andre_alpha_blend_plot = mc_alpha_portfolio.plot_simulation()"
   ]
  },
  {
   "cell_type": "code",
   "execution_count": 74,
   "metadata": {},
   "outputs": [],
   "source": [
    "# mc_alpha_fig = px.line(mc_alpha_px)\n",
    "# mc_alpha_fig.update_layout(\n",
    "#     title='Alpha Portfolio Monte Carlo Simulation',\n",
    "#     paper_bgcolor='rgb(243, 243, 243)',\n",
    "#     plot_bgcolor='rgb(243, 243, 243)',\n",
    "#     showlegend=True\n",
    "# )\n",
    "# mc_alpha_fig.show()"
   ]
  },
  {
   "cell_type": "code",
   "execution_count": 75,
   "metadata": {},
   "outputs": [],
   "source": [
    "# mc_alpha_tbl_5yr = mc_alpha_portfolio.summarize_cumulative_return()\n",
    "\n",
    "# print(mc_alpha_tbl_5yr)"
   ]
  },
  {
   "cell_type": "code",
   "execution_count": 76,
   "metadata": {},
   "outputs": [],
   "source": [
    "# # Set initial investment\n",
    "# initial_investment = 1000\n",
    "\n",
    "# # Use the lower and upper `95%` confidence intervals to calculate the range of the possible outcomes of our $1,000\n",
    "# ci_lower = round(mc_alpha_tbl_5yr[8]*initial_investment,2)\n",
    "# ci_upper = round(mc_alpha_tbl_5yr[9]*initial_investment,2)\n",
    "\n",
    "# # Print results\n",
    "# print(f\"There is a 95% chance that an initial investment of ${initial_investment} in the portfolio\"\n",
    "#       f\" over the next 5 years will end within in the range of\"\n",
    "#       f\" ${ci_lower} and ${ci_upper}\")"
   ]
  }
 ],
 "metadata": {
  "kernelspec": {
   "display_name": "Python [conda env:pyvizenv] *",
   "language": "python",
   "name": "conda-env-pyvizenv-py"
  },
  "language_info": {
   "codemirror_mode": {
    "name": "ipython",
    "version": 3
   },
   "file_extension": ".py",
   "mimetype": "text/x-python",
   "name": "python",
   "nbconvert_exporter": "python",
   "pygments_lexer": "ipython3",
   "version": "3.7.9"
  }
 },
 "nbformat": 4,
 "nbformat_minor": 5
}
