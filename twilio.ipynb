{
 "cells": [
  {
   "cell_type": "code",
   "execution_count": 3,
   "metadata": {},
   "outputs": [],
   "source": [
    "from yahoo_fin import stock_info as si\n",
    "from yahoo_fin.stock_info import get_data\n",
    "from datetime import date\n",
    "from datetime import timedelta\n",
    "import os\n",
    "from twilio.rest import Client\n",
    "\n",
    "# account_sid = ''\n",
    "# auth_token = ''\n",
    "# client = Client(account_sid, auth_token)"
   ]
  },
  {
   "cell_type": "code",
   "execution_count": 4,
   "metadata": {},
   "outputs": [],
   "source": [
    "today = date.today()"
   ]
  },
  {
   "cell_type": "code",
   "execution_count": 5,
   "metadata": {},
   "outputs": [],
   "source": [
    "yesterday = today - timedelta(days = 5)"
   ]
  },
  {
   "cell_type": "code",
   "execution_count": 6,
   "metadata": {},
   "outputs": [
    {
     "data": {
      "text/plain": [
       "datetime.date(2021, 5, 8)"
      ]
     },
     "execution_count": 6,
     "metadata": {},
     "output_type": "execute_result"
    }
   ],
   "source": [
    "yesterday"
   ]
  },
  {
   "cell_type": "code",
   "execution_count": 8,
   "metadata": {},
   "outputs": [],
   "source": [
    "btc = get_data(\"btc-usd\", start_date=yesterday, end_date=today, index_as_date = True, interval=\"1d\")"
   ]
  },
  {
   "cell_type": "code",
   "execution_count": 9,
   "metadata": {},
   "outputs": [
    {
     "data": {
      "text/html": [
       "<div>\n",
       "<style scoped>\n",
       "    .dataframe tbody tr th:only-of-type {\n",
       "        vertical-align: middle;\n",
       "    }\n",
       "\n",
       "    .dataframe tbody tr th {\n",
       "        vertical-align: top;\n",
       "    }\n",
       "\n",
       "    .dataframe thead th {\n",
       "        text-align: right;\n",
       "    }\n",
       "</style>\n",
       "<table border=\"1\" class=\"dataframe\">\n",
       "  <thead>\n",
       "    <tr style=\"text-align: right;\">\n",
       "      <th></th>\n",
       "      <th>open</th>\n",
       "      <th>high</th>\n",
       "      <th>low</th>\n",
       "      <th>close</th>\n",
       "      <th>adjclose</th>\n",
       "      <th>volume</th>\n",
       "      <th>ticker</th>\n",
       "    </tr>\n",
       "  </thead>\n",
       "  <tbody>\n",
       "    <tr>\n",
       "      <th>2021-05-07</th>\n",
       "      <td>57352.765625</td>\n",
       "      <td>59464.613281</td>\n",
       "      <td>56975.210938</td>\n",
       "      <td>58803.777344</td>\n",
       "      <td>58803.777344</td>\n",
       "      <td>6.538298e+10</td>\n",
       "      <td>BTC-USD</td>\n",
       "    </tr>\n",
       "    <tr>\n",
       "      <th>2021-05-08</th>\n",
       "      <td>58877.390625</td>\n",
       "      <td>59210.882812</td>\n",
       "      <td>56482.003906</td>\n",
       "      <td>58232.316406</td>\n",
       "      <td>58232.316406</td>\n",
       "      <td>6.590669e+10</td>\n",
       "      <td>BTC-USD</td>\n",
       "    </tr>\n",
       "    <tr>\n",
       "      <th>2021-05-09</th>\n",
       "      <td>58250.871094</td>\n",
       "      <td>59519.355469</td>\n",
       "      <td>54071.457031</td>\n",
       "      <td>55859.796875</td>\n",
       "      <td>55859.796875</td>\n",
       "      <td>7.177655e+10</td>\n",
       "      <td>BTC-USD</td>\n",
       "    </tr>\n",
       "    <tr>\n",
       "      <th>2021-05-10</th>\n",
       "      <td>55847.242188</td>\n",
       "      <td>56872.542969</td>\n",
       "      <td>54608.652344</td>\n",
       "      <td>56704.574219</td>\n",
       "      <td>56704.574219</td>\n",
       "      <td>6.130840e+10</td>\n",
       "      <td>BTC-USD</td>\n",
       "    </tr>\n",
       "    <tr>\n",
       "      <th>2021-05-11</th>\n",
       "      <td>56714.531250</td>\n",
       "      <td>57939.363281</td>\n",
       "      <td>49150.535156</td>\n",
       "      <td>49150.535156</td>\n",
       "      <td>49150.535156</td>\n",
       "      <td>7.521540e+10</td>\n",
       "      <td>BTC-USD</td>\n",
       "    </tr>\n",
       "    <tr>\n",
       "      <th>2021-05-12</th>\n",
       "      <td>NaN</td>\n",
       "      <td>NaN</td>\n",
       "      <td>NaN</td>\n",
       "      <td>NaN</td>\n",
       "      <td>NaN</td>\n",
       "      <td>NaN</td>\n",
       "      <td>BTC-USD</td>\n",
       "    </tr>\n",
       "  </tbody>\n",
       "</table>\n",
       "</div>"
      ],
      "text/plain": [
       "                    open          high           low         close  \\\n",
       "2021-05-07  57352.765625  59464.613281  56975.210938  58803.777344   \n",
       "2021-05-08  58877.390625  59210.882812  56482.003906  58232.316406   \n",
       "2021-05-09  58250.871094  59519.355469  54071.457031  55859.796875   \n",
       "2021-05-10  55847.242188  56872.542969  54608.652344  56704.574219   \n",
       "2021-05-11  56714.531250  57939.363281  49150.535156  49150.535156   \n",
       "2021-05-12           NaN           NaN           NaN           NaN   \n",
       "\n",
       "                adjclose        volume   ticker  \n",
       "2021-05-07  58803.777344  6.538298e+10  BTC-USD  \n",
       "2021-05-08  58232.316406  6.590669e+10  BTC-USD  \n",
       "2021-05-09  55859.796875  7.177655e+10  BTC-USD  \n",
       "2021-05-10  56704.574219  6.130840e+10  BTC-USD  \n",
       "2021-05-11  49150.535156  7.521540e+10  BTC-USD  \n",
       "2021-05-12           NaN           NaN  BTC-USD  "
      ]
     },
     "execution_count": 9,
     "metadata": {},
     "output_type": "execute_result"
    }
   ],
   "source": [
    "btc"
   ]
  },
  {
   "cell_type": "code",
   "execution_count": 10,
   "metadata": {},
   "outputs": [
    {
     "data": {
      "text/plain": [
       "50015.02734375"
      ]
     },
     "execution_count": 10,
     "metadata": {},
     "output_type": "execute_result"
    }
   ],
   "source": [
    "si.get_live_price(\"btc-usd\")"
   ]
  },
  {
   "cell_type": "code",
   "execution_count": 11,
   "metadata": {},
   "outputs": [],
   "source": [
    "last = btc['close'].tail(-1).iloc[0]"
   ]
  },
  {
   "cell_type": "code",
   "execution_count": 17,
   "metadata": {},
   "outputs": [
    {
     "data": {
      "text/plain": [
       "2021-05-08    58232.316406\n",
       "2021-05-09    55859.796875\n",
       "2021-05-10    56704.574219\n",
       "2021-05-11    49150.535156\n",
       "2021-05-12             NaN\n",
       "Name: close, dtype: float64"
      ]
     },
     "execution_count": 17,
     "metadata": {},
     "output_type": "execute_result"
    }
   ],
   "source": [
    "btc['close'].tail(-1)"
   ]
  },
  {
   "cell_type": "code",
   "execution_count": 12,
   "metadata": {},
   "outputs": [
    {
     "data": {
      "text/plain": [
       "58232.31640625"
      ]
     },
     "execution_count": 12,
     "metadata": {},
     "output_type": "execute_result"
    }
   ],
   "source": [
    "last"
   ]
  },
  {
   "cell_type": "code",
   "execution_count": 106,
   "metadata": {},
   "outputs": [
    {
     "data": {
      "text/plain": [
       "99.11000061035156"
      ]
     },
     "execution_count": 106,
     "metadata": {},
     "output_type": "execute_result"
    }
   ],
   "source": [
    "btc['close'].tail(1).iloc[0]"
   ]
  },
  {
   "cell_type": "code",
   "execution_count": 107,
   "metadata": {},
   "outputs": [],
   "source": [
    "now = si.get_live_price(\"btc\")"
   ]
  },
  {
   "cell_type": "code",
   "execution_count": 108,
   "metadata": {},
   "outputs": [
    {
     "data": {
      "text/plain": [
       "99.11000061035156"
      ]
     },
     "execution_count": 108,
     "metadata": {},
     "output_type": "execute_result"
    }
   ],
   "source": [
    "now"
   ]
  },
  {
   "cell_type": "code",
   "execution_count": 109,
   "metadata": {},
   "outputs": [
    {
     "name": "stdout",
     "output_type": "stream",
     "text": [
      "SMad44e064d0c2489cbfe72cb29004f9f8\n"
     ]
    }
   ],
   "source": [
    "if now < last:\n",
    "    message = client.messages \\\n",
    "                .create(\n",
    "                     body=\"buy\",\n",
    "                     from_='phone-sender',\n",
    "                     to='phone'\n",
    "                 )\n",
    "    print(message.sid)\n",
    "else:\n",
    "    message = client.messages \\\n",
    "                .create(\n",
    "                     body=\"sell\",\n",
    "                     from_='phone-sender',\n",
    "                     to='phone'\n",
    "                 )\n",
    "    print(message.sid)\n",
    "    "
   ]
  },
  {
   "cell_type": "code",
   "execution_count": null,
   "metadata": {},
   "outputs": [],
   "source": []
  }
 ],
 "metadata": {
  "kernelspec": {
   "display_name": "Python [conda env:pyvizenv] *",
   "language": "python",
   "name": "conda-env-pyvizenv-py"
  },
  "language_info": {
   "codemirror_mode": {
    "name": "ipython",
    "version": 3
   },
   "file_extension": ".py",
   "mimetype": "text/x-python",
   "name": "python",
   "nbconvert_exporter": "python",
   "pygments_lexer": "ipython3",
   "version": "3.7.9"
  }
 },
 "nbformat": 4,
 "nbformat_minor": 4
}
